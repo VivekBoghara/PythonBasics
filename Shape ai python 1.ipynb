{
 "cells": [
  {
   "cell_type": "code",
   "execution_count": 3,
   "id": "210ddd23",
   "metadata": {},
   "outputs": [
    {
     "name": "stdout",
     "output_type": "stream",
     "text": [
      "Welcome\n"
     ]
    }
   ],
   "source": [
    "a=\"welcome\"\n",
    "print(a.upper().lower().capitalize())"
   ]
  },
  {
   "cell_type": "code",
   "execution_count": 3,
   "id": "4d1d9727",
   "metadata": {},
   "outputs": [
    {
     "name": "stdout",
     "output_type": "stream",
     "text": [
      "49\n",
      "98\n"
     ]
    }
   ],
   "source": [
    "x,y=98,49\n",
    "x,y=y,x     #For easily change x and y both into each other\n",
    "print(x)\n",
    "print(y)"
   ]
  },
  {
   "cell_type": "code",
   "execution_count": 4,
   "id": "ce41f49a",
   "metadata": {},
   "outputs": [
    {
     "name": "stdout",
     "output_type": "stream",
     "text": [
      "Hello world \n",
      "Hello World \n"
     ]
    }
   ],
   "source": [
    "x=\"hello World \"\n",
    "\n",
    "print(x.capitalize())\n",
    "print(x.title())"
   ]
  },
  {
   "cell_type": "code",
   "execution_count": 11,
   "id": "79a63961",
   "metadata": {},
   "outputs": [
    {
     "name": "stdout",
     "output_type": "stream",
     "text": [
      "example 1*\n"
     ]
    }
   ],
   "source": [
    "var=\"example 1\"         \n",
    "print(var.center(10,\"*\"))    #It will take total 10 character and try to keep the words in center"
   ]
  },
  {
   "cell_type": "code",
   "execution_count": 13,
   "id": "aca36701",
   "metadata": {},
   "outputs": [
    {
     "name": "stdout",
     "output_type": "stream",
     "text": [
      "********example 1********\n"
     ]
    }
   ],
   "source": [
    "print(var.center(25,\"*\"))     #if you write the number less than word size, then also it will print the whole name of var"
   ]
  },
  {
   "cell_type": "code",
   "execution_count": 14,
   "id": "0726cb84",
   "metadata": {},
   "outputs": [],
   "source": [
    "str=\"The fill character must be exactly one character long\""
   ]
  },
  {
   "cell_type": "code",
   "execution_count": 10,
   "id": "d198b120",
   "metadata": {},
   "outputs": [
    {
     "name": "stdout",
     "output_type": "stream",
     "text": [
      "The fill character must be EXACTLY one character long\n"
     ]
    }
   ],
   "source": [
    "print(str.replace(\"exactly\",\"exactly\".upper()))"
   ]
  },
  {
   "cell_type": "code",
   "execution_count": 11,
   "id": "658f3bd0",
   "metadata": {},
   "outputs": [
    {
     "name": "stdout",
     "output_type": "stream",
     "text": [
      "The fill chbrbcter must be exbctly one chbrbcter long\n"
     ]
    }
   ],
   "source": [
    "print(str.replace(\"a\",\"b\"))     #this will convert all the a of string into b"
   ]
  },
  {
   "cell_type": "code",
   "execution_count": 15,
   "id": "73d428a6",
   "metadata": {},
   "outputs": [
    {
     "name": "stdout",
     "output_type": "stream",
     "text": [
      "The fill chbasketballrbasketballcter must be exactly one character long\n"
     ]
    }
   ],
   "source": [
    "print(str.replace(\"a\",\"basketball\",2))    #This will convert first 4 a alphabet into basketball. After 2 a, remained a will be stay.\n"
   ]
  },
  {
   "cell_type": "code",
   "execution_count": 13,
   "id": "86ed1a7f",
   "metadata": {},
   "outputs": [
    {
     "data": {
      "text/plain": [
       "float"
      ]
     },
     "execution_count": 13,
     "metadata": {},
     "output_type": "execute_result"
    }
   ],
   "source": [
    "a=14.9\n",
    "type(a)"
   ]
  },
  {
   "cell_type": "code",
   "execution_count": 14,
   "id": "3ee001a4",
   "metadata": {},
   "outputs": [
    {
     "name": "stdout",
     "output_type": "stream",
     "text": [
      "14\n"
     ]
    }
   ],
   "source": [
    "b=int(a)\n",
    "print(b)"
   ]
  },
  {
   "cell_type": "code",
   "execution_count": null,
   "id": "b94b6d1c",
   "metadata": {},
   "outputs": [],
   "source": []
  },
  {
   "cell_type": "markdown",
   "id": "b7893827",
   "metadata": {},
   "source": [
    "## Python Data Structures\n",
    "\n",
    "organising, Structuring, Collection,Storing, Managing\n",
    "\n",
    "1.List\n",
    "2.Tuple\n",
    "3.Dict\n",
    "4.Set"
   ]
  },
  {
   "cell_type": "markdown",
   "id": "58ffdada",
   "metadata": {},
   "source": [
    "**List\n",
    "\n",
    "1.Python Data Structure\n",
    "\n",
    "2.Changeable -> CRUD (C-> Create, R-> Read, U-> Update, D-> Delete)\n",
    "\n",
    "3.Store hetrogeneous data-> Different Datatype \n",
    "\n",
    "4.It allows duplicate value"
   ]
  },
  {
   "cell_type": "code",
   "execution_count": 15,
   "id": "af9d0e30",
   "metadata": {},
   "outputs": [],
   "source": [
    "l= [\"Potatoes\",\"Tomatoes\",\"Pease\",\"Onion\",\"Cauliflower\",\"Ladyfinger\"]"
   ]
  },
  {
   "cell_type": "code",
   "execution_count": 16,
   "id": "63c95298",
   "metadata": {},
   "outputs": [
    {
     "data": {
      "text/plain": [
       "list"
      ]
     },
     "execution_count": 16,
     "metadata": {},
     "output_type": "execute_result"
    }
   ],
   "source": [
    "type(l)"
   ]
  },
  {
   "cell_type": "code",
   "execution_count": 17,
   "id": "8865ce80",
   "metadata": {},
   "outputs": [],
   "source": [
    "t = (\"Potatoes\",\"Tomatoes\",\"Pease\",\"Onion\",\"Cauliflower\",\"Ladyfinger\")"
   ]
  },
  {
   "cell_type": "code",
   "execution_count": 18,
   "id": "0dfda601",
   "metadata": {},
   "outputs": [
    {
     "data": {
      "text/plain": [
       "tuple"
      ]
     },
     "execution_count": 18,
     "metadata": {},
     "output_type": "execute_result"
    }
   ],
   "source": [
    "type(t)"
   ]
  },
  {
   "cell_type": "code",
   "execution_count": 25,
   "id": "7f1d3b3e",
   "metadata": {},
   "outputs": [],
   "source": [
    "s= {\"Potatoes\",\"Tomatoes\",\"Pease\",\"Onion\",\"Cauliflower\",\"Ladyfinger\"}"
   ]
  },
  {
   "cell_type": "code",
   "execution_count": 19,
   "id": "5e6b9e17",
   "metadata": {},
   "outputs": [
    {
     "data": {
      "text/plain": [
       "set"
      ]
     },
     "execution_count": 19,
     "metadata": {},
     "output_type": "execute_result"
    }
   ],
   "source": [
    "type(s)"
   ]
  },
  {
   "cell_type": "code",
   "execution_count": 28,
   "id": "6309adea",
   "metadata": {},
   "outputs": [
    {
     "data": {
      "text/plain": [
       "{'Cauliflower', 'Go', 'Ladyfinger', 'Onion', 'Pease', 'Potatoes', 'Tomatoes'}"
      ]
     },
     "execution_count": 28,
     "metadata": {},
     "output_type": "execute_result"
    }
   ],
   "source": [
    "s       #The set will automatically convert the elements intp alphabetically right form "
   ]
  },
  {
   "cell_type": "code",
   "execution_count": 29,
   "id": "b93a5534",
   "metadata": {},
   "outputs": [
    {
     "data": {
      "text/plain": [
       "'Cauliflower'"
      ]
     },
     "execution_count": 29,
     "metadata": {},
     "output_type": "execute_result"
    }
   ],
   "source": [
    "s.pop()"
   ]
  },
  {
   "cell_type": "code",
   "execution_count": 31,
   "id": "8390fa35",
   "metadata": {},
   "outputs": [
    {
     "name": "stdout",
     "output_type": "stream",
     "text": [
      "nums1 - nums2:  {1, 2, 3}\n",
      "nums2 - nums1:  {8, 6, 7}\n"
     ]
    }
   ],
   "source": [
    "nums1 = {1, 2, 2, 3, 4, 5}\n",
    "nums2 = {4, 5, 6, 7, 8, 8}\n",
    "\n",
    "nums3 = nums1.difference(nums2)     # This will return new set in which there will be elements which are not in nums2\n",
    "nums4 = nums2.difference(nums1)\n",
    "\n",
    "print(\"nums1 - nums2: \", nums3)\n",
    "print(\"nums2 - nums1: \", nums4)"
   ]
  },
  {
   "cell_type": "code",
   "execution_count": 32,
   "id": "f6f58ae4",
   "metadata": {},
   "outputs": [
    {
     "data": {
      "text/plain": [
       "{1, 2, 3}"
      ]
     },
     "execution_count": 32,
     "metadata": {},
     "output_type": "execute_result"
    }
   ],
   "source": [
    "nums1-nums2"
   ]
  },
  {
   "cell_type": "code",
   "execution_count": 33,
   "id": "1bc7eeae",
   "metadata": {},
   "outputs": [
    {
     "data": {
      "text/plain": [
       "{'Chicago', 'Honk Kong', 'New York'}"
      ]
     },
     "execution_count": 33,
     "metadata": {},
     "output_type": "execute_result"
    }
   ],
   "source": [
    "cities = {'Bangalore','Mumbai','New York','Honk Kong','Chicago'}\n",
    "indianCities = {'Bangalore','Mumbai'}\n",
    "\n",
    "cities-indianCities"
   ]
  },
  {
   "cell_type": "code",
   "execution_count": 30,
   "id": "8acd6e60",
   "metadata": {},
   "outputs": [
    {
     "data": {
      "text/plain": [
       "{'Go', 'Ladyfinger', 'Onion', 'Pease', 'Potatoes', 'Tomatoes'}"
      ]
     },
     "execution_count": 30,
     "metadata": {},
     "output_type": "execute_result"
    }
   ],
   "source": [
    "s"
   ]
  },
  {
   "cell_type": "code",
   "execution_count": 24,
   "id": "01d2d031",
   "metadata": {},
   "outputs": [],
   "source": [
    "l= [\"Potatoes\",\"Tomatoes\",\"Pease\",\"Onion\",\"Cauliflower\",\"Ladyfinger\"]"
   ]
  },
  {
   "cell_type": "code",
   "execution_count": 25,
   "id": "792171dd",
   "metadata": {},
   "outputs": [
    {
     "data": {
      "text/plain": [
       "['Ladyfinger']"
      ]
     },
     "execution_count": 25,
     "metadata": {},
     "output_type": "execute_result"
    }
   ],
   "source": [
    "l[-1:]"
   ]
  },
  {
   "cell_type": "code",
   "execution_count": 26,
   "id": "dcc4ada5",
   "metadata": {},
   "outputs": [
    {
     "data": {
      "text/plain": [
       "['Potatoes', 'Tomatoes', 'Pease', 'Onion', 'Cauliflower']"
      ]
     },
     "execution_count": 26,
     "metadata": {},
     "output_type": "execute_result"
    }
   ],
   "source": [
    "l[:-1]"
   ]
  },
  {
   "cell_type": "code",
   "execution_count": 27,
   "id": "374d86aa",
   "metadata": {},
   "outputs": [
    {
     "data": {
      "text/plain": [
       "[]"
      ]
     },
     "execution_count": 27,
     "metadata": {},
     "output_type": "execute_result"
    }
   ],
   "source": [
    "l[-1:-4]"
   ]
  },
  {
   "cell_type": "code",
   "execution_count": 29,
   "id": "7a549f82",
   "metadata": {},
   "outputs": [
    {
     "data": {
      "text/plain": [
       "['Pease', 'Onion', 'Cauliflower']"
      ]
     },
     "execution_count": 29,
     "metadata": {},
     "output_type": "execute_result"
    }
   ],
   "source": [
    "l[-4:-1]             #list slicing always work from low value at left side and high value at right side. Here, -4 is less than -1"
   ]
  },
  {
   "cell_type": "code",
   "execution_count": 35,
   "id": "45501982",
   "metadata": {},
   "outputs": [],
   "source": [
    "str1=\"Hello World\""
   ]
  },
  {
   "cell_type": "code",
   "execution_count": 32,
   "id": "8117cbde",
   "metadata": {},
   "outputs": [
    {
     "data": {
      "text/plain": [
       "'HloWr'"
      ]
     },
     "execution_count": 32,
     "metadata": {},
     "output_type": "execute_result"
    }
   ],
   "source": [
    "str1[0:9:2]"
   ]
  },
  {
   "cell_type": "code",
   "execution_count": 36,
   "id": "aeb45274",
   "metadata": {},
   "outputs": [
    {
     "data": {
      "text/plain": [
       "'HlW'"
      ]
     },
     "execution_count": 36,
     "metadata": {},
     "output_type": "execute_result"
    }
   ],
   "source": [
    "str1[0:9:3]"
   ]
  },
  {
   "cell_type": "markdown",
   "id": "0004c281",
   "metadata": {},
   "source": [
    "CRUD (C-> Create, R-> Read, U-> Update, D-> Delete)"
   ]
  },
  {
   "cell_type": "code",
   "execution_count": 34,
   "id": "6a1ada43",
   "metadata": {},
   "outputs": [
    {
     "data": {
      "text/plain": [
       "['Potatoes', 'Tomatoes', 'Pease', 'Onion', 'Cauliflower', 'Ladyfinger']"
      ]
     },
     "execution_count": 34,
     "metadata": {},
     "output_type": "execute_result"
    }
   ],
   "source": [
    "l"
   ]
  },
  {
   "cell_type": "code",
   "execution_count": 35,
   "id": "0b68a49d",
   "metadata": {},
   "outputs": [],
   "source": [
    "l[2]=\"Dhaniya\""
   ]
  },
  {
   "cell_type": "code",
   "execution_count": 36,
   "id": "9174bd98",
   "metadata": {},
   "outputs": [
    {
     "data": {
      "text/plain": [
       "['Potatoes', 'Tomatoes', 'Dhaniya', 'Onion', 'Cauliflower', 'Ladyfinger']"
      ]
     },
     "execution_count": 36,
     "metadata": {},
     "output_type": "execute_result"
    }
   ],
   "source": [
    "l"
   ]
  },
  {
   "cell_type": "markdown",
   "id": "5b3ef7b3",
   "metadata": {},
   "source": [
    "append() -> Adds the elements into the list in the end\n",
    "extend() -> Add the elements of two or more dictionary into one\n",
    "insert() -> Add the elements into the list with respect to the provided index"
   ]
  },
  {
   "cell_type": "code",
   "execution_count": 38,
   "id": "525c4607",
   "metadata": {},
   "outputs": [],
   "source": [
    "lis=list(range(4))"
   ]
  },
  {
   "cell_type": "code",
   "execution_count": 39,
   "id": "547dc83b",
   "metadata": {},
   "outputs": [
    {
     "data": {
      "text/plain": [
       "[0, 1, 2, 3]"
      ]
     },
     "execution_count": 39,
     "metadata": {},
     "output_type": "execute_result"
    }
   ],
   "source": [
    "lis"
   ]
  },
  {
   "cell_type": "code",
   "execution_count": 40,
   "id": "daf1b0d4",
   "metadata": {},
   "outputs": [],
   "source": [
    "lis.extend('new')"
   ]
  },
  {
   "cell_type": "code",
   "execution_count": 41,
   "id": "91f0f5c8",
   "metadata": {},
   "outputs": [
    {
     "data": {
      "text/plain": [
       "[0, 1, 2, 3, 'n', 'e', 'w']"
      ]
     },
     "execution_count": 41,
     "metadata": {},
     "output_type": "execute_result"
    }
   ],
   "source": [
    "lis"
   ]
  },
  {
   "cell_type": "code",
   "execution_count": 42,
   "id": "1daa49f6",
   "metadata": {},
   "outputs": [],
   "source": [
    "lis.extend(\"Hey\")"
   ]
  },
  {
   "cell_type": "code",
   "execution_count": 43,
   "id": "d0977211",
   "metadata": {},
   "outputs": [
    {
     "data": {
      "text/plain": [
       "[0, 1, 2, 3, 'n', 'e', 'w', 'H', 'e', 'y']"
      ]
     },
     "execution_count": 43,
     "metadata": {},
     "output_type": "execute_result"
    }
   ],
   "source": [
    "lis"
   ]
  },
  {
   "cell_type": "code",
   "execution_count": 44,
   "id": "487fdd85",
   "metadata": {},
   "outputs": [],
   "source": [
    "lis.append('new')"
   ]
  },
  {
   "cell_type": "code",
   "execution_count": 45,
   "id": "1019702e",
   "metadata": {},
   "outputs": [
    {
     "data": {
      "text/plain": [
       "[0, 1, 2, 3, 'n', 'e', 'w', 'H', 'e', 'y', 'new']"
      ]
     },
     "execution_count": 45,
     "metadata": {},
     "output_type": "execute_result"
    }
   ],
   "source": [
    "lis"
   ]
  },
  {
   "cell_type": "code",
   "execution_count": 44,
   "id": "42b6da42",
   "metadata": {},
   "outputs": [
    {
     "data": {
      "text/plain": [
       "'new'"
      ]
     },
     "execution_count": 44,
     "metadata": {},
     "output_type": "execute_result"
    }
   ],
   "source": [
    "lis[-1]"
   ]
  },
  {
   "cell_type": "code",
   "execution_count": 46,
   "id": "bd7c47d6",
   "metadata": {},
   "outputs": [],
   "source": [
    "lis.insert(2,\"Hello\")     #It will add the element into the fixed index. Like here it is inserted at index 2"
   ]
  },
  {
   "cell_type": "code",
   "execution_count": 47,
   "id": "7f453114",
   "metadata": {},
   "outputs": [
    {
     "data": {
      "text/plain": [
       "[0, 1, 'Hello', 2, 3, 'n', 'e', 'w', 'new']"
      ]
     },
     "execution_count": 47,
     "metadata": {},
     "output_type": "execute_result"
    }
   ],
   "source": [
    "lis"
   ]
  },
  {
   "cell_type": "code",
   "execution_count": 50,
   "id": "eba57a1c",
   "metadata": {},
   "outputs": [],
   "source": [
    "lis.insert(-1,\"hi\")       # list.insert at -1 will add the new element one before the end"
   ]
  },
  {
   "cell_type": "code",
   "execution_count": 51,
   "id": "96ace77b",
   "metadata": {},
   "outputs": [
    {
     "data": {
      "text/plain": [
       "[0, 1, 'Hello', 2, 3, 'n', 'e', 'w', 'hi', 'hi', 'new']"
      ]
     },
     "execution_count": 51,
     "metadata": {},
     "output_type": "execute_result"
    }
   ],
   "source": [
    "lis"
   ]
  },
  {
   "cell_type": "code",
   "execution_count": 46,
   "id": "98c3dba7",
   "metadata": {},
   "outputs": [],
   "source": [
    "l=[\"Mobile\",\"Television\",\"Radio\"]\n",
    "game=[\"COD\",\"Pubg\",\"Tample run\",\"COC\"]"
   ]
  },
  {
   "cell_type": "code",
   "execution_count": 47,
   "id": "47e24fa1",
   "metadata": {},
   "outputs": [],
   "source": [
    "l.append(game)"
   ]
  },
  {
   "cell_type": "code",
   "execution_count": 48,
   "id": "42a8e588",
   "metadata": {},
   "outputs": [
    {
     "data": {
      "text/plain": [
       "['Mobile', 'Television', 'Radio', ['COD', 'Pubg', 'Tample run', 'COC']]"
      ]
     },
     "execution_count": 48,
     "metadata": {},
     "output_type": "execute_result"
    }
   ],
   "source": [
    "l"
   ]
  },
  {
   "cell_type": "code",
   "execution_count": 49,
   "id": "69ec0f98",
   "metadata": {},
   "outputs": [],
   "source": [
    "l=[\"Mobile\",\"Television\",\"Radio\"]\n",
    "game=[\"COD\",\"Pubg\",\"Tample run\",\"COC\"]\n",
    "\n",
    "l.extend(game)"
   ]
  },
  {
   "cell_type": "code",
   "execution_count": 50,
   "id": "13622d3e",
   "metadata": {},
   "outputs": [
    {
     "data": {
      "text/plain": [
       "['Mobile', 'Television', 'Radio', 'COD', 'Pubg', 'Tample run', 'COC']"
      ]
     },
     "execution_count": 50,
     "metadata": {},
     "output_type": "execute_result"
    }
   ],
   "source": [
    "l"
   ]
  },
  {
   "cell_type": "markdown",
   "id": "e478a734",
   "metadata": {},
   "source": [
    "remove(Give me the name of an element)\n",
    "pop(Give me an index of an element)\n",
    "del() -> delete it, just give me the index"
   ]
  },
  {
   "cell_type": "code",
   "execution_count": 51,
   "id": "78615eed",
   "metadata": {},
   "outputs": [
    {
     "data": {
      "text/plain": [
       "'Radio'"
      ]
     },
     "execution_count": 51,
     "metadata": {},
     "output_type": "execute_result"
    }
   ],
   "source": [
    "l.pop(2)"
   ]
  },
  {
   "cell_type": "code",
   "execution_count": 52,
   "id": "ec4915ad",
   "metadata": {},
   "outputs": [
    {
     "data": {
      "text/plain": [
       "['Mobile', 'Television', 'COD', 'Pubg', 'Tample run', 'COC']"
      ]
     },
     "execution_count": 52,
     "metadata": {},
     "output_type": "execute_result"
    }
   ],
   "source": [
    "l"
   ]
  },
  {
   "cell_type": "code",
   "execution_count": 53,
   "id": "41c77742",
   "metadata": {},
   "outputs": [],
   "source": [
    "del l[1]      #It will also remove the data at the given index"
   ]
  },
  {
   "cell_type": "code",
   "execution_count": 54,
   "id": "0b2bb684",
   "metadata": {},
   "outputs": [
    {
     "data": {
      "text/plain": [
       "['Mobile', 'COD', 'Pubg', 'Tample run', 'COC']"
      ]
     },
     "execution_count": 54,
     "metadata": {},
     "output_type": "execute_result"
    }
   ],
   "source": [
    "l"
   ]
  },
  {
   "cell_type": "code",
   "execution_count": 55,
   "id": "df5c5895",
   "metadata": {},
   "outputs": [],
   "source": [
    "l.remove(\"Tample run\")"
   ]
  },
  {
   "cell_type": "code",
   "execution_count": 56,
   "id": "e2c06fb6",
   "metadata": {},
   "outputs": [
    {
     "data": {
      "text/plain": [
       "['Mobile', 'COD', 'Pubg', 'COC']"
      ]
     },
     "execution_count": 56,
     "metadata": {},
     "output_type": "execute_result"
    }
   ],
   "source": [
    "l"
   ]
  },
  {
   "cell_type": "code",
   "execution_count": 57,
   "id": "7713c185",
   "metadata": {},
   "outputs": [
    {
     "data": {
      "text/plain": [
       "'Pubg'"
      ]
     },
     "execution_count": 57,
     "metadata": {},
     "output_type": "execute_result"
    }
   ],
   "source": [
    "l.pop(2)"
   ]
  },
  {
   "cell_type": "code",
   "execution_count": 58,
   "id": "82294464",
   "metadata": {},
   "outputs": [
    {
     "data": {
      "text/plain": [
       "['Mobile', 'COD', 'COC']"
      ]
     },
     "execution_count": 58,
     "metadata": {},
     "output_type": "execute_result"
    }
   ],
   "source": [
    "l"
   ]
  },
  {
   "cell_type": "code",
   "execution_count": 63,
   "id": "4e48f06d",
   "metadata": {},
   "outputs": [
    {
     "data": {
      "text/plain": [
       "'COC'"
      ]
     },
     "execution_count": 63,
     "metadata": {},
     "output_type": "execute_result"
    }
   ],
   "source": [
    "l.pop()      #When you don't give index in pop, Then it will remove the last element by default from the list"
   ]
  },
  {
   "cell_type": "code",
   "execution_count": 64,
   "id": "57adf9a4",
   "metadata": {},
   "outputs": [
    {
     "data": {
      "text/plain": [
       "['Mobile', 'Television', 'COD', 'Pubg']"
      ]
     },
     "execution_count": 64,
     "metadata": {},
     "output_type": "execute_result"
    }
   ],
   "source": [
    "l"
   ]
  },
  {
   "cell_type": "code",
   "execution_count": 59,
   "id": "a79d91e6",
   "metadata": {},
   "outputs": [],
   "source": [
    "list1=[[1,2,3],[4,5,6]]"
   ]
  },
  {
   "cell_type": "code",
   "execution_count": 60,
   "id": "03696633",
   "metadata": {},
   "outputs": [
    {
     "data": {
      "text/plain": [
       "6"
      ]
     },
     "execution_count": 60,
     "metadata": {},
     "output_type": "execute_result"
    }
   ],
   "source": [
    "list1[1][2]"
   ]
  },
  {
   "cell_type": "code",
   "execution_count": 69,
   "id": "b2376c25",
   "metadata": {},
   "outputs": [],
   "source": [
    "list1[1].remove(4)"
   ]
  },
  {
   "cell_type": "code",
   "execution_count": 70,
   "id": "6012f25f",
   "metadata": {},
   "outputs": [
    {
     "data": {
      "text/plain": [
       "[[1, 2, 3], [5, 6]]"
      ]
     },
     "execution_count": 70,
     "metadata": {},
     "output_type": "execute_result"
    }
   ],
   "source": [
    "list1"
   ]
  },
  {
   "cell_type": "code",
   "execution_count": 74,
   "id": "49a07de3",
   "metadata": {},
   "outputs": [],
   "source": [
    "list2=[1,2,3,4,5,3,6]        #When there is same element in list, then using remove function will remove the element from the starting index"
   ]
  },
  {
   "cell_type": "code",
   "execution_count": 75,
   "id": "c2cc0cf4",
   "metadata": {},
   "outputs": [],
   "source": [
    "list2.remove(3)"
   ]
  },
  {
   "cell_type": "code",
   "execution_count": 76,
   "id": "383e4fe5",
   "metadata": {},
   "outputs": [
    {
     "data": {
      "text/plain": [
       "[1, 2, 4, 5, 3, 6]"
      ]
     },
     "execution_count": 76,
     "metadata": {},
     "output_type": "execute_result"
    }
   ],
   "source": [
    "list2"
   ]
  },
  {
   "cell_type": "code",
   "execution_count": 77,
   "id": "d50c62f6",
   "metadata": {},
   "outputs": [
    {
     "data": {
      "text/plain": [
       "['Mobile', 'Television', 'COD', 'Pubg']"
      ]
     },
     "execution_count": 77,
     "metadata": {},
     "output_type": "execute_result"
    }
   ],
   "source": [
    "l"
   ]
  },
  {
   "cell_type": "code",
   "execution_count": 78,
   "id": "b8f8ed7b",
   "metadata": {},
   "outputs": [],
   "source": [
    "del l[1]       #del should be with square bracket []"
   ]
  },
  {
   "cell_type": "code",
   "execution_count": 79,
   "id": "02ace00a",
   "metadata": {},
   "outputs": [
    {
     "data": {
      "text/plain": [
       "['Mobile', 'COD', 'Pubg']"
      ]
     },
     "execution_count": 79,
     "metadata": {},
     "output_type": "execute_result"
    }
   ],
   "source": [
    "l"
   ]
  },
  {
   "cell_type": "code",
   "execution_count": 61,
   "id": "5b20bb0c",
   "metadata": {},
   "outputs": [
    {
     "ename": "SyntaxError",
     "evalue": "leading zeros in decimal integer literals are not permitted; use an 0o prefix for octal integers (<ipython-input-61-e606ce14b3d3>, line 1)",
     "output_type": "error",
     "traceback": [
      "\u001b[1;36m  File \u001b[1;32m\"<ipython-input-61-e606ce14b3d3>\"\u001b[1;36m, line \u001b[1;32m1\u001b[0m\n\u001b[1;33m    grades=[38,45,69,82,09,87,10]   #If you put 09 here, Then it wil give en error, for remove the error, you have to write 9 instead of 09\u001b[0m\n\u001b[1;37m                         ^\u001b[0m\n\u001b[1;31mSyntaxError\u001b[0m\u001b[1;31m:\u001b[0m leading zeros in decimal integer literals are not permitted; use an 0o prefix for octal integers\n"
     ]
    }
   ],
   "source": [
    "grades=[38,45,69,82,009,87,10]   #If you put 09 here, Then it wil give en error, for remove the error, you have to write 9 instead of 09"
   ]
  },
  {
   "cell_type": "code",
   "execution_count": 62,
   "id": "d34060c2",
   "metadata": {},
   "outputs": [
    {
     "name": "stdout",
     "output_type": "stream",
     "text": [
      "45\n"
     ]
    }
   ],
   "source": [
    "a=int(input())"
   ]
  },
  {
   "cell_type": "code",
   "execution_count": 63,
   "id": "c5386083",
   "metadata": {},
   "outputs": [
    {
     "data": {
      "text/plain": [
       "45"
      ]
     },
     "execution_count": 63,
     "metadata": {},
     "output_type": "execute_result"
    }
   ],
   "source": [
    "a"
   ]
  },
  {
   "cell_type": "code",
   "execution_count": 64,
   "id": "7f7026b2",
   "metadata": {},
   "outputs": [],
   "source": [
    "grades=[38,45,69,9,87,10]"
   ]
  },
  {
   "cell_type": "code",
   "execution_count": 65,
   "id": "6660df7f",
   "metadata": {},
   "outputs": [
    {
     "data": {
      "text/plain": [
       "6"
      ]
     },
     "execution_count": 65,
     "metadata": {},
     "output_type": "execute_result"
    }
   ],
   "source": [
    "len(grades)"
   ]
  },
  {
   "cell_type": "code",
   "execution_count": 88,
   "id": "23b553e1",
   "metadata": {},
   "outputs": [
    {
     "data": {
      "text/plain": [
       "87"
      ]
     },
     "execution_count": 88,
     "metadata": {},
     "output_type": "execute_result"
    }
   ],
   "source": [
    "max(grades)      #for find the maximum element of the list"
   ]
  },
  {
   "cell_type": "code",
   "execution_count": 89,
   "id": "8b86273e",
   "metadata": {},
   "outputs": [
    {
     "data": {
      "text/plain": [
       "9"
      ]
     },
     "execution_count": 89,
     "metadata": {},
     "output_type": "execute_result"
    }
   ],
   "source": [
    "min(grades)      # for find the minimum element of the list"
   ]
  },
  {
   "cell_type": "code",
   "execution_count": 75,
   "id": "e58e9f89",
   "metadata": {},
   "outputs": [],
   "source": [
    "alph=[\"Hello\",\"Wold\",\"Cat\",\"Dog\",\"Lion\"]"
   ]
  },
  {
   "cell_type": "code",
   "execution_count": 76,
   "id": "77fc3068",
   "metadata": {},
   "outputs": [
    {
     "data": {
      "text/plain": [
       "'Wold'"
      ]
     },
     "execution_count": 76,
     "metadata": {},
     "output_type": "execute_result"
    }
   ],
   "source": [
    "max(alph)"
   ]
  },
  {
   "cell_type": "code",
   "execution_count": 77,
   "id": "2bc8e0f2",
   "metadata": {},
   "outputs": [
    {
     "data": {
      "text/plain": [
       "'Cat'"
      ]
     },
     "execution_count": 77,
     "metadata": {},
     "output_type": "execute_result"
    }
   ],
   "source": [
    "min(alph)"
   ]
  },
  {
   "cell_type": "code",
   "execution_count": 78,
   "id": "6e7a5c64",
   "metadata": {},
   "outputs": [
    {
     "data": {
      "text/plain": [
       "['Cat', 'Dog', 'Hello', 'Lion', 'Wold']"
      ]
     },
     "execution_count": 78,
     "metadata": {},
     "output_type": "execute_result"
    }
   ],
   "source": [
    "sorted(alph)    # This will sort the data for the temporary time only"
   ]
  },
  {
   "cell_type": "code",
   "execution_count": 80,
   "id": "ac1cd0b8",
   "metadata": {},
   "outputs": [
    {
     "data": {
      "text/plain": [
       "['Hello', 'Wold', 'Cat', 'Dog', 'Lion']"
      ]
     },
     "execution_count": 80,
     "metadata": {},
     "output_type": "execute_result"
    }
   ],
   "source": [
    "alph"
   ]
  },
  {
   "cell_type": "code",
   "execution_count": 105,
   "id": "12a6738d",
   "metadata": {},
   "outputs": [],
   "source": [
    "alph.sort()    #This will sort the list permanently"
   ]
  },
  {
   "cell_type": "code",
   "execution_count": 106,
   "id": "59ad097f",
   "metadata": {},
   "outputs": [
    {
     "data": {
      "text/plain": [
       "['Cat', 'Dog', 'Hello', 'Lion', 'Wold']"
      ]
     },
     "execution_count": 106,
     "metadata": {},
     "output_type": "execute_result"
    }
   ],
   "source": [
    "alph"
   ]
  },
  {
   "cell_type": "code",
   "execution_count": 81,
   "id": "9fd1f65e",
   "metadata": {},
   "outputs": [],
   "source": [
    "alph.extend(alph)"
   ]
  },
  {
   "cell_type": "code",
   "execution_count": 82,
   "id": "7a6bfa43",
   "metadata": {},
   "outputs": [
    {
     "data": {
      "text/plain": [
       "['Hello', 'Wold', 'Cat', 'Dog', 'Lion', 'Hello', 'Wold', 'Cat', 'Dog', 'Lion']"
      ]
     },
     "execution_count": 82,
     "metadata": {},
     "output_type": "execute_result"
    }
   ],
   "source": [
    "alph"
   ]
  },
  {
   "cell_type": "code",
   "execution_count": 83,
   "id": "a9b2548d",
   "metadata": {},
   "outputs": [],
   "source": [
    "alph.append(alph)"
   ]
  },
  {
   "cell_type": "code",
   "execution_count": 84,
   "id": "42391d0e",
   "metadata": {},
   "outputs": [
    {
     "data": {
      "text/plain": [
       "['Hello',\n",
       " 'Wold',\n",
       " 'Cat',\n",
       " 'Dog',\n",
       " 'Lion',\n",
       " 'Hello',\n",
       " 'Wold',\n",
       " 'Cat',\n",
       " 'Dog',\n",
       " 'Lion',\n",
       " [...]]"
      ]
     },
     "execution_count": 84,
     "metadata": {},
     "output_type": "execute_result"
    }
   ],
   "source": [
    "alph"
   ]
  },
  {
   "cell_type": "code",
   "execution_count": 112,
   "id": "8b0d7d59",
   "metadata": {},
   "outputs": [],
   "source": [
    "lis.extend(lis)    # you can extend 1 list into its list again"
   ]
  },
  {
   "cell_type": "code",
   "execution_count": 85,
   "id": "da6c4928",
   "metadata": {},
   "outputs": [
    {
     "data": {
      "text/plain": [
       "'nohtyp ytnoM'"
      ]
     },
     "execution_count": 85,
     "metadata": {},
     "output_type": "execute_result"
    }
   ],
   "source": [
    "name=\"Monty python\"\n",
    "name[::-1]      # this double :: will convert the string into opposite side"
   ]
  },
  {
   "cell_type": "code",
   "execution_count": 93,
   "id": "6ae499d3",
   "metadata": {},
   "outputs": [
    {
     "data": {
      "text/plain": [
       "'ytho'"
      ]
     },
     "execution_count": 93,
     "metadata": {},
     "output_type": "execute_result"
    }
   ],
   "source": [
    "name[-5:-1]"
   ]
  },
  {
   "cell_type": "code",
   "execution_count": 115,
   "id": "bab697f6",
   "metadata": {},
   "outputs": [
    {
     "data": {
      "text/plain": [
       "'Monty pytho'"
      ]
     },
     "execution_count": 115,
     "metadata": {},
     "output_type": "execute_result"
    }
   ],
   "source": [
    "name[:-1]"
   ]
  },
  {
   "cell_type": "code",
   "execution_count": 120,
   "id": "f136ab0d",
   "metadata": {},
   "outputs": [
    {
     "data": {
      "text/plain": [
       "'Mnypto'"
      ]
     },
     "execution_count": 120,
     "metadata": {},
     "output_type": "execute_result"
    }
   ],
   "source": [
    "name[::2]"
   ]
  },
  {
   "cell_type": "markdown",
   "id": "8623a78e",
   "metadata": {},
   "source": [
    "**Heterogeneous data :- Heterogeneous data means that it contains of different types of data types like integer,strings,float  \n",
    "  etc.      Example:- A=[67,\"Hey\",\"98\",98,240,0.5,\"0.6\"]"
   ]
  },
  {
   "cell_type": "code",
   "execution_count": 94,
   "id": "08f37dbc",
   "metadata": {},
   "outputs": [
    {
     "name": "stdout",
     "output_type": "stream",
     "text": [
      "55\n"
     ]
    }
   ],
   "source": [
    "s=[1,2,3,4,5,6,7,8,9,10]\n",
    "print(sum(s))"
   ]
  },
  {
   "cell_type": "code",
   "execution_count": 102,
   "id": "e92c081b",
   "metadata": {},
   "outputs": [],
   "source": [
    "li=[[[7,[5]]] , [[1,[2,[3,4,[5,[9]]]]]]]    #Question:- remove 9 number element from it from list"
   ]
  },
  {
   "cell_type": "code",
   "execution_count": 103,
   "id": "6f7d16bc",
   "metadata": {},
   "outputs": [],
   "source": [
    "del li[1][0][1][1][2][1][0]"
   ]
  },
  {
   "cell_type": "code",
   "execution_count": 153,
   "id": "f4718dd1",
   "metadata": {},
   "outputs": [],
   "source": [
    "li[1][0][1][1][2][1].remove(9)"
   ]
  },
  {
   "cell_type": "code",
   "execution_count": 147,
   "id": "e385159a",
   "metadata": {},
   "outputs": [
    {
     "data": {
      "text/plain": [
       "[[[7, [5]]], [[1, [2, [3, 4, [5, []]]]]]]"
      ]
     },
     "execution_count": 147,
     "metadata": {},
     "output_type": "execute_result"
    }
   ],
   "source": [
    "li"
   ]
  },
  {
   "cell_type": "code",
   "execution_count": 154,
   "id": "50b3ebf4",
   "metadata": {
    "scrolled": true
   },
   "outputs": [
    {
     "data": {
      "text/plain": [
       "[]"
      ]
     },
     "execution_count": 154,
     "metadata": {},
     "output_type": "execute_result"
    }
   ],
   "source": [
    "li[1][0][1][1][2].pop(1)    # This will pop the whole list which contain 9 from the list"
   ]
  },
  {
   "cell_type": "code",
   "execution_count": 161,
   "id": "35a02a59",
   "metadata": {},
   "outputs": [],
   "source": [
    "del li[1][0][1][1][2][1][0]       #This will remove the element from the list"
   ]
  },
  {
   "cell_type": "code",
   "execution_count": 162,
   "id": "637b502d",
   "metadata": {},
   "outputs": [
    {
     "data": {
      "text/plain": [
       "[[[7, [5]]], [[1, [2, [3, 4, [5, []]]]]]]"
      ]
     },
     "execution_count": 162,
     "metadata": {},
     "output_type": "execute_result"
    }
   ],
   "source": [
    "li"
   ]
  },
  {
   "cell_type": "code",
   "execution_count": 105,
   "id": "5c237650",
   "metadata": {},
   "outputs": [],
   "source": [
    "l1=[\"Hello\"]\n",
    "l2=[\"World\"]"
   ]
  },
  {
   "cell_type": "code",
   "execution_count": 106,
   "id": "386c446f",
   "metadata": {},
   "outputs": [
    {
     "name": "stdout",
     "output_type": "stream",
     "text": [
      "['Hello', 'h', 'e', 'l', 'l', 'o']\n"
     ]
    }
   ],
   "source": [
    "l1.extend(\"hello\")\n",
    "print(l1)"
   ]
  },
  {
   "cell_type": "code",
   "execution_count": 178,
   "id": "a31ccfa4",
   "metadata": {},
   "outputs": [],
   "source": [
    "l1.extend('World')"
   ]
  },
  {
   "cell_type": "code",
   "execution_count": 179,
   "id": "a2f998d6",
   "metadata": {},
   "outputs": [
    {
     "data": {
      "text/plain": [
       "['Hello', 'World', 'W', 'o', 'r', 'l', 'd']"
      ]
     },
     "execution_count": 179,
     "metadata": {},
     "output_type": "execute_result"
    }
   ],
   "source": [
    "l1"
   ]
  },
  {
   "cell_type": "code",
   "execution_count": 182,
   "id": "221953c4",
   "metadata": {},
   "outputs": [
    {
     "data": {
      "text/plain": [
       "'HloHl e '"
      ]
     },
     "execution_count": 182,
     "metadata": {},
     "output_type": "execute_result"
    }
   ],
   "source": [
    "a=\"Hello Hola hey hi\"\n",
    "a[0:-1:2]"
   ]
  },
  {
   "cell_type": "code",
   "execution_count": 188,
   "id": "540634dc",
   "metadata": {},
   "outputs": [],
   "source": [
    "list1=[1,2,3,4]\n",
    "list2=[4,5,7,8]\n",
    "list1= list1+list2"
   ]
  },
  {
   "cell_type": "code",
   "execution_count": 189,
   "id": "3a569e9e",
   "metadata": {},
   "outputs": [
    {
     "data": {
      "text/plain": [
       "[1, 2, 3, 4, 4, 5, 7, 8]"
      ]
     },
     "execution_count": 189,
     "metadata": {},
     "output_type": "execute_result"
    }
   ],
   "source": [
    "list1"
   ]
  },
  {
   "cell_type": "code",
   "execution_count": null,
   "id": "773e22e1",
   "metadata": {},
   "outputs": [],
   "source": [
    "clear()    #It removes all the elements from the list"
   ]
  },
  {
   "cell_type": "code",
   "execution_count": 190,
   "id": "f175a03c",
   "metadata": {},
   "outputs": [],
   "source": [
    "list1.clear()"
   ]
  },
  {
   "cell_type": "code",
   "execution_count": 191,
   "id": "668b24ec",
   "metadata": {},
   "outputs": [
    {
     "data": {
      "text/plain": [
       "[]"
      ]
     },
     "execution_count": 191,
     "metadata": {},
     "output_type": "execute_result"
    }
   ],
   "source": [
    "list1"
   ]
  },
  {
   "cell_type": "code",
   "execution_count": null,
   "id": "5baab999",
   "metadata": {},
   "outputs": [],
   "source": [
    "copy()  #it copy all the element of one list to another"
   ]
  },
  {
   "cell_type": "code",
   "execution_count": 192,
   "id": "3ce9c5f3",
   "metadata": {},
   "outputs": [],
   "source": [
    "list1=list2.copy()"
   ]
  },
  {
   "cell_type": "code",
   "execution_count": 193,
   "id": "25fa891a",
   "metadata": {},
   "outputs": [
    {
     "data": {
      "text/plain": [
       "[4, 5, 7, 8]"
      ]
     },
     "execution_count": 193,
     "metadata": {},
     "output_type": "execute_result"
    }
   ],
   "source": [
    "list1"
   ]
  },
  {
   "cell_type": "markdown",
   "id": "ce2503a5",
   "metadata": {},
   "source": [
    "count()          #it counts how many time the same elements are come in list "
   ]
  },
  {
   "cell_type": "code",
   "execution_count": 196,
   "id": "c9b74706",
   "metadata": {},
   "outputs": [],
   "source": [
    "kite=[1,2,3,4,1,1,2,1,7]"
   ]
  },
  {
   "cell_type": "code",
   "execution_count": 198,
   "id": "ae6b00dc",
   "metadata": {},
   "outputs": [
    {
     "data": {
      "text/plain": [
       "4"
      ]
     },
     "execution_count": 198,
     "metadata": {},
     "output_type": "execute_result"
    }
   ],
   "source": [
    "kite.count(1)       #It shows how many time the 1 is in the list kite"
   ]
  },
  {
   "cell_type": "code",
   "execution_count": null,
   "id": "a302aa01",
   "metadata": {},
   "outputs": [],
   "source": []
  },
  {
   "cell_type": "code",
   "execution_count": null,
   "id": "fc050e60",
   "metadata": {},
   "outputs": [],
   "source": []
  },
  {
   "cell_type": "code",
   "execution_count": null,
   "id": "e6ccc07c",
   "metadata": {},
   "outputs": [],
   "source": []
  },
  {
   "cell_type": "code",
   "execution_count": null,
   "id": "8d43486b",
   "metadata": {},
   "outputs": [],
   "source": []
  },
  {
   "cell_type": "code",
   "execution_count": null,
   "id": "a781a777",
   "metadata": {},
   "outputs": [],
   "source": []
  },
  {
   "cell_type": "code",
   "execution_count": null,
   "id": "aa0b6848",
   "metadata": {},
   "outputs": [],
   "source": []
  },
  {
   "cell_type": "code",
   "execution_count": null,
   "id": "5ad20a26",
   "metadata": {},
   "outputs": [],
   "source": []
  },
  {
   "cell_type": "code",
   "execution_count": null,
   "id": "e2ffed20",
   "metadata": {},
   "outputs": [],
   "source": []
  },
  {
   "cell_type": "code",
   "execution_count": null,
   "id": "31122bcd",
   "metadata": {},
   "outputs": [],
   "source": []
  },
  {
   "cell_type": "code",
   "execution_count": null,
   "id": "e127fd4e",
   "metadata": {},
   "outputs": [],
   "source": []
  },
  {
   "cell_type": "code",
   "execution_count": null,
   "id": "4e9a0378",
   "metadata": {},
   "outputs": [],
   "source": []
  },
  {
   "cell_type": "code",
   "execution_count": null,
   "id": "e50e1007",
   "metadata": {},
   "outputs": [],
   "source": []
  },
  {
   "cell_type": "code",
   "execution_count": null,
   "id": "cac929d9",
   "metadata": {},
   "outputs": [],
   "source": []
  },
  {
   "cell_type": "code",
   "execution_count": null,
   "id": "86a1c942",
   "metadata": {},
   "outputs": [],
   "source": []
  },
  {
   "cell_type": "code",
   "execution_count": null,
   "id": "be1f94fc",
   "metadata": {},
   "outputs": [],
   "source": []
  },
  {
   "cell_type": "code",
   "execution_count": null,
   "id": "67cefddc",
   "metadata": {},
   "outputs": [],
   "source": []
  },
  {
   "cell_type": "code",
   "execution_count": null,
   "id": "b3aa4c72",
   "metadata": {},
   "outputs": [],
   "source": []
  },
  {
   "cell_type": "code",
   "execution_count": null,
   "id": "5a561cf6",
   "metadata": {},
   "outputs": [],
   "source": []
  },
  {
   "cell_type": "code",
   "execution_count": null,
   "id": "d4206dc5",
   "metadata": {},
   "outputs": [],
   "source": []
  },
  {
   "cell_type": "code",
   "execution_count": null,
   "id": "cd6608e5",
   "metadata": {},
   "outputs": [],
   "source": []
  },
  {
   "cell_type": "code",
   "execution_count": null,
   "id": "5aa12ff6",
   "metadata": {},
   "outputs": [],
   "source": []
  },
  {
   "cell_type": "code",
   "execution_count": null,
   "id": "3e318cb7",
   "metadata": {},
   "outputs": [],
   "source": []
  },
  {
   "cell_type": "code",
   "execution_count": null,
   "id": "0944f479",
   "metadata": {},
   "outputs": [],
   "source": []
  },
  {
   "cell_type": "code",
   "execution_count": null,
   "id": "dda908b7",
   "metadata": {},
   "outputs": [],
   "source": []
  },
  {
   "cell_type": "code",
   "execution_count": null,
   "id": "bba77ab4",
   "metadata": {},
   "outputs": [],
   "source": []
  },
  {
   "cell_type": "code",
   "execution_count": null,
   "id": "ab5368e4",
   "metadata": {},
   "outputs": [],
   "source": []
  },
  {
   "cell_type": "code",
   "execution_count": null,
   "id": "d24cb58a",
   "metadata": {},
   "outputs": [],
   "source": []
  },
  {
   "cell_type": "code",
   "execution_count": null,
   "id": "a9837625",
   "metadata": {},
   "outputs": [],
   "source": []
  },
  {
   "cell_type": "code",
   "execution_count": null,
   "id": "3a4f4959",
   "metadata": {},
   "outputs": [],
   "source": []
  },
  {
   "cell_type": "code",
   "execution_count": null,
   "id": "394265c5",
   "metadata": {},
   "outputs": [],
   "source": []
  },
  {
   "cell_type": "code",
   "execution_count": null,
   "id": "5c0ef9bc",
   "metadata": {},
   "outputs": [],
   "source": []
  },
  {
   "cell_type": "code",
   "execution_count": null,
   "id": "8ae1390e",
   "metadata": {},
   "outputs": [],
   "source": []
  },
  {
   "cell_type": "code",
   "execution_count": null,
   "id": "8e931aa4",
   "metadata": {},
   "outputs": [],
   "source": []
  },
  {
   "cell_type": "code",
   "execution_count": null,
   "id": "fdee4789",
   "metadata": {},
   "outputs": [],
   "source": []
  },
  {
   "cell_type": "code",
   "execution_count": null,
   "id": "dfcaf776",
   "metadata": {},
   "outputs": [],
   "source": []
  },
  {
   "cell_type": "code",
   "execution_count": null,
   "id": "ad62a33c",
   "metadata": {},
   "outputs": [],
   "source": []
  },
  {
   "cell_type": "code",
   "execution_count": null,
   "id": "76ddae90",
   "metadata": {},
   "outputs": [],
   "source": []
  },
  {
   "cell_type": "code",
   "execution_count": null,
   "id": "2c690f79",
   "metadata": {},
   "outputs": [],
   "source": []
  },
  {
   "cell_type": "code",
   "execution_count": null,
   "id": "ff1fb15b",
   "metadata": {},
   "outputs": [],
   "source": []
  },
  {
   "cell_type": "code",
   "execution_count": null,
   "id": "b8329b9c",
   "metadata": {},
   "outputs": [],
   "source": []
  },
  {
   "cell_type": "code",
   "execution_count": null,
   "id": "f87e5015",
   "metadata": {},
   "outputs": [],
   "source": []
  },
  {
   "cell_type": "code",
   "execution_count": null,
   "id": "022e3ce6",
   "metadata": {},
   "outputs": [],
   "source": []
  },
  {
   "cell_type": "code",
   "execution_count": null,
   "id": "5134aae2",
   "metadata": {},
   "outputs": [],
   "source": []
  },
  {
   "cell_type": "code",
   "execution_count": null,
   "id": "743e1b0f",
   "metadata": {},
   "outputs": [],
   "source": []
  },
  {
   "cell_type": "code",
   "execution_count": null,
   "id": "f73d1832",
   "metadata": {},
   "outputs": [],
   "source": []
  },
  {
   "cell_type": "code",
   "execution_count": null,
   "id": "d5cbd673",
   "metadata": {},
   "outputs": [],
   "source": []
  },
  {
   "cell_type": "code",
   "execution_count": null,
   "id": "b3d32003",
   "metadata": {},
   "outputs": [],
   "source": []
  },
  {
   "cell_type": "code",
   "execution_count": null,
   "id": "4bb25d10",
   "metadata": {},
   "outputs": [],
   "source": []
  },
  {
   "cell_type": "code",
   "execution_count": null,
   "id": "e44ff7c1",
   "metadata": {},
   "outputs": [],
   "source": []
  },
  {
   "cell_type": "code",
   "execution_count": null,
   "id": "dcecd123",
   "metadata": {},
   "outputs": [],
   "source": []
  },
  {
   "cell_type": "code",
   "execution_count": null,
   "id": "f93b8942",
   "metadata": {},
   "outputs": [],
   "source": []
  }
 ],
 "metadata": {
  "kernelspec": {
   "display_name": "Python 3",
   "language": "python",
   "name": "python3"
  },
  "language_info": {
   "codemirror_mode": {
    "name": "ipython",
    "version": 3
   },
   "file_extension": ".py",
   "mimetype": "text/x-python",
   "name": "python",
   "nbconvert_exporter": "python",
   "pygments_lexer": "ipython3",
   "version": "3.9.5"
  }
 },
 "nbformat": 4,
 "nbformat_minor": 5
}
