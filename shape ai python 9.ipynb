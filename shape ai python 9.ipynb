{
 "cells": [
  {
   "cell_type": "markdown",
   "id": "eec4bd08",
   "metadata": {},
   "source": [
    "# Polymorphism -> Method overriding & Method overloading"
   ]
  },
  {
   "cell_type": "code",
   "execution_count": null,
   "id": "2513e690",
   "metadata": {},
   "outputs": [],
   "source": []
  },
  {
   "cell_type": "markdown",
   "id": "4222a6da",
   "metadata": {},
   "source": [
    "    Method overriding is supported in python where as method overloading is not \n",
    "    supported in python"
   ]
  },
  {
   "cell_type": "code",
   "execution_count": null,
   "id": "a183f169",
   "metadata": {},
   "outputs": [],
   "source": [
    "#this is method overloading\n",
    "def sum(a,b):\n",
    "        print(a+b)\n",
    "    \n",
    "def sum(a,b,c):\n",
    "        print(a+b+c)    "
   ]
  },
  {
   "cell_type": "code",
   "execution_count": null,
   "id": "6e99580f",
   "metadata": {},
   "outputs": [],
   "source": [
    "#Python is an interepreter language, so the last code function in same name which will be run will be exwcuted, other will give an error"
   ]
  },
  {
   "cell_type": "code",
   "execution_count": 5,
   "id": "8ac75597",
   "metadata": {},
   "outputs": [
    {
     "ename": "TypeError",
     "evalue": "sum() missing 1 required positional argument: 'c'",
     "output_type": "error",
     "traceback": [
      "\u001b[1;31m---------------------------------------------------------------------------\u001b[0m",
      "\u001b[1;31mTypeError\u001b[0m                                 Traceback (most recent call last)",
      "\u001b[1;32m<ipython-input-5-a91f35d5101e>\u001b[0m in \u001b[0;36m<module>\u001b[1;34m\u001b[0m\n\u001b[1;32m----> 1\u001b[1;33m \u001b[0msum\u001b[0m\u001b[1;33m(\u001b[0m\u001b[1;36m1\u001b[0m\u001b[1;33m,\u001b[0m\u001b[1;36m2\u001b[0m\u001b[1;33m)\u001b[0m\u001b[1;33m\u001b[0m\u001b[1;33m\u001b[0m\u001b[0m\n\u001b[0m",
      "\u001b[1;31mTypeError\u001b[0m: sum() missing 1 required positional argument: 'c'"
     ]
    }
   ],
   "source": [
    "sum(1,2)    #<-- It will give an error because in the last sum(a,b,c) is applied, so you need 3 variables for it.\n",
    "#If there will be sum(a,b) is in the last or after sum(a,b,c) function, then this will be work"
   ]
  },
  {
   "cell_type": "code",
   "execution_count": 20,
   "id": "920757bc",
   "metadata": {},
   "outputs": [
    {
     "name": "stdout",
     "output_type": "stream",
     "text": [
      "37\n"
     ]
    }
   ],
   "source": [
    "n.sum(1,23,4)"
   ]
  },
  {
   "cell_type": "code",
   "execution_count": null,
   "id": "be88c589",
   "metadata": {},
   "outputs": [],
   "source": []
  },
  {
   "cell_type": "code",
   "execution_count": 1,
   "id": "c2805d1b",
   "metadata": {},
   "outputs": [],
   "source": [
    "class new1:\n",
    "    a=5\n",
    "    def __init__(self,j):\n",
    "        self.a=j\n",
    "    def sum(self,a,b):\n",
    "        print(a+b)\n",
    "    \n",
    "    def sum(self,a,b,c):\n",
    "        print(a+b+c)\n",
    "#         print(self.a+b+c)"
   ]
  },
  {
   "cell_type": "code",
   "execution_count": 2,
   "id": "d07e8b68",
   "metadata": {},
   "outputs": [],
   "source": [
    "n=new1(10)"
   ]
  },
  {
   "cell_type": "code",
   "execution_count": 3,
   "id": "ca3ffd4d",
   "metadata": {},
   "outputs": [
    {
     "name": "stdout",
     "output_type": "stream",
     "text": [
      "16\n"
     ]
    }
   ],
   "source": [
    "n.sum(5,8,3)"
   ]
  },
  {
   "cell_type": "code",
   "execution_count": null,
   "id": "e4954ab8",
   "metadata": {},
   "outputs": [],
   "source": []
  },
  {
   "cell_type": "code",
   "execution_count": 1,
   "id": "abbde936",
   "metadata": {},
   "outputs": [],
   "source": [
    "#this below is method overriding\n",
    "def sum(a,b):     \n",
    "    print(a+b)\n",
    "    \n",
    "def sum(a,b):\n",
    "    print(a*b)"
   ]
  },
  {
   "cell_type": "code",
   "execution_count": 3,
   "id": "c58aea6c",
   "metadata": {},
   "outputs": [
    {
     "name": "stdout",
     "output_type": "stream",
     "text": [
      "8\n"
     ]
    }
   ],
   "source": [
    "sum(2,4)   #Here in above code, a*b is in the last and python compile the code line by line, so a*b function will be applied and printed"
   ]
  },
  {
   "cell_type": "code",
   "execution_count": null,
   "id": "40d1b7fe",
   "metadata": {},
   "outputs": [],
   "source": []
  },
  {
   "cell_type": "code",
   "execution_count": 11,
   "id": "b411c6e3",
   "metadata": {},
   "outputs": [],
   "source": [
    "var=10\n",
    "var=var+20"
   ]
  },
  {
   "cell_type": "code",
   "execution_count": 12,
   "id": "0d60fc7c",
   "metadata": {},
   "outputs": [
    {
     "name": "stdout",
     "output_type": "stream",
     "text": [
      "30\n"
     ]
    }
   ],
   "source": [
    "print(var)"
   ]
  },
  {
   "cell_type": "code",
   "execution_count": null,
   "id": "e39fc789",
   "metadata": {},
   "outputs": [],
   "source": []
  },
  {
   "cell_type": "code",
   "execution_count": null,
   "id": "281046b1",
   "metadata": {},
   "outputs": [],
   "source": [
    "overriding means the functionlity to changing the functionality of the same method and\n",
    "overloading means to change the parameter arguments of the symbol"
   ]
  },
  {
   "cell_type": "code",
   "execution_count": null,
   "id": "99f82a14",
   "metadata": {},
   "outputs": [],
   "source": []
  },
  {
   "cell_type": "code",
   "execution_count": 24,
   "id": "d3f5b67e",
   "metadata": {},
   "outputs": [],
   "source": [
    "class Animal:\n",
    "    def speak(self,animal,sound):\n",
    "        print(f\"The {animal} makes the sound {sound}\")\n",
    "   \n",
    "    def speak1(self,animal,activity):\n",
    "        print(f\"The {animal} has an activity {activity}\")      \n",
    "        \n",
    "# Here, in above code the animal is used again and again and we are defining it again and again new time in\n",
    "# every funnction. Which causes data redundancy. If we define that argument globally, then the data redundancy\n",
    "# will not be happened. that's why the constructor is used."
   ]
  },
  {
   "cell_type": "code",
   "execution_count": 25,
   "id": "490bd431",
   "metadata": {},
   "outputs": [],
   "source": [
    "obj=Animal()\n",
    "obj1=Animal()"
   ]
  },
  {
   "cell_type": "code",
   "execution_count": 26,
   "id": "387b60d2",
   "metadata": {},
   "outputs": [
    {
     "name": "stdout",
     "output_type": "stream",
     "text": [
      "The Cow makes the sound Moo\n"
     ]
    }
   ],
   "source": [
    "obj.speak(\"Cow\",\"Moo\")"
   ]
  },
  {
   "cell_type": "code",
   "execution_count": 27,
   "id": "57fd8292",
   "metadata": {},
   "outputs": [
    {
     "name": "stdout",
     "output_type": "stream",
     "text": [
      "The Dog has an activity barks\n"
     ]
    }
   ],
   "source": [
    "obj1.speak1(\"Dog\",\"barks\")"
   ]
  },
  {
   "cell_type": "code",
   "execution_count": null,
   "id": "9539eb19",
   "metadata": {},
   "outputs": [],
   "source": []
  },
  {
   "cell_type": "markdown",
   "id": "7c858738",
   "metadata": {},
   "source": [
    "# Constructor\n",
    "\n",
    "constructors -> __init__(), __delete__() , __doc__() , a.__add__(b)"
   ]
  },
  {
   "cell_type": "code",
   "execution_count": 28,
   "id": "3b9c8dbb",
   "metadata": {},
   "outputs": [],
   "source": [
    "class Animal:\n",
    "    def __init__(self,animal,sound,activity):   #This is the constructor\n",
    "        self.anim = animal     #Instance variable(Global variable for all other function inside the class only)\n",
    "        self.soun = sound\n",
    "        self.activity = activity\n",
    "    # Remember that, here self.anim and animal both are different. so, when you will define self.anim = animal , after that self.anim will take the value of animal and after that, self.anim can be used in whole class.  \n",
    "    # body of the constructor\n",
    "    \n",
    "    def speak(self):\n",
    "        print(f\"The {self.anim} makes the sound {self.soun}\")\n",
    "   \n",
    "    def speak1(self):\n",
    "        print(f\"The {self.anim} has an activity {self.activity}\")      "
   ]
  },
  {
   "cell_type": "code",
   "execution_count": 29,
   "id": "93554490",
   "metadata": {},
   "outputs": [],
   "source": [
    "obj=Animal(\"dog\",\"Bhaw Bhaw\",\"Barks\")   #At the using time of constructor, you have to directly give the values at class assign time to the object. "
   ]
  },
  {
   "cell_type": "code",
   "execution_count": 31,
   "id": "d297c9ec",
   "metadata": {},
   "outputs": [
    {
     "name": "stdout",
     "output_type": "stream",
     "text": [
      "The dog makes the sound Bhaw Bhaw\n"
     ]
    }
   ],
   "source": [
    "obj.speak()   #<- Now you don't need to give value after first giving the value at class assign because of constructor"
   ]
  },
  {
   "cell_type": "code",
   "execution_count": 32,
   "id": "92e31886",
   "metadata": {},
   "outputs": [
    {
     "name": "stdout",
     "output_type": "stream",
     "text": [
      "The dog has an activity Barks\n"
     ]
    }
   ],
   "source": [
    "obj.speak1()"
   ]
  },
  {
   "cell_type": "code",
   "execution_count": null,
   "id": "3cdf037e",
   "metadata": {},
   "outputs": [],
   "source": []
  },
  {
   "cell_type": "code",
   "execution_count": 28,
   "id": "67140a98",
   "metadata": {},
   "outputs": [],
   "source": [
    "class Electronics:\n",
    "    def __init__(self,mobile,laptop):\n",
    "        self.mobile=mobile\n",
    "        self.laptop=laptop\n",
    "        print(f\"the mobile is {self.mobile} and the laptop is {self.laptop}\")\n",
    "        \n",
    "    def __init__(self,speaker,microphone):\n",
    "        self.speaker=speaker\n",
    "        self.microphone=microphone\n",
    "        print(f\"the speaker is {self.speaker} and the microphone is {self.microphone}\")     \n",
    "        \n",
    "# Here, the last __init__ method in Electronics will be applied because python enterepts line by line. so, the last will be speaker and microphone]. So, it will be applied\n",
    "# This is known as method overriding in constructor"
   ]
  },
  {
   "cell_type": "code",
   "execution_count": 36,
   "id": "57637d5d",
   "metadata": {},
   "outputs": [
    {
     "name": "stdout",
     "output_type": "stream",
     "text": [
      "the speaker is iphone and the microphone is Mac\n"
     ]
    }
   ],
   "source": [
    "obj= Electronics(\"iphone\",\"Mac\")"
   ]
  },
  {
   "cell_type": "code",
   "execution_count": null,
   "id": "fe0d604c",
   "metadata": {},
   "outputs": [],
   "source": []
  },
  {
   "cell_type": "code",
   "execution_count": 29,
   "id": "b7f8cc3b",
   "metadata": {},
   "outputs": [],
   "source": [
    "class Electronics:\n",
    "    def __init__(self,mobile,laptop):\n",
    "        self.mobile=mobile\n",
    "        self.laptop=laptop\n",
    "        print(f\"the mobile is {self.mobile} and the laptop is {self.laptop}\")\n",
    "        \n",
    "    def __init__(self,speaker,microphone,earphone,phone):\n",
    "        self.speaker=speaker\n",
    "        self.microphone=microphone\n",
    "        self.mobile= earphone\n",
    "        self.laptop=laptop\n",
    "        print(f\"the speaker is {self.speaker} and the microphone is {self.microphone}\")     \n",
    "        \n",
    "# Here, the last __init__ method in Electronics will be applied because python enterepts line by line. so, the last will be speaker and microphone]. So, it will be applied\n",
    "# This is known as method overriding in constructor"
   ]
  },
  {
   "cell_type": "code",
   "execution_count": 32,
   "id": "993aa364",
   "metadata": {
    "scrolled": true
   },
   "outputs": [
    {
     "ename": "TypeError",
     "evalue": "__init__() missing 2 required positional arguments: 'earphone' and 'phone'",
     "output_type": "error",
     "traceback": [
      "\u001b[1;31m---------------------------------------------------------------------------\u001b[0m",
      "\u001b[1;31mTypeError\u001b[0m                                 Traceback (most recent call last)",
      "\u001b[1;32m<ipython-input-32-76ac521d89b0>\u001b[0m in \u001b[0;36m<module>\u001b[1;34m\u001b[0m\n\u001b[1;32m----> 1\u001b[1;33m \u001b[0mi\u001b[0m\u001b[1;33m=\u001b[0m \u001b[0mElectronics\u001b[0m\u001b[1;33m(\u001b[0m\u001b[1;34m\"iphone\"\u001b[0m\u001b[1;33m,\u001b[0m\u001b[1;34m\"lenovo\"\u001b[0m\u001b[1;33m)\u001b[0m\u001b[1;33m\u001b[0m\u001b[1;33m\u001b[0m\u001b[0m\n\u001b[0m",
      "\u001b[1;31mTypeError\u001b[0m: __init__() missing 2 required positional arguments: 'earphone' and 'phone'"
     ]
    }
   ],
   "source": [
    "i= Electronics(\"iphone\",\"lenovo\")"
   ]
  },
  {
   "cell_type": "code",
   "execution_count": 33,
   "id": "ba927c7e",
   "metadata": {},
   "outputs": [],
   "source": [
    "class xyz:\n",
    "    a=0       #<- This is class variable like global and local variable \n",
    "    def __init__(self,a):\n",
    "        self.a = a\n",
    "        print(a)\n",
    "        print(self.a)\n",
    "        self.a+=1\n",
    "        \n",
    "    def abcd(self):\n",
    "        print(self.a)\n",
    "#         global a\n",
    "#         a=24\n",
    "        print(a)"
   ]
  },
  {
   "cell_type": "code",
   "execution_count": 34,
   "id": "26973a2b",
   "metadata": {},
   "outputs": [
    {
     "name": "stdout",
     "output_type": "stream",
     "text": [
      "5\n",
      "5\n"
     ]
    }
   ],
   "source": [
    "obj=xyz(5)    #<- This will change the value of a also which is in class variable"
   ]
  },
  {
   "cell_type": "code",
   "execution_count": 35,
   "id": "ae2b2151",
   "metadata": {},
   "outputs": [
    {
     "name": "stdout",
     "output_type": "stream",
     "text": [
      "6\n",
      "24\n"
     ]
    }
   ],
   "source": [
    "obj.abcd()   #<-Here, The value of self.a will be old 5+1=6 but then, inside function the value of a which is class variable will be 0. "
   ]
  },
  {
   "cell_type": "code",
   "execution_count": 53,
   "id": "fa2cf3c2",
   "metadata": {},
   "outputs": [],
   "source": [
    "a=5\n",
    "class xyz:\n",
    "    a=2      #<- This is a class variable \n",
    "    def __init__(self,b):\n",
    "        self.b=b\n",
    "        print(self.b)\n",
    "        print(a)     #it doesn't take the value of class variable. It will automatically take value 0 because a is not defned \n",
    "        print(self.a)  #If you will print self.a, then it will take the value of class variable which is 2\n",
    "        self.b = a\n",
    "        self.b+=1\n",
    "        print(self.b)\n",
    "        \n",
    "    def abcd(self):\n",
    "        print(self.b)\n",
    "        print(a)"
   ]
  },
  {
   "cell_type": "code",
   "execution_count": 48,
   "id": "0deb4b5a",
   "metadata": {},
   "outputs": [
    {
     "name": "stdout",
     "output_type": "stream",
     "text": [
      "5\n",
      "0\n",
      "2\n",
      "1\n"
     ]
    }
   ],
   "source": [
    "obj2=xyz(5)    #<-- Now it will be first give value self.b . remember, The self.b and b both are different. For define self.b , first you have to give its value "
   ]
  },
  {
   "cell_type": "code",
   "execution_count": null,
   "id": "10ab5121",
   "metadata": {},
   "outputs": [],
   "source": []
  },
  {
   "cell_type": "code",
   "execution_count": 102,
   "id": "7e26e852",
   "metadata": {},
   "outputs": [
    {
     "name": "stdout",
     "output_type": "stream",
     "text": [
      "1\n",
      "0\n"
     ]
    }
   ],
   "source": [
    "obj2.abcd()   # Here, the value of first defined as self.b=a in __init__ class, so first self.b will be 0 and then it will be increment by 1 "
   ]
  },
  {
   "cell_type": "code",
   "execution_count": null,
   "id": "bee7763f",
   "metadata": {},
   "outputs": [],
   "source": []
  },
  {
   "cell_type": "code",
   "execution_count": 49,
   "id": "e6bbcbe3",
   "metadata": {},
   "outputs": [],
   "source": [
    "class xyz:\n",
    "    a=5       #<- This is class variable like global and local variable \n",
    "    def __init__(self):\n",
    "        print(self.a)  #<- If there is no variable available, then it will take the value of class variable which is 5 \n",
    "        self.a+=1\n",
    "        "
   ]
  },
  {
   "cell_type": "code",
   "execution_count": 50,
   "id": "adea3db1",
   "metadata": {},
   "outputs": [
    {
     "name": "stdout",
     "output_type": "stream",
     "text": [
      "5\n"
     ]
    }
   ],
   "source": [
    "obj=xyz()"
   ]
  },
  {
   "cell_type": "code",
   "execution_count": null,
   "id": "ca6d5c81",
   "metadata": {},
   "outputs": [],
   "source": []
  },
  {
   "cell_type": "code",
   "execution_count": null,
   "id": "09a60b0f",
   "metadata": {},
   "outputs": [],
   "source": []
  },
  {
   "cell_type": "code",
   "execution_count": 51,
   "id": "d1f533de",
   "metadata": {},
   "outputs": [],
   "source": [
    "#Quiz\n",
    "\n",
    "class Employee:\n",
    "    a=8\n",
    "    def __init__(self,fname,lname,salary):\n",
    "        self.fname=fname\n",
    "        self.lname=lname\n",
    "        self.salary=salary\n",
    "        self.a=self.a+1     #<- here, a is not defined, so this constructor will take the value from class variable.\n",
    "        print(self.a)\n",
    "        print(a)"
   ]
  },
  {
   "cell_type": "code",
   "execution_count": 52,
   "id": "7d29bdbc",
   "metadata": {},
   "outputs": [
    {
     "name": "stdout",
     "output_type": "stream",
     "text": [
      "9\n",
      "0\n"
     ]
    }
   ],
   "source": [
    "obj=Employee(\"Ram\",\"Charan\",25000)"
   ]
  },
  {
   "cell_type": "code",
   "execution_count": null,
   "id": "dae1bcf3",
   "metadata": {},
   "outputs": [],
   "source": []
  },
  {
   "cell_type": "code",
   "execution_count": null,
   "id": "49be4712",
   "metadata": {},
   "outputs": [],
   "source": []
  },
  {
   "cell_type": "code",
   "execution_count": null,
   "id": "fe0948f4",
   "metadata": {},
   "outputs": [],
   "source": []
  },
  {
   "cell_type": "code",
   "execution_count": 113,
   "id": "d34513b5",
   "metadata": {},
   "outputs": [
    {
     "name": "stdout",
     "output_type": "stream",
     "text": [
      "1\n",
      "0\n"
     ]
    }
   ],
   "source": [
    "obj=Employee(\"Jay\",\"Kumar\",18000)"
   ]
  },
  {
   "cell_type": "code",
   "execution_count": 114,
   "id": "850e814d",
   "metadata": {},
   "outputs": [
    {
     "name": "stdout",
     "output_type": "stream",
     "text": [
      "1\n",
      "0\n"
     ]
    }
   ],
   "source": [
    "obj=Employee(\"kiran\",\"patel\",21000)"
   ]
  },
  {
   "cell_type": "code",
   "execution_count": 111,
   "id": "2c4447f0",
   "metadata": {},
   "outputs": [
    {
     "name": "stdout",
     "output_type": "stream",
     "text": [
      "1\n",
      "0\n",
      "1\n",
      "0\n",
      "1\n",
      "0\n"
     ]
    }
   ],
   "source": [
    "obj=Employee(\"Ram\",\"Charan\",25000)\n",
    "obj=Employee(\"Jay\",\"Kumar\",18000)\n",
    "obj=Employee(\"kiran\",\"patel\",21000)"
   ]
  },
  {
   "cell_type": "code",
   "execution_count": null,
   "id": "cbec9769",
   "metadata": {},
   "outputs": [],
   "source": []
  },
  {
   "cell_type": "code",
   "execution_count": 58,
   "id": "cf59bb37",
   "metadata": {},
   "outputs": [],
   "source": [
    "class student:\n",
    "    a=4     #This is a class variable\n",
    "    def __init__(self,num):\n",
    "        self.num=num   \n",
    "        print(self.num)\n",
    "        \n",
    "    def faul(self):\n",
    "        print(self.num)\n",
    "        a=8\n",
    "        print(a)     # here, a will take the value 8 \n",
    "        print(self.a)   #here as, when you write self.a, then it will take the value from the class variable which is 4\n",
    "        print(self.num*self.a)  #<--It will give you an error because for define a"
   ]
  },
  {
   "cell_type": "code",
   "execution_count": null,
   "id": "a99ce527",
   "metadata": {},
   "outputs": [],
   "source": []
  },
  {
   "cell_type": "code",
   "execution_count": 59,
   "id": "431860e1",
   "metadata": {},
   "outputs": [
    {
     "name": "stdout",
     "output_type": "stream",
     "text": [
      "5\n"
     ]
    }
   ],
   "source": [
    "obj=student(5)"
   ]
  },
  {
   "cell_type": "code",
   "execution_count": 60,
   "id": "33eb8d18",
   "metadata": {},
   "outputs": [
    {
     "name": "stdout",
     "output_type": "stream",
     "text": [
      "5\n",
      "8\n",
      "4\n",
      "20\n"
     ]
    }
   ],
   "source": [
    "obj.faul()"
   ]
  },
  {
   "cell_type": "code",
   "execution_count": null,
   "id": "7ff0ada4",
   "metadata": {},
   "outputs": [],
   "source": []
  },
  {
   "cell_type": "code",
   "execution_count": null,
   "id": "65442da1",
   "metadata": {},
   "outputs": [],
   "source": []
  },
  {
   "cell_type": "code",
   "execution_count": null,
   "id": "2a53522f",
   "metadata": {},
   "outputs": [],
   "source": []
  },
  {
   "cell_type": "code",
   "execution_count": null,
   "id": "e317d4db",
   "metadata": {},
   "outputs": [],
   "source": []
  },
  {
   "cell_type": "code",
   "execution_count": null,
   "id": "26561410",
   "metadata": {},
   "outputs": [],
   "source": []
  },
  {
   "cell_type": "code",
   "execution_count": null,
   "id": "620f7b8e",
   "metadata": {},
   "outputs": [],
   "source": []
  },
  {
   "cell_type": "markdown",
   "id": "be739d23",
   "metadata": {},
   "source": [
    "## Destructor"
   ]
  },
  {
   "cell_type": "code",
   "execution_count": null,
   "id": "780945b3",
   "metadata": {},
   "outputs": [],
   "source": [
    "delete,del,discard"
   ]
  },
  {
   "cell_type": "code",
   "execution_count": null,
   "id": "efc0b4ec",
   "metadata": {},
   "outputs": [],
   "source": [
    "def __init__(self):\n",
    "    #Body of destructor"
   ]
  },
  {
   "cell_type": "code",
   "execution_count": 4,
   "id": "cc916442",
   "metadata": {},
   "outputs": [],
   "source": [
    "class Animal:\n",
    "    a=42\n",
    "    def __init__(self):      \n",
    "        print(\"Over here, the constructor is initialized\")\n",
    "    def __del__(self):\n",
    "        print(\"Over here, the destructor is initialized\")"
   ]
  },
  {
   "cell_type": "code",
   "execution_count": 5,
   "id": "9048e0f0",
   "metadata": {},
   "outputs": [
    {
     "name": "stdout",
     "output_type": "stream",
     "text": [
      "Over here, the constructor is initialized\n"
     ]
    }
   ],
   "source": [
    "obj=Animal()  #<- At here, the construcor will be printed only because constructor will be called automatically by default where as destructor has been called by manually ."
   ]
  },
  {
   "cell_type": "code",
   "execution_count": 6,
   "id": "bb243a02",
   "metadata": {},
   "outputs": [
    {
     "name": "stdout",
     "output_type": "stream",
     "text": [
      "Over here, the constructor is initialized\n",
      "Over here, the destructor is initialized\n"
     ]
    }
   ],
   "source": [
    "obj=Animal()  #<- But here, when you again call it, it will print the both lines of constructor and destructor "
   ]
  },
  {
   "cell_type": "code",
   "execution_count": null,
   "id": "1697098d",
   "metadata": {},
   "outputs": [],
   "source": []
  },
  {
   "cell_type": "code",
   "execution_count": 65,
   "id": "bf5ef29b",
   "metadata": {},
   "outputs": [
    {
     "data": {
      "text/plain": [
       "<__main__.Animal at 0x10ff3f29580>"
      ]
     },
     "execution_count": 65,
     "metadata": {},
     "output_type": "execute_result"
    }
   ],
   "source": [
    "obj      #<-It shows the referance(address) of the class"
   ]
  },
  {
   "cell_type": "code",
   "execution_count": 66,
   "id": "804c2177",
   "metadata": {},
   "outputs": [
    {
     "data": {
      "text/plain": [
       "42"
      ]
     },
     "execution_count": 66,
     "metadata": {},
     "output_type": "execute_result"
    }
   ],
   "source": [
    "obj.a     #<-- It will print the value of class variable. It means we can call the class variable from object"
   ]
  },
  {
   "cell_type": "code",
   "execution_count": 158,
   "id": "851b2aee",
   "metadata": {},
   "outputs": [
    {
     "name": "stdout",
     "output_type": "stream",
     "text": [
      "Over here, the destructor is initialized\n"
     ]
    }
   ],
   "source": [
    "del obj       #<-- Here, the object obj is deleted "
   ]
  },
  {
   "cell_type": "code",
   "execution_count": 159,
   "id": "c6638d8e",
   "metadata": {},
   "outputs": [
    {
     "ename": "NameError",
     "evalue": "name 'obj' is not defined",
     "output_type": "error",
     "traceback": [
      "\u001b[1;31m---------------------------------------------------------------------------\u001b[0m",
      "\u001b[1;31mNameError\u001b[0m                                 Traceback (most recent call last)",
      "\u001b[1;32m<ipython-input-159-c88944e91e53>\u001b[0m in \u001b[0;36m<module>\u001b[1;34m\u001b[0m\n\u001b[1;32m----> 1\u001b[1;33m \u001b[0mobj\u001b[0m\u001b[1;33m\u001b[0m\u001b[1;33m\u001b[0m\u001b[0m\n\u001b[0m",
      "\u001b[1;31mNameError\u001b[0m: name 'obj' is not defined"
     ]
    }
   ],
   "source": [
    "obj    #<-- now it will be not defined because it is deleted"
   ]
  },
  {
   "cell_type": "code",
   "execution_count": 173,
   "id": "73349999",
   "metadata": {
    "scrolled": true
   },
   "outputs": [
    {
     "name": "stdout",
     "output_type": "stream",
     "text": [
      "Over here, the constructor is initialized\n",
      "Over here, the destructor is initialized\n"
     ]
    }
   ],
   "source": [
    "obj=Animal()\n",
    "del obj\n",
    "\n",
    "# Here, both thing will be happer. At first, the constructor will be created and in first time of assign, the constructor will be printed only because it is called by default\n",
    "# where as at second time when del obj is printed, it will print the 2nd or last line of obj"
   ]
  },
  {
   "cell_type": "code",
   "execution_count": null,
   "id": "e64f5413",
   "metadata": {},
   "outputs": [],
   "source": []
  },
  {
   "cell_type": "code",
   "execution_count": null,
   "id": "b48af5b6",
   "metadata": {},
   "outputs": [],
   "source": []
  },
  {
   "cell_type": "code",
   "execution_count": null,
   "id": "897706ee",
   "metadata": {},
   "outputs": [],
   "source": []
  },
  {
   "cell_type": "code",
   "execution_count": 169,
   "id": "2e43cdee",
   "metadata": {},
   "outputs": [],
   "source": [
    "class Animal:\n",
    "    a=42\n",
    "    def __init__(self):      \n",
    "        print(\"Over here, the constructor is initialized\")"
   ]
  },
  {
   "cell_type": "code",
   "execution_count": 170,
   "id": "deaa5696",
   "metadata": {},
   "outputs": [
    {
     "name": "stdout",
     "output_type": "stream",
     "text": [
      "Over here, the constructor is initialized\n"
     ]
    }
   ],
   "source": [
    "obj=Animal()"
   ]
  },
  {
   "cell_type": "code",
   "execution_count": 171,
   "id": "95be0d5d",
   "metadata": {},
   "outputs": [],
   "source": [
    "del obj    #<- you can delete an object without using of destructor"
   ]
  },
  {
   "cell_type": "code",
   "execution_count": null,
   "id": "069afb8a",
   "metadata": {},
   "outputs": [],
   "source": []
  },
  {
   "cell_type": "code",
   "execution_count": null,
   "id": "490484c6",
   "metadata": {},
   "outputs": [],
   "source": []
  },
  {
   "cell_type": "markdown",
   "id": "c5998373",
   "metadata": {},
   "source": [
    "# Data Abstraction & Encaps"
   ]
  },
  {
   "cell_type": "code",
   "execution_count": 32,
   "id": "7696f32c",
   "metadata": {},
   "outputs": [],
   "source": [
    "class Animal:\n",
    "    __a=10    #<-- You can hide a variable and its value by adding two _ at the prefix of a\n",
    "    # __a can not be directly used by any function inside the class\n",
    "    def speak(self):\n",
    "        print(f\"The value of __a is {__a}\")"
   ]
  },
  {
   "cell_type": "code",
   "execution_count": 33,
   "id": "a2af8fd5",
   "metadata": {},
   "outputs": [],
   "source": [
    "obj = Animal()"
   ]
  },
  {
   "cell_type": "code",
   "execution_count": 18,
   "id": "8c058e5f",
   "metadata": {},
   "outputs": [
    {
     "ename": "AttributeError",
     "evalue": "'Animal' object has no attribute '__a'",
     "output_type": "error",
     "traceback": [
      "\u001b[1;31m---------------------------------------------------------------------------\u001b[0m",
      "\u001b[1;31mAttributeError\u001b[0m                            Traceback (most recent call last)",
      "\u001b[1;32m<ipython-input-18-068c796be8c0>\u001b[0m in \u001b[0;36m<module>\u001b[1;34m\u001b[0m\n\u001b[1;32m----> 1\u001b[1;33m \u001b[0mobj\u001b[0m\u001b[1;33m.\u001b[0m\u001b[0m__a\u001b[0m    \u001b[1;31m#<--This will give you en error because you have hidden the __a\u001b[0m\u001b[1;33m\u001b[0m\u001b[1;33m\u001b[0m\u001b[0m\n\u001b[0m",
      "\u001b[1;31mAttributeError\u001b[0m: 'Animal' object has no attribute '__a'"
     ]
    }
   ],
   "source": [
    "obj.__a    #<--This will give you en error because you have hidden the __a"
   ]
  },
  {
   "cell_type": "code",
   "execution_count": 34,
   "id": "c793195d",
   "metadata": {},
   "outputs": [
    {
     "ename": "NameError",
     "evalue": "name '_Animal__a' is not defined",
     "output_type": "error",
     "traceback": [
      "\u001b[1;31m---------------------------------------------------------------------------\u001b[0m",
      "\u001b[1;31mNameError\u001b[0m                                 Traceback (most recent call last)",
      "\u001b[1;32m<ipython-input-34-61dc3140280b>\u001b[0m in \u001b[0;36m<module>\u001b[1;34m\u001b[0m\n\u001b[1;32m----> 1\u001b[1;33m \u001b[0mobj\u001b[0m\u001b[1;33m.\u001b[0m\u001b[0mspeak\u001b[0m\u001b[1;33m(\u001b[0m\u001b[1;33m)\u001b[0m   \u001b[1;31m#<-- You can't use the __a from the function itself also directly\u001b[0m\u001b[1;33m\u001b[0m\u001b[1;33m\u001b[0m\u001b[0m\n\u001b[0m",
      "\u001b[1;32m<ipython-input-32-5660b693ba5b>\u001b[0m in \u001b[0;36mspeak\u001b[1;34m(self)\u001b[0m\n\u001b[0;32m      3\u001b[0m     \u001b[1;31m# __a can not be directly used by any function inside the class\u001b[0m\u001b[1;33m\u001b[0m\u001b[1;33m\u001b[0m\u001b[1;33m\u001b[0m\u001b[0m\n\u001b[0;32m      4\u001b[0m     \u001b[1;32mdef\u001b[0m \u001b[0mspeak\u001b[0m\u001b[1;33m(\u001b[0m\u001b[0mself\u001b[0m\u001b[1;33m)\u001b[0m\u001b[1;33m:\u001b[0m\u001b[1;33m\u001b[0m\u001b[1;33m\u001b[0m\u001b[0m\n\u001b[1;32m----> 5\u001b[1;33m         \u001b[0mprint\u001b[0m\u001b[1;33m(\u001b[0m\u001b[1;34mf\"The value of __a is {__a}\"\u001b[0m\u001b[1;33m)\u001b[0m\u001b[1;33m\u001b[0m\u001b[1;33m\u001b[0m\u001b[0m\n\u001b[0m",
      "\u001b[1;31mNameError\u001b[0m: name '_Animal__a' is not defined"
     ]
    }
   ],
   "source": [
    "obj.speak()   #<-- You can't use the __a from the function itself also directly"
   ]
  },
  {
   "cell_type": "code",
   "execution_count": null,
   "id": "94c09b5c",
   "metadata": {},
   "outputs": [],
   "source": []
  },
  {
   "cell_type": "code",
   "execution_count": 20,
   "id": "34e58c60",
   "metadata": {},
   "outputs": [],
   "source": [
    "class Animal:\n",
    "    __a=10\n",
    "    def speak(self):\n",
    "        print(self)  #<- It shows the reference/address of the class\n",
    "        print(f\"The value of __a is {Animal.__a}\")  #you can access the __a by using class name first and then the hidden variable name\n",
    "        print(f\"You can also use to find the value of __a by {self.__a}\")  #self.__a is also can be used"
   ]
  },
  {
   "cell_type": "code",
   "execution_count": 21,
   "id": "80ee5295",
   "metadata": {},
   "outputs": [],
   "source": [
    "obj=Animal()"
   ]
  },
  {
   "cell_type": "code",
   "execution_count": 22,
   "id": "580042e3",
   "metadata": {},
   "outputs": [
    {
     "name": "stdout",
     "output_type": "stream",
     "text": [
      "<__main__.Animal object at 0x000001FB52CD29D0>\n",
      "The value of __a is 10\n",
      "You can also use to find the value of __a by 10\n"
     ]
    }
   ],
   "source": [
    "obj.speak()"
   ]
  },
  {
   "cell_type": "code",
   "execution_count": null,
   "id": "0663cd10",
   "metadata": {},
   "outputs": [],
   "source": []
  },
  {
   "cell_type": "code",
   "execution_count": null,
   "id": "68285731",
   "metadata": {},
   "outputs": [],
   "source": []
  },
  {
   "cell_type": "code",
   "execution_count": 84,
   "id": "6cfe3b73",
   "metadata": {},
   "outputs": [],
   "source": [
    "class Animal:\n",
    "    __a=10\n",
    "    def speak(self):\n",
    "        print(f\"The value of __a is {type(Animal.__a)}\")  #<-self.__a also can be used"
   ]
  },
  {
   "cell_type": "code",
   "execution_count": 85,
   "id": "ccf4835e",
   "metadata": {},
   "outputs": [],
   "source": [
    "obj= Animal()"
   ]
  },
  {
   "cell_type": "code",
   "execution_count": 86,
   "id": "3612940b",
   "metadata": {},
   "outputs": [
    {
     "name": "stdout",
     "output_type": "stream",
     "text": [
      "The value of __a is <class 'int'>\n"
     ]
    }
   ],
   "source": [
    "obj.speak()"
   ]
  },
  {
   "cell_type": "code",
   "execution_count": null,
   "id": "d19058dc",
   "metadata": {},
   "outputs": [],
   "source": []
  },
  {
   "cell_type": "code",
   "execution_count": 87,
   "id": "deba7560",
   "metadata": {},
   "outputs": [],
   "source": [
    "class Animal:\n",
    "    __a=10\n",
    "    def speak(self):\n",
    "        print(f\"The value of __a is {Animal.__a+1}\")  # you can also change the value of __a by using Animal.__a \n",
    "        print(f\"The value of __a is {self.__a+1}\")\n",
    "   \n",
    "    def speak2(self):\n",
    "        Animal.__a=Animal.__a +1  #It will globally change value of variable __a\n",
    "        print(f\"{Animal.__a}\")  #<-self.__a is also can be used\n",
    "    \n",
    "    \n",
    "    def speak3(self):\n",
    "        print(f\"{Animal.__a}\")  #<-self.__a is also can be used"
   ]
  },
  {
   "cell_type": "code",
   "execution_count": 88,
   "id": "dc30cef0",
   "metadata": {},
   "outputs": [],
   "source": [
    "obj=Animal()"
   ]
  },
  {
   "cell_type": "code",
   "execution_count": 89,
   "id": "9c1466e3",
   "metadata": {},
   "outputs": [
    {
     "name": "stdout",
     "output_type": "stream",
     "text": [
      "The value of __a is 11\n",
      "The value of __a is 11\n"
     ]
    }
   ],
   "source": [
    "obj.speak()"
   ]
  },
  {
   "cell_type": "code",
   "execution_count": 213,
   "id": "b8ac415d",
   "metadata": {},
   "outputs": [
    {
     "name": "stdout",
     "output_type": "stream",
     "text": [
      "11\n"
     ]
    }
   ],
   "source": [
    "obj.speak2()"
   ]
  },
  {
   "cell_type": "code",
   "execution_count": 214,
   "id": "83a19e83",
   "metadata": {},
   "outputs": [
    {
     "name": "stdout",
     "output_type": "stream",
     "text": [
      "11\n"
     ]
    }
   ],
   "source": [
    "obj.speak3()"
   ]
  },
  {
   "cell_type": "code",
   "execution_count": null,
   "id": "497d36a2",
   "metadata": {},
   "outputs": [],
   "source": []
  },
  {
   "cell_type": "code",
   "execution_count": null,
   "id": "0ed07a8b",
   "metadata": {},
   "outputs": [],
   "source": []
  },
  {
   "cell_type": "code",
   "execution_count": null,
   "id": "c63e7621",
   "metadata": {},
   "outputs": [],
   "source": [
    "Other OOPs topics:-\n",
    "\n",
    "classmethod,staticmethod,c->__init__,__add__, private , public"
   ]
  },
  {
   "cell_type": "code",
   "execution_count": null,
   "id": "c08553fa",
   "metadata": {},
   "outputs": [],
   "source": [
    "File system -> Pandas()\n",
    "Database System -> MySQL -> SQL\n",
    "SQLite,Postgres,Oracle,\n",
    "MongoDB <-- Remember that MongoDB is noSQL Language"
   ]
  },
  {
   "cell_type": "code",
   "execution_count": null,
   "id": "100b8fc3",
   "metadata": {},
   "outputs": [],
   "source": []
  },
  {
   "cell_type": "code",
   "execution_count": null,
   "id": "897f55ff",
   "metadata": {},
   "outputs": [],
   "source": []
  },
  {
   "cell_type": "code",
   "execution_count": null,
   "id": "3b92cbcd",
   "metadata": {},
   "outputs": [],
   "source": []
  },
  {
   "cell_type": "code",
   "execution_count": 8,
   "id": "56cd2e9d",
   "metadata": {},
   "outputs": [
    {
     "data": {
      "application/javascript": [
       "IPython.notebook.set_autosave_interval(120000)"
      ]
     },
     "metadata": {},
     "output_type": "display_data"
    },
    {
     "name": "stdout",
     "output_type": "stream",
     "text": [
      "Autosaving every 120 seconds\n"
     ]
    }
   ],
   "source": [
    "%autosave 120"
   ]
  },
  {
   "cell_type": "code",
   "execution_count": null,
   "id": "b593f45b",
   "metadata": {},
   "outputs": [],
   "source": []
  }
 ],
 "metadata": {
  "kernelspec": {
   "display_name": "Python 3",
   "language": "python",
   "name": "python3"
  },
  "language_info": {
   "codemirror_mode": {
    "name": "ipython",
    "version": 3
   },
   "file_extension": ".py",
   "mimetype": "text/x-python",
   "name": "python",
   "nbconvert_exporter": "python",
   "pygments_lexer": "ipython3",
   "version": "3.9.5"
  }
 },
 "nbformat": 4,
 "nbformat_minor": 5
}
