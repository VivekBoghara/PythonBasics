{
 "cells": [
  {
   "cell_type": "markdown",
   "id": "cee709ee",
   "metadata": {},
   "source": [
    "## OOPs  -> Object Oriented Programmin\n",
    "\n",
    "1. It is an approach that will allow you to develop applications\n",
    "2. It focuses on the code reusabilities\n",
    "3. It allows to do programming using the concept of classes and object"
   ]
  },
  {
   "cell_type": "code",
   "execution_count": null,
   "id": "cc472c74",
   "metadata": {},
   "outputs": [],
   "source": [
    "OOPs -> Python, Java, C++\n",
    "Does not have OOPs -> C"
   ]
  },
  {
   "cell_type": "code",
   "execution_count": null,
   "id": "3dddb025",
   "metadata": {},
   "outputs": [],
   "source": []
  },
  {
   "cell_type": "markdown",
   "id": "ce6d2ecc",
   "metadata": {},
   "source": [
    "## Concepts/Principles of OOPs\n",
    "\n",
    "1.Class\n",
    "2.Object\n",
    "3.Method(Functions)\n",
    "*Properties of OOPs\n",
    "4.Inheritance\n",
    "5.Data Abstraction\n",
    "6.Polymorphism\n",
    "7.Encapsulation"
   ]
  },
  {
   "cell_type": "code",
   "execution_count": null,
   "id": "59af9031",
   "metadata": {},
   "outputs": [],
   "source": [
    "class is a plan or blueprint of the project\n",
    "object is like methods and functions"
   ]
  },
  {
   "cell_type": "code",
   "execution_count": null,
   "id": "4b2fe445",
   "metadata": {},
   "outputs": [],
   "source": []
  },
  {
   "cell_type": "markdown",
   "id": "0f3de5b2",
   "metadata": {},
   "source": [
    "# class\n",
    "1.It is a blueprint/plan/map of defining the entire structure of programming\n",
    "\n",
    "2.It is a collection of objects,functions,specific attributes,etc.\n",
    "\n",
    "Listen, you can use class without parentheses. Mostly perefer to use class without parenthases but when you inheritance it, then you must have to use parentheses and you have to use parentheses when you have to define an object. \n",
    "\n",
    "as example:   \n",
    "class A:\n",
    "    .....\n",
    "p = A()   <-- use parentheses here"
   ]
  },
  {
   "cell_type": "code",
   "execution_count": null,
   "id": "54543e06",
   "metadata": {},
   "outputs": [],
   "source": []
  },
  {
   "cell_type": "code",
   "execution_count": null,
   "id": "cc595147",
   "metadata": {},
   "outputs": [],
   "source": []
  },
  {
   "cell_type": "code",
   "execution_count": null,
   "id": "0ffec5d8",
   "metadata": {},
   "outputs": [],
   "source": [
    "University(XYZ) -> Class\n",
    "Students -> Objects\n",
    "Deparment of the students -> Methods"
   ]
  },
  {
   "cell_type": "code",
   "execution_count": null,
   "id": "327bd632",
   "metadata": {},
   "outputs": [],
   "source": [
    "SYNTAX:\n",
    "class name_of_the_class():\n",
    "    statements"
   ]
  },
  {
   "cell_type": "code",
   "execution_count": 4,
   "id": "826947ce",
   "metadata": {},
   "outputs": [],
   "source": [
    "class First():\n",
    "    def pass_or_fail(self,marks):  #In every method or function which you define in the class, you have to write self in that which shows a function itself.\n",
    "        if marks>75:\n",
    "            print(\"Pass\")\n",
    "        else:\n",
    "            print(\"Fail\")"
   ]
  },
  {
   "cell_type": "code",
   "execution_count": null,
   "id": "26dc45b7",
   "metadata": {},
   "outputs": [],
   "source": []
  },
  {
   "cell_type": "markdown",
   "id": "14b235e1",
   "metadata": {},
   "source": [
    "## Object\n",
    "\n",
    "1.It is an instance of a class\n",
    "\n",
    "* Instance -> an example/ a case"
   ]
  },
  {
   "cell_type": "code",
   "execution_count": 3,
   "id": "8d798854",
   "metadata": {},
   "outputs": [],
   "source": [
    "SYTNTAX:\n",
    "    \n",
    "object_name=class_name(arguments)    "
   ]
  },
  {
   "cell_type": "code",
   "execution_count": 5,
   "id": "05a69032",
   "metadata": {},
   "outputs": [],
   "source": [
    "object_name = First()"
   ]
  },
  {
   "cell_type": "code",
   "execution_count": 6,
   "id": "2e30371f",
   "metadata": {},
   "outputs": [
    {
     "name": "stdout",
     "output_type": "stream",
     "text": [
      "Pass\n"
     ]
    }
   ],
   "source": [
    "object_name.pass_or_fail(98)"
   ]
  },
  {
   "cell_type": "code",
   "execution_count": null,
   "id": "9952cb79",
   "metadata": {},
   "outputs": [],
   "source": []
  },
  {
   "cell_type": "markdown",
   "id": "8fa479ff",
   "metadata": {},
   "source": [
    "## Scope of variables\n",
    "\n",
    "1.Global Variable\n",
    "\n",
    "2.Local Variable"
   ]
  },
  {
   "cell_type": "code",
   "execution_count": 7,
   "id": "b8c9e4a7",
   "metadata": {},
   "outputs": [],
   "source": [
    "var=10  #Global Variable\n",
    "def random_function(inp):\n",
    "    print(inp+var)"
   ]
  },
  {
   "cell_type": "code",
   "execution_count": 8,
   "id": "630173b4",
   "metadata": {},
   "outputs": [
    {
     "name": "stdout",
     "output_type": "stream",
     "text": [
      "22\n"
     ]
    }
   ],
   "source": [
    "random_function(12)\n"
   ]
  },
  {
   "cell_type": "code",
   "execution_count": 13,
   "id": "6edb4763",
   "metadata": {},
   "outputs": [],
   "source": [
    "var=10\n",
    "def random_function(inp):\n",
    "    var = 8 # local Variable \n",
    "    print(inp+var)\n",
    "# remember, local variable can be changed in the function where as global variable can't be changed inside the function    "
   ]
  },
  {
   "cell_type": "code",
   "execution_count": 14,
   "id": "c7ba6ee2",
   "metadata": {},
   "outputs": [
    {
     "name": "stdout",
     "output_type": "stream",
     "text": [
      "20\n"
     ]
    }
   ],
   "source": [
    "random_function(12)"
   ]
  },
  {
   "cell_type": "code",
   "execution_count": 18,
   "id": "3970b651",
   "metadata": {},
   "outputs": [],
   "source": [
    "var=10\n",
    "def random_function(inp):\n",
    "    #var= var+20    #<-It will give you en error because here, value is not defined inside the function, so it will use the var of global variable and you can't change the value of global variable as this way. So it will give me an error.\n",
    "    var=8   #- Now, this is a local variable\n",
    "    var = var+20\n",
    "    return var"
   ]
  },
  {
   "cell_type": "code",
   "execution_count": 19,
   "id": "1b2a8ee4",
   "metadata": {},
   "outputs": [
    {
     "name": "stdout",
     "output_type": "stream",
     "text": [
      "28\n",
      "10\n"
     ]
    }
   ],
   "source": [
    "print(random_function(12))   #<-- it gives me the value of var which was returned from the function's loal variable \n",
    "print(var)           #<- this is the value of the global variable var"
   ]
  },
  {
   "cell_type": "code",
   "execution_count": null,
   "id": "5fc6d7e0",
   "metadata": {},
   "outputs": [],
   "source": []
  },
  {
   "cell_type": "code",
   "execution_count": 16,
   "id": "b917d49d",
   "metadata": {},
   "outputs": [],
   "source": [
    "'''Phase 2'''\n",
    "\n",
    "var =10\n",
    "def ran():\n",
    "    global var     #For change the value of the global variable, you have to define it as a global (variable name) and then, you have to do changes in it.\n",
    "    var=var+20\n",
    "    return var"
   ]
  },
  {
   "cell_type": "code",
   "execution_count": 17,
   "id": "6d25496d",
   "metadata": {},
   "outputs": [
    {
     "name": "stdout",
     "output_type": "stream",
     "text": [
      "30\n",
      "30\n"
     ]
    }
   ],
   "source": [
    "print(ran())\n",
    "print(var)"
   ]
  },
  {
   "cell_type": "code",
   "execution_count": null,
   "id": "f5b4b299",
   "metadata": {},
   "outputs": [],
   "source": []
  },
  {
   "cell_type": "code",
   "execution_count": 35,
   "id": "43b0700c",
   "metadata": {},
   "outputs": [],
   "source": [
    "# Quiz time\n",
    "var=50\n",
    "def fun1():\n",
    "#     global var\n",
    "    var=40\n",
    "    def fun2():\n",
    "        global var   #Remember that, here, var is not a global variable for everyone because it is defined inside the function fun1 so it will ignore this change and gives the old value                      \n",
    "        var=20      \n",
    "        print(f\"the value of var before: {var}\")\n",
    "    fun2()\n",
    "    print(f\"the value of var in fun1: {var}\")"
   ]
  },
  {
   "cell_type": "code",
   "execution_count": 36,
   "id": "c70e47e1",
   "metadata": {},
   "outputs": [
    {
     "name": "stdout",
     "output_type": "stream",
     "text": [
      "the value of var before: 20\n",
      "the value of var in fun1: 40\n"
     ]
    }
   ],
   "source": [
    "fun1()"
   ]
  },
  {
   "cell_type": "code",
   "execution_count": null,
   "id": "feea8772",
   "metadata": {},
   "outputs": [],
   "source": []
  },
  {
   "cell_type": "code",
   "execution_count": 41,
   "id": "854afa17",
   "metadata": {},
   "outputs": [],
   "source": [
    "var=100\n",
    "def fun1():\n",
    "    var=20\n",
    "    def fun2():\n",
    "        global var   \n",
    "        var=30     \n",
    "    fun2()\n",
    "    print(f\"the value of var before: {var}\")  #<- This will still show the value of var is 20 bcoz it is defined in the function in starting and in fun2(),There is change in value of global var not a local var"
   ]
  },
  {
   "cell_type": "code",
   "execution_count": 42,
   "id": "c0e1e7e9",
   "metadata": {},
   "outputs": [
    {
     "name": "stdout",
     "output_type": "stream",
     "text": [
      "the value of var before: 20\n",
      "Now the value of global variable var is :-> 30\n"
     ]
    }
   ],
   "source": [
    "fun1()\n",
    "print(f\"Now the value of global variable var is :-> {var}\")"
   ]
  },
  {
   "cell_type": "code",
   "execution_count": null,
   "id": "80a2db25",
   "metadata": {},
   "outputs": [],
   "source": []
  },
  {
   "cell_type": "markdown",
   "id": "f77853d7",
   "metadata": {},
   "source": [
    "## Inheritance\n",
    "\n",
    "In python, 3 type of inheritance:\n",
    "\n",
    "    1. Single Inheritance\n",
    "    2. Multiple Inhertance\n",
    "    3. Multilevel Inheritance\n",
    "    \n",
    "where as Java has only 2 inheritance:\n",
    "\n",
    "1.Single Inheritance  and\n",
    "\n",
    "2.Multilevel Inheritance"
   ]
  },
  {
   "cell_type": "code",
   "execution_count": 43,
   "id": "8808ec0f",
   "metadata": {},
   "outputs": [],
   "source": [
    "class father():   #Base/Parent class\n",
    "    def write(self):\n",
    "        return \"yes\"\n",
    "    \n",
    "class son(father):   #This is known as Derived/Child class\n",
    "    def write(self):\n",
    "        return \"yes\""
   ]
  },
  {
   "cell_type": "code",
   "execution_count": null,
   "id": "f67907da",
   "metadata": {},
   "outputs": [],
   "source": []
  },
  {
   "cell_type": "markdown",
   "id": "86003875",
   "metadata": {},
   "source": [
    "## Single Inheritance"
   ]
  },
  {
   "cell_type": "code",
   "execution_count": 45,
   "id": "77e6ffe6",
   "metadata": {},
   "outputs": [],
   "source": [
    "class Animal:\n",
    "    def speak(self):\n",
    "        print(\"Animal is speaking\")\n",
    "\n",
    "class Dog(Animal):\n",
    "    def bark(self):\n",
    "        print(\"The dog barks\")"
   ]
  },
  {
   "cell_type": "code",
   "execution_count": 11,
   "id": "837e5f79",
   "metadata": {},
   "outputs": [],
   "source": [
    "ocj= dog()"
   ]
  },
  {
   "cell_type": "code",
   "execution_count": 47,
   "id": "3b23eb63",
   "metadata": {},
   "outputs": [
    {
     "name": "stdout",
     "output_type": "stream",
     "text": [
      "The dog barks\n"
     ]
    }
   ],
   "source": [
    "obj.bark()"
   ]
  },
  {
   "cell_type": "code",
   "execution_count": 13,
   "id": "440baf74",
   "metadata": {},
   "outputs": [
    {
     "name": "stdout",
     "output_type": "stream",
     "text": [
      "The Animal Speaks \n"
     ]
    }
   ],
   "source": [
    "Animal.speak(ocj)"
   ]
  },
  {
   "cell_type": "code",
   "execution_count": 48,
   "id": "b9f69b37",
   "metadata": {},
   "outputs": [
    {
     "name": "stdout",
     "output_type": "stream",
     "text": [
      "Animal is speaking\n"
     ]
    }
   ],
   "source": [
    "obj.speak()"
   ]
  },
  {
   "cell_type": "code",
   "execution_count": null,
   "id": "12aa6f48",
   "metadata": {},
   "outputs": [],
   "source": []
  },
  {
   "cell_type": "code",
   "execution_count": 76,
   "id": "15144de5",
   "metadata": {},
   "outputs": [],
   "source": [
    "class Animal():\n",
    "    def speak(self):\n",
    "        print(\"Animal is speaking\")\n",
    "    def run(self):\n",
    "        print(\"The dog runs\")\n",
    "\n",
    "class Dog():       \n",
    "    def bark(self):\n",
    "        print(\"The dog barks\")\n",
    "    def speak(self):    #<-- If the speak function is already available and defined in this class, then it will not go to its parent class for take value. It prints the value of its own funciton.\n",
    "        print(\"Cat is speaking\")"
   ]
  },
  {
   "cell_type": "code",
   "execution_count": 62,
   "id": "4141f762",
   "metadata": {},
   "outputs": [],
   "source": [
    "obj = Dog()"
   ]
  },
  {
   "cell_type": "code",
   "execution_count": 77,
   "id": "70f741ff",
   "metadata": {},
   "outputs": [
    {
     "name": "stdout",
     "output_type": "stream",
     "text": [
      "Cat is speaking\n"
     ]
    }
   ],
   "source": [
    "obj.speak()"
   ]
  },
  {
   "cell_type": "code",
   "execution_count": 64,
   "id": "b021e998",
   "metadata": {},
   "outputs": [],
   "source": [
    "i = Animal()"
   ]
  },
  {
   "cell_type": "code",
   "execution_count": 78,
   "id": "e81cb91c",
   "metadata": {},
   "outputs": [
    {
     "name": "stdout",
     "output_type": "stream",
     "text": [
      "Animal is speaking\n"
     ]
    }
   ],
   "source": [
    "i.speak()"
   ]
  },
  {
   "cell_type": "code",
   "execution_count": null,
   "id": "b3818013",
   "metadata": {},
   "outputs": [],
   "source": []
  },
  {
   "cell_type": "code",
   "execution_count": null,
   "id": "ab0d2b19",
   "metadata": {},
   "outputs": [],
   "source": []
  },
  {
   "cell_type": "markdown",
   "id": "c2697bc2",
   "metadata": {},
   "source": [
    "## Multilevel Inheritance\n",
    "\n",
    "multilevel inheritace is like the collection of single inheritance\n",
    "Hybrid inheritance means multilevel inharitance\n"
   ]
  },
  {
   "cell_type": "code",
   "execution_count": 109,
   "id": "3e69bfec",
   "metadata": {},
   "outputs": [],
   "source": [
    "class Animal:\n",
    "    def speak(self):\n",
    "        print(\"Animal is speaking\")\n",
    "\n",
    "class Dog(Animal):\n",
    "    f=\"dog\"\n",
    "    def bark(self):\n",
    "        print(f\"The {self.f} barks\") \n",
    "        \n",
    "class Puppy(Dog):\n",
    "    f=\"ij\"\n",
    "    def eat(self):\n",
    "        print(f\"The {self.f} is eating\")\n",
    "\n",
    "# Remember, Here the Animal and Puppy both class are totally independent with each other. \n",
    "# they don't have any relation between each other. But puppy class is connected with dog and dog is connected with animal. So you can use the function of animal class through puppy class"
   ]
  },
  {
   "cell_type": "code",
   "execution_count": 110,
   "id": "4106e817",
   "metadata": {},
   "outputs": [],
   "source": [
    "obj = Puppy()"
   ]
  },
  {
   "cell_type": "code",
   "execution_count": 111,
   "id": "6615084e",
   "metadata": {},
   "outputs": [
    {
     "name": "stdout",
     "output_type": "stream",
     "text": [
      "The ij is eating\n"
     ]
    }
   ],
   "source": [
    "obj.eat()"
   ]
  },
  {
   "cell_type": "code",
   "execution_count": 112,
   "id": "b8286ab8",
   "metadata": {},
   "outputs": [
    {
     "name": "stdout",
     "output_type": "stream",
     "text": [
      "The ij barks\n"
     ]
    }
   ],
   "source": [
    "obj.bark()"
   ]
  },
  {
   "cell_type": "code",
   "execution_count": 113,
   "id": "d4a62485",
   "metadata": {},
   "outputs": [
    {
     "name": "stdout",
     "output_type": "stream",
     "text": [
      "Animal is speaking\n"
     ]
    }
   ],
   "source": [
    "obj.speak()"
   ]
  },
  {
   "cell_type": "code",
   "execution_count": null,
   "id": "dadb280b",
   "metadata": {},
   "outputs": [],
   "source": []
  },
  {
   "cell_type": "code",
   "execution_count": 127,
   "id": "5e4de19f",
   "metadata": {},
   "outputs": [],
   "source": [
    "class Animal:\n",
    "    def speak(self):\n",
    "        print(\"Animal is speaking\")\n",
    "    def run(self):\n",
    "        print(\"Animal is running\")\n",
    "        \n",
    "\n",
    "class Dog(Animal):\n",
    "    legs=0\n",
    "    eyes=0\n",
    "    def __init__(self,leg,eyes,nose):\n",
    "        self.legs=leg\n",
    "        self.eyes=eyes\n",
    "    def bark(self):\n",
    "        print(\"The dog barks\") \n",
    "    def run(self):\n",
    "        print(\"Dog is running\")    \n",
    "        \n",
    "        \n",
    "class Puppy(Dog):\n",
    "    def eat(self):\n",
    "        print(\"The puppy is eating\")\n",
    "    def bark(self):\n",
    "        print(\"The puppy is not barking\") "
   ]
  },
  {
   "cell_type": "code",
   "execution_count": 128,
   "id": "33ece3a1",
   "metadata": {},
   "outputs": [],
   "source": [
    "obj = Dog(4,2,1)"
   ]
  },
  {
   "cell_type": "code",
   "execution_count": 129,
   "id": "86e73fa4",
   "metadata": {},
   "outputs": [
    {
     "name": "stdout",
     "output_type": "stream",
     "text": [
      "2\n"
     ]
    }
   ],
   "source": [
    "print(obj.eyes)"
   ]
  },
  {
   "cell_type": "code",
   "execution_count": 66,
   "id": "2a654ee8",
   "metadata": {},
   "outputs": [],
   "source": [
    "obj=Puppy()"
   ]
  },
  {
   "cell_type": "code",
   "execution_count": 59,
   "id": "a199bac9",
   "metadata": {},
   "outputs": [
    {
     "name": "stdout",
     "output_type": "stream",
     "text": [
      "The puppy is not barking\n"
     ]
    }
   ],
   "source": [
    "obj.bark()"
   ]
  },
  {
   "cell_type": "code",
   "execution_count": 67,
   "id": "97b28e6a",
   "metadata": {},
   "outputs": [
    {
     "name": "stdout",
     "output_type": "stream",
     "text": [
      "Dog is running\n"
     ]
    }
   ],
   "source": [
    "obj.run()"
   ]
  },
  {
   "cell_type": "code",
   "execution_count": null,
   "id": "9bd580a9",
   "metadata": {},
   "outputs": [],
   "source": []
  },
  {
   "cell_type": "code",
   "execution_count": null,
   "id": "29675338",
   "metadata": {},
   "outputs": [],
   "source": []
  },
  {
   "cell_type": "markdown",
   "id": "cfb629c4",
   "metadata": {},
   "source": [
    "## Multiple Inheritance\n",
    "\n"
   ]
  },
  {
   "cell_type": "code",
   "execution_count": 60,
   "id": "9d75c516",
   "metadata": {},
   "outputs": [],
   "source": [
    "class Animal:\n",
    "    def speak(self):\n",
    "        print(\"Animal is speaking\")\n",
    "\n",
    "class Dog:\n",
    "    def bark(self):\n",
    "        print(\"The dog barks\") \n",
    "        \n",
    "class Puppy(Animal,Dog):\n",
    "    def eat(self):\n",
    "        print(\"The puppy is eating\")\n",
    "        \n",
    "        \n",
    "#Here, Dog and Animal both are parent classes of class Puppy but class Animal and class Dog both are not related with each other. \n",
    "# class Animal and Dog are independent from each other."
   ]
  },
  {
   "cell_type": "code",
   "execution_count": 61,
   "id": "361834bb",
   "metadata": {},
   "outputs": [],
   "source": [
    "obj=Puppy()"
   ]
  },
  {
   "cell_type": "code",
   "execution_count": 62,
   "id": "cf280d8b",
   "metadata": {},
   "outputs": [
    {
     "name": "stdout",
     "output_type": "stream",
     "text": [
      "The puppy is eating\n"
     ]
    }
   ],
   "source": [
    "obj.eat()"
   ]
  },
  {
   "cell_type": "code",
   "execution_count": 63,
   "id": "287c6d2c",
   "metadata": {},
   "outputs": [
    {
     "name": "stdout",
     "output_type": "stream",
     "text": [
      "The dog barks\n"
     ]
    }
   ],
   "source": [
    "obj.bark()"
   ]
  },
  {
   "cell_type": "code",
   "execution_count": 64,
   "id": "26da48bb",
   "metadata": {},
   "outputs": [
    {
     "name": "stdout",
     "output_type": "stream",
     "text": [
      "Animal is speaking\n"
     ]
    }
   ],
   "source": [
    "obj.speak()"
   ]
  },
  {
   "cell_type": "code",
   "execution_count": null,
   "id": "8e06a432",
   "metadata": {},
   "outputs": [],
   "source": []
  },
  {
   "cell_type": "code",
   "execution_count": 130,
   "id": "f5293fe6",
   "metadata": {},
   "outputs": [],
   "source": [
    "#Quiz\n",
    "\n",
    "class Samp1:\n",
    "    def new1(self):\n",
    "        print(\"This is the 1st class\")\n",
    "    def new2(self):\n",
    "        print(\"This is the 1st class\")\n",
    "        \n",
    "class Samp2:\n",
    "    def new1(self):\n",
    "        print(\"This is the 2nd class\")\n",
    "    def new2(self):\n",
    "        print(\"This is the 2nd class\")        \n",
    "        \n",
    "class finale(Samp1,Samp2):  #<-- Here the Samp1 is written first. So, when the user will call new1 object, at that time The first Samp1 's function will be called.' \n",
    "    def speak():\n",
    "        print(\"The dog speaks\")\n",
    "            \n",
    "#class finale(Samp2,Samp1): #<-- If you will call the function like this, then at that time,if the user will call obj.new1() then, the new1() of Samp2 will be called.      "
   ]
  },
  {
   "cell_type": "code",
   "execution_count": 131,
   "id": "74ae6b3a",
   "metadata": {},
   "outputs": [],
   "source": [
    "obj= finale()"
   ]
  },
  {
   "cell_type": "code",
   "execution_count": 132,
   "id": "1a7a9eb2",
   "metadata": {},
   "outputs": [
    {
     "name": "stdout",
     "output_type": "stream",
     "text": [
      "This is the 1st class\n"
     ]
    }
   ],
   "source": [
    "obj.new1()"
   ]
  },
  {
   "cell_type": "code",
   "execution_count": 133,
   "id": "452a19ab",
   "metadata": {},
   "outputs": [
    {
     "name": "stdout",
     "output_type": "stream",
     "text": [
      "This is the 1st class\n"
     ]
    }
   ],
   "source": [
    "obj.new2()"
   ]
  },
  {
   "cell_type": "code",
   "execution_count": null,
   "id": "bc6d68ad",
   "metadata": {},
   "outputs": [],
   "source": []
  },
  {
   "cell_type": "code",
   "execution_count": 134,
   "id": "b4ed0270",
   "metadata": {},
   "outputs": [],
   "source": [
    "class Samp1:\n",
    "    def new1(self):\n",
    "        print(\"This is the 1st class\")\n",
    "    def new2(self):\n",
    "        print(\"This is the 1st class\")\n",
    "        \n",
    "class Samp2:\n",
    "    def new1(self):\n",
    "        print(\"This is the 2nd class\")\n",
    "    def new2(self):\n",
    "        print(\"This is the 2nd class\")        \n",
    "        \n",
    "class finale(Samp1,Samp2):  \n",
    "    def speak(self):\n",
    "        print(\"The dog speaks\")\n",
    "    def new1(self):\n",
    "        print(\"This is from child class\")"
   ]
  },
  {
   "cell_type": "code",
   "execution_count": 135,
   "id": "bbe68fa4",
   "metadata": {},
   "outputs": [],
   "source": [
    "obj=finale()"
   ]
  },
  {
   "cell_type": "code",
   "execution_count": 136,
   "id": "80054e68",
   "metadata": {},
   "outputs": [
    {
     "name": "stdout",
     "output_type": "stream",
     "text": [
      "This is from child class\n"
     ]
    }
   ],
   "source": [
    "obj.new1()   #<-- It will print the value of child class because the class will first search from inside itself and if not find then go the parents class.    "
   ]
  },
  {
   "cell_type": "code",
   "execution_count": null,
   "id": "fef7ed8f",
   "metadata": {},
   "outputs": [],
   "source": []
  },
  {
   "cell_type": "code",
   "execution_count": 98,
   "id": "13282574",
   "metadata": {},
   "outputs": [],
   "source": [
    "# Method Overriding in python\n",
    "\n",
    "# Method overriding is a process in which child has same method as parent has and both returns different value. At that time if you will call method from child class, then it will return the value from child class itself. It is called as Method overriding  \n",
    "# Method overriding is a part of polymorphism"
   ]
  },
  {
   "cell_type": "code",
   "execution_count": 95,
   "id": "b5349676",
   "metadata": {},
   "outputs": [],
   "source": [
    "class Animal:\n",
    "    def speak(self):\n",
    "        return 10\n",
    "    \n",
    "class Dog(Animal):\n",
    "    def speak(self):            #<-- This is called as method overriding\n",
    "        return 7\n",
    "    \n",
    "class Cat(Animal):\n",
    "    def speak(self):\n",
    "        return 5    "
   ]
  },
  {
   "cell_type": "code",
   "execution_count": 96,
   "id": "5ebb81e3",
   "metadata": {},
   "outputs": [],
   "source": [
    "obj1=Animal()\n",
    "obj2= Dog()\n",
    "obj3= Cat()"
   ]
  },
  {
   "cell_type": "code",
   "execution_count": 88,
   "id": "9182777e",
   "metadata": {},
   "outputs": [
    {
     "data": {
      "text/plain": [
       "10"
      ]
     },
     "execution_count": 88,
     "metadata": {},
     "output_type": "execute_result"
    }
   ],
   "source": [
    "obj1.speak()"
   ]
  },
  {
   "cell_type": "code",
   "execution_count": 89,
   "id": "08f46c1d",
   "metadata": {},
   "outputs": [
    {
     "data": {
      "text/plain": [
       "7"
      ]
     },
     "execution_count": 89,
     "metadata": {},
     "output_type": "execute_result"
    }
   ],
   "source": [
    "obj2.speak()"
   ]
  },
  {
   "cell_type": "code",
   "execution_count": 97,
   "id": "80db49fb",
   "metadata": {},
   "outputs": [
    {
     "data": {
      "text/plain": [
       "5"
      ]
     },
     "execution_count": 97,
     "metadata": {},
     "output_type": "execute_result"
    }
   ],
   "source": [
    "obj3.speak()"
   ]
  },
  {
   "cell_type": "code",
   "execution_count": null,
   "id": "c50a385a",
   "metadata": {},
   "outputs": [],
   "source": []
  },
  {
   "cell_type": "code",
   "execution_count": null,
   "id": "4b148d61",
   "metadata": {},
   "outputs": [],
   "source": []
  },
  {
   "cell_type": "code",
   "execution_count": null,
   "id": "753062ac",
   "metadata": {},
   "outputs": [],
   "source": []
  },
  {
   "cell_type": "code",
   "execution_count": null,
   "id": "7a3df190",
   "metadata": {},
   "outputs": [],
   "source": []
  },
  {
   "cell_type": "code",
   "execution_count": null,
   "id": "1326fb33",
   "metadata": {},
   "outputs": [],
   "source": []
  },
  {
   "cell_type": "code",
   "execution_count": 1,
   "id": "06652c24",
   "metadata": {},
   "outputs": [
    {
     "data": {
      "application/javascript": [
       "IPython.notebook.set_autosave_interval(120000)"
      ]
     },
     "metadata": {},
     "output_type": "display_data"
    },
    {
     "name": "stdout",
     "output_type": "stream",
     "text": [
      "Autosaving every 120 seconds\n"
     ]
    }
   ],
   "source": [
    "%autosave 120"
   ]
  },
  {
   "cell_type": "code",
   "execution_count": null,
   "id": "05d11970",
   "metadata": {},
   "outputs": [],
   "source": []
  }
 ],
 "metadata": {
  "kernelspec": {
   "display_name": "Python 3",
   "language": "python",
   "name": "python3"
  },
  "language_info": {
   "codemirror_mode": {
    "name": "ipython",
    "version": 3
   },
   "file_extension": ".py",
   "mimetype": "text/x-python",
   "name": "python",
   "nbconvert_exporter": "python",
   "pygments_lexer": "ipython3",
   "version": "3.9.5"
  }
 },
 "nbformat": 4,
 "nbformat_minor": 5
}
