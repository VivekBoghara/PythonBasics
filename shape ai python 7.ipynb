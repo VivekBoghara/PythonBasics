{
 "cells": [
  {
   "cell_type": "markdown",
   "id": "2f4e57d0",
   "metadata": {},
   "source": [
    "## Lambda Function\n",
    "\n",
    "Lambda function can be one line code only which can be multiple arguments but have only one single logic.\n",
    "Lambda function is also known as Anonymous Function because it doesn't have any name"
   ]
  },
  {
   "cell_type": "code",
   "execution_count": null,
   "id": "8bf2d8b9",
   "metadata": {},
   "outputs": [],
   "source": [
    "def name_of_the_function(parameters/arguments):\n",
    "    logic"
   ]
  },
  {
   "cell_type": "markdown",
   "id": "62279a16",
   "metadata": {},
   "source": [
    "SYNTAX -> lambda argument(multiple) : logic(one)"
   ]
  },
  {
   "cell_type": "code",
   "execution_count": 9,
   "id": "416d6675",
   "metadata": {},
   "outputs": [],
   "source": [
    "#This following can be happen in single function\n",
    "def addition(a,b):\n",
    "    if a>=b:\n",
    "        return a+b\n",
    "    else:\n",
    "        return addition(a,b-a)"
   ]
  },
  {
   "cell_type": "code",
   "execution_count": 10,
   "id": "3fe8705d",
   "metadata": {},
   "outputs": [
    {
     "data": {
      "text/plain": [
       "4"
      ]
     },
     "execution_count": 10,
     "metadata": {},
     "output_type": "execute_result"
    }
   ],
   "source": [
    "addition(2,10)"
   ]
  },
  {
   "cell_type": "code",
   "execution_count": 4,
   "id": "f5f6f4f0",
   "metadata": {
    "scrolled": true
   },
   "outputs": [
    {
     "data": {
      "text/plain": [
       "5"
      ]
     },
     "execution_count": 4,
     "metadata": {},
     "output_type": "execute_result"
    }
   ],
   "source": [
    "#In lambda function\n",
    "(lambda a,b : a+b)(2,3)"
   ]
  },
  {
   "cell_type": "code",
   "execution_count": 12,
   "id": "17dc5fc7",
   "metadata": {},
   "outputs": [
    {
     "data": {
      "text/plain": [
       "6"
      ]
     },
     "execution_count": 12,
     "metadata": {},
     "output_type": "execute_result"
    }
   ],
   "source": [
    "(lambda a,b:a*b)(2,3)"
   ]
  },
  {
   "cell_type": "code",
   "execution_count": 6,
   "id": "623d5c8c",
   "metadata": {},
   "outputs": [
    {
     "data": {
      "text/plain": [
       "\"if you want to use code again after 1000 lines, then use the addition() function method bcoz for\\nthat you don't need to write the code again and again, where as in lambda function you have to \\nwrite the code again and again \""
      ]
     },
     "execution_count": 6,
     "metadata": {},
     "output_type": "execute_result"
    }
   ],
   "source": [
    "'''if you want to use code again after 1000 lines, then use the addition() function method bcoz for\n",
    "that you don't need to write the code again and again, where as in lambda function you have to \n",
    "write the code again and again '''\n",
    "\n",
    "'''Also you can call one function in from another function where as it's not possible in lambda'''"
   ]
  },
  {
   "cell_type": "code",
   "execution_count": 13,
   "id": "b23cfc75",
   "metadata": {},
   "outputs": [],
   "source": [
    "def sub(a,b):\n",
    "    return a-b\n",
    "\n",
    "def addition(a,b):\n",
    "    if a>b:\n",
    "        print(a+b)\n",
    "    else:\n",
    "        print(a-b)\n",
    "    return sub(a,b)    \n"
   ]
  },
  {
   "cell_type": "code",
   "execution_count": 15,
   "id": "b2dc83ff",
   "metadata": {},
   "outputs": [
    {
     "name": "stdout",
     "output_type": "stream",
     "text": [
      "-2\n",
      "-2\n"
     ]
    }
   ],
   "source": [
    "p=addition(3,5)\n",
    "print(p)"
   ]
  },
  {
   "cell_type": "code",
   "execution_count": 16,
   "id": "a420f0ba",
   "metadata": {},
   "outputs": [
    {
     "data": {
      "text/plain": [
       "10"
      ]
     },
     "execution_count": 16,
     "metadata": {},
     "output_type": "execute_result"
    }
   ],
   "source": [
    "(lambda a,b,c,d,e,f,g,h,i,j : a+b+c+d+e+f+g+h+i+j)(1,1,1,1,1,1,1,1,1,1)"
   ]
  },
  {
   "cell_type": "code",
   "execution_count": 18,
   "id": "5bdf688d",
   "metadata": {},
   "outputs": [
    {
     "ename": "SyntaxError",
     "evalue": "invalid syntax (<ipython-input-18-164f20da46ee>, line 1)",
     "output_type": "error",
     "traceback": [
      "\u001b[1;36m  File \u001b[1;32m\"<ipython-input-18-164f20da46ee>\"\u001b[1;36m, line \u001b[1;32m1\u001b[0m\n\u001b[1;33m    (lambda a,b: a+b a-b)(2,3)    #<-- This will give an error because you can't do addition and subtraction both thing in one lambda function\u001b[0m\n\u001b[1;37m                     ^\u001b[0m\n\u001b[1;31mSyntaxError\u001b[0m\u001b[1;31m:\u001b[0m invalid syntax\n"
     ]
    }
   ],
   "source": [
    "(lambda a,b: a+b a-b)(2,3)    #<-- This will give an error because you can't do addition and subtraction both thing in one lambda function"
   ]
  },
  {
   "cell_type": "code",
   "execution_count": 1,
   "id": "04595e9c",
   "metadata": {},
   "outputs": [],
   "source": [
    "lam= lambda a,b:a+b"
   ]
  },
  {
   "cell_type": "code",
   "execution_count": 2,
   "id": "2429bd75",
   "metadata": {},
   "outputs": [
    {
     "data": {
      "text/plain": [
       "5"
      ]
     },
     "execution_count": 2,
     "metadata": {},
     "output_type": "execute_result"
    }
   ],
   "source": [
    "lam(2,3)"
   ]
  },
  {
   "cell_type": "code",
   "execution_count": null,
   "id": "889f97d3",
   "metadata": {},
   "outputs": [],
   "source": []
  },
  {
   "cell_type": "markdown",
   "id": "5bf9979a",
   "metadata": {},
   "source": [
    "## Filter method\n",
    "\n",
    "filter takes two parameters. One parameter is function and another will be iterator. This filter function returns the value in filter type so that we have to convert it in list,tuple,etc. for get the answer."
   ]
  },
  {
   "cell_type": "code",
   "execution_count": 21,
   "id": "6a601cd5",
   "metadata": {},
   "outputs": [],
   "source": [
    "Li=[1,2,3,4,2,5,6,8,5,3] "
   ]
  },
  {
   "cell_type": "code",
   "execution_count": 22,
   "id": "240dff5a",
   "metadata": {},
   "outputs": [],
   "source": [
    "def even(Li):\n",
    "    arr=[]\n",
    "    for i in Li:\n",
    "        if i%2==0:\n",
    "            arr.append(i)\n",
    "#         else:\n",
    "#             pass\n",
    "    return arr    "
   ]
  },
  {
   "cell_type": "code",
   "execution_count": 23,
   "id": "55e9f63c",
   "metadata": {
    "scrolled": true
   },
   "outputs": [
    {
     "data": {
      "text/plain": [
       "[2, 4, 2, 6, 8]"
      ]
     },
     "execution_count": 23,
     "metadata": {},
     "output_type": "execute_result"
    }
   ],
   "source": [
    "even(Li)"
   ]
  },
  {
   "cell_type": "code",
   "execution_count": null,
   "id": "53261921",
   "metadata": {},
   "outputs": [],
   "source": [
    "#using lambda function"
   ]
  },
  {
   "cell_type": "code",
   "execution_count": 31,
   "id": "3a32e3e0",
   "metadata": {},
   "outputs": [
    {
     "data": {
      "text/plain": [
       "8"
      ]
     },
     "execution_count": 31,
     "metadata": {},
     "output_type": "execute_result"
    }
   ],
   "source": [
    "(lambda a,b : a+b)(5,3)"
   ]
  },
  {
   "cell_type": "code",
   "execution_count": 36,
   "id": "36e64532",
   "metadata": {},
   "outputs": [],
   "source": [
    "Li=[1,2,3,4,2,5,6,8,5,3]"
   ]
  },
  {
   "cell_type": "code",
   "execution_count": null,
   "id": "a3253ccf",
   "metadata": {},
   "outputs": [],
   "source": [
    "lambda x:x%2==0"
   ]
  },
  {
   "cell_type": "code",
   "execution_count": null,
   "id": "8fa7df51",
   "metadata": {},
   "outputs": [],
   "source": [
    "filter(function, iterable)   #<--The filter function is used to directly work the lambda function without using the loop"
   ]
  },
  {
   "cell_type": "code",
   "execution_count": 11,
   "id": "2a207a92",
   "metadata": {},
   "outputs": [
    {
     "data": {
      "text/plain": [
       "<filter at 0x2a5da33ea30>"
      ]
     },
     "execution_count": 11,
     "metadata": {},
     "output_type": "execute_result"
    }
   ],
   "source": [
    "filter(lambda x:x%2==0,Li)    #this is a filter type. so we have to convert it into list through typecasting"
   ]
  },
  {
   "cell_type": "code",
   "execution_count": 14,
   "id": "221070a4",
   "metadata": {},
   "outputs": [
    {
     "name": "stdout",
     "output_type": "stream",
     "text": [
      "<class 'filter'>\n"
     ]
    }
   ],
   "source": [
    "print(type(filter(lambda x:x%2==0,Li)))"
   ]
  },
  {
   "cell_type": "code",
   "execution_count": 35,
   "id": "f9bb31c2",
   "metadata": {},
   "outputs": [
    {
     "data": {
      "text/plain": [
       "[2, 4, 2, 6, 8]"
      ]
     },
     "execution_count": 35,
     "metadata": {},
     "output_type": "execute_result"
    }
   ],
   "source": [
    "list(filter(lambda x:x%2==0,Li))   #<--you can use any list,tuple or  set for typecasting"
   ]
  },
  {
   "cell_type": "code",
   "execution_count": 22,
   "id": "24d13dd2",
   "metadata": {},
   "outputs": [
    {
     "data": {
      "text/plain": [
       "{2, 4, 6, 8}"
      ]
     },
     "execution_count": 22,
     "metadata": {},
     "output_type": "execute_result"
    }
   ],
   "source": [
    "set(filter(lambda x:x%2==0, Li))"
   ]
  },
  {
   "cell_type": "code",
   "execution_count": 37,
   "id": "50127fce",
   "metadata": {},
   "outputs": [
    {
     "data": {
      "text/plain": [
       "[1, 2, 3, 4, 2, 5, 6, 8, 5, 3]"
      ]
     },
     "execution_count": 37,
     "metadata": {},
     "output_type": "execute_result"
    }
   ],
   "source": [
    "#Remember, filter function doens't have capability to change the value in list. \n",
    "# It can only filter the value of list and can give the value from the list. \n",
    "# It can not be modify the output.\n",
    "list(filter(lambda x:x**x, Li))   #<-- In this code, it will give the same old value of list because filter can not change the value. It can just give output from the old list."
   ]
  },
  {
   "cell_type": "code",
   "execution_count": null,
   "id": "4bd64677",
   "metadata": {},
   "outputs": [],
   "source": []
  },
  {
   "cell_type": "code",
   "execution_count": 7,
   "id": "48aa04ab",
   "metadata": {},
   "outputs": [],
   "source": [
    "list((filter(even(Li),Li))   #<--you can use this filter method for this even function also"
   ]
  },
  {
   "cell_type": "code",
   "execution_count": null,
   "id": "d38a418e",
   "metadata": {},
   "outputs": [],
   "source": []
  },
  {
   "cell_type": "markdown",
   "id": "4d8f81d5",
   "metadata": {},
   "source": [
    "## Map function\n",
    "\n",
    "Map function's syntax and work is as same as filter function. but filter function doesn't have capability to change the value of their iterator where as map function has. like in above example:\n",
    "you can't change and bring the new data from li.You can only use of those elements which are aready in list for filter function but where as in map function, you can bring and deploy new data from it.\n",
    "\n",
    "This map function returns the value in map type so that we have to convert it in list,tuple,etc. for get the answer. In shortly, map function can alter the data."
   ]
  },
  {
   "cell_type": "code",
   "execution_count": null,
   "id": "eca18b52",
   "metadata": {},
   "outputs": [],
   "source": [
    "map(function,iterable)"
   ]
  },
  {
   "cell_type": "code",
   "execution_count": null,
   "id": "4ce24254",
   "metadata": {},
   "outputs": [],
   "source": [
    "lambda x: x**x"
   ]
  },
  {
   "cell_type": "code",
   "execution_count": 16,
   "id": "d111686f",
   "metadata": {},
   "outputs": [
    {
     "data": {
      "text/plain": [
       "map"
      ]
     },
     "execution_count": 16,
     "metadata": {},
     "output_type": "execute_result"
    }
   ],
   "source": [
    "type(map(lambda x:x**x, Li))"
   ]
  },
  {
   "cell_type": "code",
   "execution_count": 36,
   "id": "ac44c54b",
   "metadata": {},
   "outputs": [
    {
     "data": {
      "text/plain": [
       "[1, 4, 27, 256, 4, 3125, 46656, 16777216, 3125, 27]"
      ]
     },
     "execution_count": 36,
     "metadata": {},
     "output_type": "execute_result"
    }
   ],
   "source": [
    "list(map(lambda x:x**x, Li))"
   ]
  },
  {
   "cell_type": "code",
   "execution_count": 40,
   "id": "e87dd953",
   "metadata": {},
   "outputs": [
    {
     "data": {
      "text/plain": [
       "[1, 2, 3, 4, 2, 5, 6, 8, 5, 3]"
      ]
     },
     "execution_count": 40,
     "metadata": {},
     "output_type": "execute_result"
    }
   ],
   "source": [
    "list(filter(lambda x:x**x, Li))  #<-- this will not give as same output as we want bcoz filter can not modify the list data. It can just give output from the list values."
   ]
  },
  {
   "cell_type": "code",
   "execution_count": 42,
   "id": "7feddf1b",
   "metadata": {},
   "outputs": [
    {
     "data": {
      "text/plain": [
       "[2, 4, 6, 8, 4, 10, 12, 16, 10, 6]"
      ]
     },
     "execution_count": 42,
     "metadata": {},
     "output_type": "execute_result"
    }
   ],
   "source": [
    "list(map(lambda x:x+x, Li))  #<--This is the optimized code means short method for use the function method"
   ]
  },
  {
   "cell_type": "code",
   "execution_count": 3,
   "id": "507e2a51",
   "metadata": {},
   "outputs": [
    {
     "data": {
      "text/plain": [
       "[1, 2, 3, 4, 2, 5, 6, 8, 5, 3]"
      ]
     },
     "execution_count": 3,
     "metadata": {},
     "output_type": "execute_result"
    }
   ],
   "source": [
    "Li       # This map and filter functions will not give any impact on old list value .It will remain as same as before. They just make a new list from it"
   ]
  },
  {
   "cell_type": "code",
   "execution_count": null,
   "id": "d12fab13",
   "metadata": {},
   "outputs": [],
   "source": []
  },
  {
   "cell_type": "code",
   "execution_count": null,
   "id": "29dc5ec4",
   "metadata": {},
   "outputs": [],
   "source": []
  },
  {
   "cell_type": "code",
   "execution_count": null,
   "id": "60968c0d",
   "metadata": {},
   "outputs": [],
   "source": []
  },
  {
   "cell_type": "markdown",
   "id": "075d675f",
   "metadata": {},
   "source": [
    "## Advantageous of Lambda dunction\n",
    "\n",
    "1.simplify code \n",
    "2. Enhance the readibility\n",
    "3. Uses less storage\n",
    "4. Coplexity is less\n",
    "5. It also don't require a container\n",
    "6.we don't have the name of the function\n",
    "7. The code is simple and clear and understandable\n"
   ]
  },
  {
   "cell_type": "code",
   "execution_count": null,
   "id": "e71e5d68",
   "metadata": {},
   "outputs": [],
   "source": [
    "'''Disadvantageous'''\n",
    "\n",
    "1. we can't reuse the code\n",
    "2. we can't give multiple  logic\n",
    "3. it doesn't have any name\n",
    "4. it don't involves the docstring"
   ]
  },
  {
   "cell_type": "code",
   "execution_count": null,
   "id": "dd169563",
   "metadata": {},
   "outputs": [],
   "source": [
    "'''When do we have to use the Lambda function'''\n",
    "1. when we know that we won't be using the function again\n",
    "2. when the function is not so complex and only performing the basic functional.\n",
    "3. We can use it when everyone in your group are familiar about the lambda function."
   ]
  },
  {
   "cell_type": "code",
   "execution_count": null,
   "id": "e2183844",
   "metadata": {},
   "outputs": [],
   "source": []
  },
  {
   "cell_type": "code",
   "execution_count": null,
   "id": "1cd1f4d3",
   "metadata": {},
   "outputs": [],
   "source": []
  },
  {
   "cell_type": "markdown",
   "id": "f3be793c",
   "metadata": {},
   "source": [
    "## Modules - math, random, datetime, time, os, pickle"
   ]
  },
  {
   "cell_type": "code",
   "execution_count": null,
   "id": "9ab1a6b1",
   "metadata": {},
   "outputs": [],
   "source": [
    "pickle module is specailly used in machine learning for deploy the model"
   ]
  },
  {
   "cell_type": "code",
   "execution_count": null,
   "id": "6074eae1",
   "metadata": {},
   "outputs": [],
   "source": [
    "OS(Operating System) -> Windows, Mac, Ubantu, Kali linux, Debian, Android etc.\n",
    "Kernel-> Linux and UNIX\n",
    "\n",
    "Remember that, Linux and UNIX are kernel. They are not Operating systems. \n",
    "Mac and Android are Operating system that uses Linux as kernel\n"
   ]
  },
  {
   "cell_type": "code",
   "execution_count": null,
   "id": "be309c18",
   "metadata": {},
   "outputs": [],
   "source": []
  },
  {
   "cell_type": "markdown",
   "id": "1d54d56c",
   "metadata": {},
   "source": [
    "## math"
   ]
  },
  {
   "cell_type": "code",
   "execution_count": 17,
   "id": "8e8d4ddb",
   "metadata": {},
   "outputs": [],
   "source": [
    "import math"
   ]
  },
  {
   "cell_type": "code",
   "execution_count": 18,
   "id": "b1702c55",
   "metadata": {
    "scrolled": true
   },
   "outputs": [
    {
     "data": {
      "text/plain": [
       "['__doc__',\n",
       " '__loader__',\n",
       " '__name__',\n",
       " '__package__',\n",
       " '__spec__',\n",
       " 'acos',\n",
       " 'acosh',\n",
       " 'asin',\n",
       " 'asinh',\n",
       " 'atan',\n",
       " 'atan2',\n",
       " 'atanh',\n",
       " 'ceil',\n",
       " 'comb',\n",
       " 'copysign',\n",
       " 'cos',\n",
       " 'cosh',\n",
       " 'degrees',\n",
       " 'dist',\n",
       " 'e',\n",
       " 'erf',\n",
       " 'erfc',\n",
       " 'exp',\n",
       " 'expm1',\n",
       " 'fabs',\n",
       " 'factorial',\n",
       " 'floor',\n",
       " 'fmod',\n",
       " 'frexp',\n",
       " 'fsum',\n",
       " 'gamma',\n",
       " 'gcd',\n",
       " 'hypot',\n",
       " 'inf',\n",
       " 'isclose',\n",
       " 'isfinite',\n",
       " 'isinf',\n",
       " 'isnan',\n",
       " 'isqrt',\n",
       " 'lcm',\n",
       " 'ldexp',\n",
       " 'lgamma',\n",
       " 'log',\n",
       " 'log10',\n",
       " 'log1p',\n",
       " 'log2',\n",
       " 'modf',\n",
       " 'nan',\n",
       " 'nextafter',\n",
       " 'perm',\n",
       " 'pi',\n",
       " 'pow',\n",
       " 'prod',\n",
       " 'radians',\n",
       " 'remainder',\n",
       " 'sin',\n",
       " 'sinh',\n",
       " 'sqrt',\n",
       " 'tan',\n",
       " 'tanh',\n",
       " 'tau',\n",
       " 'trunc',\n",
       " 'ulp']"
      ]
     },
     "execution_count": 18,
     "metadata": {},
     "output_type": "execute_result"
    }
   ],
   "source": [
    "dir(math)     #<-- it shows all the inbuilt function of math"
   ]
  },
  {
   "cell_type": "code",
   "execution_count": null,
   "id": "ee3cc727",
   "metadata": {},
   "outputs": [],
   "source": [
    "# Ceiling & Floor value\n",
    "4.6 \n",
    "Ceilng -> 5\n",
    "Floor -> 4\n",
    "\n",
    "4.4\n",
    "C->5\n",
    "F->4"
   ]
  },
  {
   "cell_type": "code",
   "execution_count": 21,
   "id": "989e195f",
   "metadata": {},
   "outputs": [
    {
     "name": "stdout",
     "output_type": "stream",
     "text": [
      "5\n",
      "4\n"
     ]
    }
   ],
   "source": [
    "print(math.ceil(4.6))\n",
    "print(math.floor(4.6))"
   ]
  },
  {
   "cell_type": "code",
   "execution_count": 22,
   "id": "3744c302",
   "metadata": {},
   "outputs": [
    {
     "name": "stdout",
     "output_type": "stream",
     "text": [
      "5\n",
      "5\n"
     ]
    }
   ],
   "source": [
    "print(math.ceil(5))\n",
    "print(math.floor(5))"
   ]
  },
  {
   "cell_type": "code",
   "execution_count": 23,
   "id": "2ba58738",
   "metadata": {},
   "outputs": [
    {
     "data": {
      "text/plain": [
       "120"
      ]
     },
     "execution_count": 23,
     "metadata": {},
     "output_type": "execute_result"
    }
   ],
   "source": [
    "math.factorial(5)"
   ]
  },
  {
   "cell_type": "code",
   "execution_count": 24,
   "id": "ed9b6a57",
   "metadata": {},
   "outputs": [
    {
     "data": {
      "text/plain": [
       "2.23606797749979"
      ]
     },
     "execution_count": 24,
     "metadata": {},
     "output_type": "execute_result"
    }
   ],
   "source": [
    "math.sqrt(5)    #It gives the sqaure root of the number"
   ]
  },
  {
   "cell_type": "code",
   "execution_count": 34,
   "id": "18c61432",
   "metadata": {},
   "outputs": [
    {
     "data": {
      "text/plain": [
       "5.0"
      ]
     },
     "execution_count": 34,
     "metadata": {},
     "output_type": "execute_result"
    }
   ],
   "source": [
    "math.sqrt(25) "
   ]
  },
  {
   "cell_type": "code",
   "execution_count": 35,
   "id": "2fed914d",
   "metadata": {},
   "outputs": [
    {
     "data": {
      "text/plain": [
       "5.291502622129181"
      ]
     },
     "execution_count": 35,
     "metadata": {},
     "output_type": "execute_result"
    }
   ],
   "source": [
    "math.sqrt(28)"
   ]
  },
  {
   "cell_type": "code",
   "execution_count": null,
   "id": "f7ce53f8",
   "metadata": {},
   "outputs": [],
   "source": []
  },
  {
   "cell_type": "code",
   "execution_count": 30,
   "id": "a5d53afc",
   "metadata": {},
   "outputs": [
    {
     "name": "stdout",
     "output_type": "stream",
     "text": [
      "5.0\n",
      "5.0\n"
     ]
    }
   ],
   "source": [
    "#For square root without using the module\n",
    "a=25\n",
    "print(a**0.5)      # (1/2 = 0.5)\n",
    "#OR\n",
    "print(a**(1/2))"
   ]
  },
  {
   "cell_type": "code",
   "execution_count": 33,
   "id": "af9db528",
   "metadata": {},
   "outputs": [
    {
     "data": {
      "text/plain": [
       "5"
      ]
     },
     "execution_count": 33,
     "metadata": {},
     "output_type": "execute_result"
    }
   ],
   "source": [
    "math.isqrt(30)\n",
    "# This isqrt will give the nearest previous integer square root number of the answer like,\n",
    "#In short this isqrt like it gives the square root value of number with using floor function of them.\n",
    "#like as example sqaure root of 28 is 5.2915 and floor of 5.2915 is 5. So isqrt will give the answer as 5\n",
    "28 -> 5\n",
    "29 -> 5\n",
    "19 -> 4\n",
    "35 -> 5\n",
    "36 -> 6"
   ]
  },
  {
   "cell_type": "code",
   "execution_count": 91,
   "id": "f3c42d54",
   "metadata": {},
   "outputs": [
    {
     "data": {
      "text/plain": [
       "8.0"
      ]
     },
     "execution_count": 91,
     "metadata": {},
     "output_type": "execute_result"
    }
   ],
   "source": [
    "math.pow(2,3)   #Pow is used to do square or cube or give more power. here (2,3) means 2^3"
   ]
  },
  {
   "cell_type": "code",
   "execution_count": null,
   "id": "2b62f257",
   "metadata": {},
   "outputs": [],
   "source": []
  },
  {
   "cell_type": "markdown",
   "id": "3b05346c",
   "metadata": {},
   "source": [
    "## various ways to import the method"
   ]
  },
  {
   "cell_type": "code",
   "execution_count": 8,
   "id": "82ebf3dc",
   "metadata": {},
   "outputs": [
    {
     "data": {
      "text/plain": [
       "5"
      ]
     },
     "execution_count": 8,
     "metadata": {},
     "output_type": "execute_result"
    }
   ],
   "source": [
    "import math\n",
    "from math import ceil  #<-- It will import only ceil function from ceil other will be not imported, so directly use of other function will give an error\n",
    "ceil(4.6)\n",
    "#  floor(4.8)  <-- this will give an error because it won't be printed"
   ]
  },
  {
   "cell_type": "code",
   "execution_count": null,
   "id": "a3ab4ce9",
   "metadata": {},
   "outputs": [],
   "source": [
    "import math as ma\n",
    "import pandas and pd\n",
    "import numpy as np\n",
    "import seaborn as sns\n",
    "\n",
    "# You can use this short name for call the method\n",
    "ma.ceil(4.5)"
   ]
  },
  {
   "cell_type": "code",
   "execution_count": null,
   "id": "188ae9a5",
   "metadata": {},
   "outputs": [],
   "source": [
    "\n"
   ]
  },
  {
   "cell_type": "markdown",
   "id": "190cda00",
   "metadata": {},
   "source": [
    "## Random\n",
    "\n",
    "random is a module which you have to import"
   ]
  },
  {
   "cell_type": "code",
   "execution_count": 42,
   "id": "71fc7186",
   "metadata": {},
   "outputs": [],
   "source": [
    "import random "
   ]
  },
  {
   "cell_type": "code",
   "execution_count": 55,
   "id": "22430dcb",
   "metadata": {
    "scrolled": true
   },
   "outputs": [
    {
     "data": {
      "text/plain": [
       "['BPF',\n",
       " 'LOG4',\n",
       " 'NV_MAGICCONST',\n",
       " 'RECIP_BPF',\n",
       " 'Random',\n",
       " 'SG_MAGICCONST',\n",
       " 'SystemRandom',\n",
       " 'TWOPI',\n",
       " '_Sequence',\n",
       " '_Set',\n",
       " '__all__',\n",
       " '__builtins__',\n",
       " '__cached__',\n",
       " '__doc__',\n",
       " '__file__',\n",
       " '__loader__',\n",
       " '__name__',\n",
       " '__package__',\n",
       " '__spec__',\n",
       " '_accumulate',\n",
       " '_acos',\n",
       " '_bisect',\n",
       " '_ceil',\n",
       " '_cos',\n",
       " '_e',\n",
       " '_exp',\n",
       " '_floor',\n",
       " '_inst',\n",
       " '_log',\n",
       " '_os',\n",
       " '_pi',\n",
       " '_random',\n",
       " '_repeat',\n",
       " '_sha512',\n",
       " '_sin',\n",
       " '_sqrt',\n",
       " '_test',\n",
       " '_test_generator',\n",
       " '_urandom',\n",
       " '_warn',\n",
       " 'betavariate',\n",
       " 'choice',\n",
       " 'choices',\n",
       " 'expovariate',\n",
       " 'gammavariate',\n",
       " 'gauss',\n",
       " 'getrandbits',\n",
       " 'getstate',\n",
       " 'lognormvariate',\n",
       " 'normalvariate',\n",
       " 'paretovariate',\n",
       " 'randbytes',\n",
       " 'randint',\n",
       " 'random',\n",
       " 'randrange',\n",
       " 'sample',\n",
       " 'seed',\n",
       " 'setstate',\n",
       " 'shuffle',\n",
       " 'triangular',\n",
       " 'uniform',\n",
       " 'vonmisesvariate',\n",
       " 'weibullvariate']"
      ]
     },
     "execution_count": 55,
     "metadata": {},
     "output_type": "execute_result"
    }
   ],
   "source": [
    "dir(random)"
   ]
  },
  {
   "cell_type": "code",
   "execution_count": null,
   "id": "5f9ac11f",
   "metadata": {},
   "outputs": [],
   "source": []
  },
  {
   "cell_type": "code",
   "execution_count": 40,
   "id": "664aa38b",
   "metadata": {},
   "outputs": [],
   "source": [
    "cars=[\"maruti\",\"mercedes\",\"Audi\",\"Tesla\",\"fortuner\",\"ferrari\"]"
   ]
  },
  {
   "cell_type": "code",
   "execution_count": 46,
   "id": "af83721d",
   "metadata": {},
   "outputs": [
    {
     "name": "stdout",
     "output_type": "stream",
     "text": [
      "Tesla\n"
     ]
    }
   ],
   "source": [
    "print(random.choice(cars))"
   ]
  },
  {
   "cell_type": "code",
   "execution_count": 48,
   "id": "9f5f7f4c",
   "metadata": {},
   "outputs": [],
   "source": [
    "l= random.choices(cars,k=2)"
   ]
  },
  {
   "cell_type": "code",
   "execution_count": 49,
   "id": "3713625f",
   "metadata": {},
   "outputs": [
    {
     "data": {
      "text/plain": [
       "['Tesla', 'ferrari']"
      ]
     },
     "execution_count": 49,
     "metadata": {},
     "output_type": "execute_result"
    }
   ],
   "source": [
    "l"
   ]
  },
  {
   "cell_type": "code",
   "execution_count": 85,
   "id": "6d92de2e",
   "metadata": {},
   "outputs": [
    {
     "name": "stdout",
     "output_type": "stream",
     "text": [
      "Tesla\n",
      "['ferrari', 'Audi', 'ferrari', 'Audi']\n"
     ]
    }
   ],
   "source": [
    "print(random.choice(cars))  #It will choose any random elemnt from the cars\n",
    "print(random.choices(cars,k=4))  #choice() returns one random element, and sample() and choices() return a list of multiple random elements \n",
    "#This choices will return 4 different random values from the cars"
   ]
  },
  {
   "cell_type": "code",
   "execution_count": 55,
   "id": "3e88f70b",
   "metadata": {},
   "outputs": [
    {
     "data": {
      "text/plain": [
       "['ferrari', 'Audi', 'mercedes']"
      ]
     },
     "execution_count": 55,
     "metadata": {},
     "output_type": "execute_result"
    }
   ],
   "source": [
    "random.sample(cars,k=3)    #it will print any 3 values from cars"
   ]
  },
  {
   "cell_type": "code",
   "execution_count": 11,
   "id": "1d9f52ea",
   "metadata": {},
   "outputs": [
    {
     "name": "stdout",
     "output_type": "stream",
     "text": [
      "['maruti', 'Tesla', 'mercedes', 'ferrari', 'Audi', 'fortuner']\n"
     ]
    }
   ],
   "source": [
    "import random\n",
    "random.shuffle(cars)    #it shuffle all the elements of the real list\n",
    "print(cars)    #The elements of real list cars will be shuffled and it will be suffled evrerytime different whenever you this shuffle function. "
   ]
  },
  {
   "cell_type": "code",
   "execution_count": 56,
   "id": "7e8c9f78",
   "metadata": {},
   "outputs": [],
   "source": [
    "li=[1,2,3,4,5,6,7,8,9]"
   ]
  },
  {
   "cell_type": "code",
   "execution_count": 57,
   "id": "9973491e",
   "metadata": {},
   "outputs": [],
   "source": [
    "random.shuffle(li)"
   ]
  },
  {
   "cell_type": "code",
   "execution_count": 58,
   "id": "ab7e545c",
   "metadata": {},
   "outputs": [
    {
     "data": {
      "text/plain": [
       "[3, 4, 1, 8, 5, 6, 7, 2, 9]"
      ]
     },
     "execution_count": 58,
     "metadata": {},
     "output_type": "execute_result"
    }
   ],
   "source": [
    "li"
   ]
  },
  {
   "cell_type": "code",
   "execution_count": 75,
   "id": "8efd2eed",
   "metadata": {},
   "outputs": [
    {
     "data": {
      "text/plain": [
       "9"
      ]
     },
     "execution_count": 75,
     "metadata": {},
     "output_type": "execute_result"
    }
   ],
   "source": [
    "random.randint(0,10)   #It gives any random value between 0 to 10 in which 0 and 10 both are also included it means it select value from [0,10]"
   ]
  },
  {
   "cell_type": "code",
   "execution_count": 65,
   "id": "bebfee99",
   "metadata": {},
   "outputs": [
    {
     "data": {
      "text/plain": [
       "23"
      ]
     },
     "execution_count": 65,
     "metadata": {},
     "output_type": "execute_result"
    }
   ],
   "source": [
    "random.randint(0,25)"
   ]
  },
  {
   "cell_type": "code",
   "execution_count": 76,
   "id": "d1131853",
   "metadata": {},
   "outputs": [
    {
     "data": {
      "text/plain": [
       "0"
      ]
     },
     "execution_count": 76,
     "metadata": {},
     "output_type": "execute_result"
    }
   ],
   "source": [
    "random.randrange(0,10)  #<- it gives any random value from range(0,10)"
   ]
  },
  {
   "cell_type": "code",
   "execution_count": 66,
   "id": "b3fe9156",
   "metadata": {},
   "outputs": [
    {
     "data": {
      "text/plain": [
       "0.5668918661457435"
      ]
     },
     "execution_count": 66,
     "metadata": {},
     "output_type": "execute_result"
    }
   ],
   "source": [
    "random.random()  #It gives any value between 0.0(included) to 1.0(not included). means it gives value from [0.0,1.0)"
   ]
  },
  {
   "cell_type": "code",
   "execution_count": 70,
   "id": "0a2b0113",
   "metadata": {},
   "outputs": [
    {
     "data": {
      "text/plain": [
       "1"
      ]
     },
     "execution_count": 70,
     "metadata": {},
     "output_type": "execute_result"
    }
   ],
   "source": [
    "random.randrange(0,10)"
   ]
  },
  {
   "cell_type": "code",
   "execution_count": null,
   "id": "1b20f508",
   "metadata": {},
   "outputs": [],
   "source": []
  },
  {
   "cell_type": "code",
   "execution_count": null,
   "id": "f2cfacbc",
   "metadata": {},
   "outputs": [],
   "source": []
  },
  {
   "cell_type": "code",
   "execution_count": null,
   "id": "d4ed8c02",
   "metadata": {},
   "outputs": [],
   "source": []
  },
  {
   "cell_type": "code",
   "execution_count": null,
   "id": "959f2a74",
   "metadata": {},
   "outputs": [],
   "source": []
  },
  {
   "cell_type": "code",
   "execution_count": 4,
   "id": "fb18f850",
   "metadata": {},
   "outputs": [
    {
     "data": {
      "application/javascript": [
       "IPython.notebook.set_autosave_interval(120000)"
      ]
     },
     "metadata": {},
     "output_type": "display_data"
    },
    {
     "name": "stdout",
     "output_type": "stream",
     "text": [
      "Autosaving every 120 seconds\n"
     ]
    }
   ],
   "source": [
    "%autosave 120"
   ]
  }
 ],
 "metadata": {
  "kernelspec": {
   "display_name": "Python 3",
   "language": "python",
   "name": "python3"
  },
  "language_info": {
   "codemirror_mode": {
    "name": "ipython",
    "version": 3
   },
   "file_extension": ".py",
   "mimetype": "text/x-python",
   "name": "python",
   "nbconvert_exporter": "python",
   "pygments_lexer": "ipython3",
   "version": "3.9.5"
  }
 },
 "nbformat": 4,
 "nbformat_minor": 5
}
