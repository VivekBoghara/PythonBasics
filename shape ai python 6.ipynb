{
 "cells": [
  {
   "cell_type": "markdown",
   "id": "3dd8555f",
   "metadata": {},
   "source": [
    "## Function\n",
    "\n"
   ]
  },
  {
   "cell_type": "markdown",
   "id": "5732b611",
   "metadata": {},
   "source": [
    "def name_of_the_function(parameters/arguments):\n",
    "    do something\n",
    "    \n",
    "def is a keyword not a function    "
   ]
  },
  {
   "cell_type": "code",
   "execution_count": 2,
   "id": "64b401dc",
   "metadata": {},
   "outputs": [],
   "source": [
    "def first_function():\n",
    "    a=int(input())\n",
    "    if a==10:\n",
    "        print(\"Someething\")\n",
    "    else:\n",
    "        print(\"Nothing\")"
   ]
  },
  {
   "cell_type": "code",
   "execution_count": 3,
   "id": "ef22fa39",
   "metadata": {},
   "outputs": [
    {
     "name": "stdout",
     "output_type": "stream",
     "text": [
      "10\n",
      "Someething\n"
     ]
    }
   ],
   "source": [
    "first_function()"
   ]
  },
  {
   "cell_type": "code",
   "execution_count": 1,
   "id": "56fec37c",
   "metadata": {},
   "outputs": [],
   "source": [
    "def addition():\n",
    "    a=10\n",
    "    b=15\n",
    "    c=20\n",
    "    return a+b+c\n",
    "    "
   ]
  },
  {
   "cell_type": "code",
   "execution_count": 3,
   "id": "888c9622",
   "metadata": {},
   "outputs": [
    {
     "name": "stdout",
     "output_type": "stream",
     "text": [
      "45\n",
      "<class 'int'>\n"
     ]
    }
   ],
   "source": [
    "variable=addition()              \n",
    "print(variable)\n",
    "print(type(variable))"
   ]
  },
  {
   "cell_type": "code",
   "execution_count": 6,
   "id": "22d6a522",
   "metadata": {},
   "outputs": [],
   "source": [
    "def addition():\n",
    "    a=10\n",
    "    b=15\n",
    "    c=20\n",
    "    print(a+b+c)"
   ]
  },
  {
   "cell_type": "code",
   "execution_count": 7,
   "id": "570c7044",
   "metadata": {},
   "outputs": [
    {
     "name": "stdout",
     "output_type": "stream",
     "text": [
      "45\n",
      "<class 'NoneType'>\n"
     ]
    }
   ],
   "source": [
    "variable=addition()              \n",
    "print(type(variable))\n",
    "  #Here we have just printed the a+b+c value through function. we have not returned any value or assigned any value to the variable, so that the variable type will be None."
   ]
  },
  {
   "cell_type": "code",
   "execution_count": 8,
   "id": "637bdc6c",
   "metadata": {},
   "outputs": [],
   "source": [
    "def addition():\n",
    "    a=10\n",
    "    b=15\n",
    "    c=20\n",
    "    #return a+b+c     #<-if you will write return function at here, then the lines after return keyword in function will not be executed\n",
    "    print(a+b+c+10)\n",
    "    return a+b+c"
   ]
  },
  {
   "cell_type": "code",
   "execution_count": 9,
   "id": "47595872",
   "metadata": {},
   "outputs": [
    {
     "name": "stdout",
     "output_type": "stream",
     "text": [
      "55\n",
      "45\n",
      "<class 'int'>\n"
     ]
    }
   ],
   "source": [
    "variable=addition()  #here the function returns a+b+c , so it will be assigned to the variable. That's why variable type will be int\n",
    "print(variable) #The returned value of addition() will be assigned to the variable\n",
    "print(type(variable))"
   ]
  },
  {
   "cell_type": "markdown",
   "id": "42006f25",
   "metadata": {},
   "source": [
    "1. Parameters -> len(), min(), max(), sum(), range()\n",
    "2. Doesn't take any Parameters ->  upper(), lower(), isalpha()\n",
    "3. Default parameter -> popitems()"
   ]
  },
  {
   "cell_type": "code",
   "execution_count": 18,
   "id": "6267c47f",
   "metadata": {},
   "outputs": [],
   "source": [
    "def age(age_value):\n",
    "    if age_value>60:\n",
    "#         print(\"Old\")\n",
    "        return \"old\"\n",
    "    elif 30<=age_value<=60:\n",
    "        return \"middle agged\"\n",
    "    elif 18<=age_value<30:\n",
    "        return \"young\"\n",
    "    else:\n",
    "        return \"child\""
   ]
  },
  {
   "cell_type": "code",
   "execution_count": 19,
   "id": "f274a1bd",
   "metadata": {},
   "outputs": [
    {
     "name": "stdout",
     "output_type": "stream",
     "text": [
      "Enter the age 40\n"
     ]
    }
   ],
   "source": [
    "ages=int(input(\"Enter the age \"))\n",
    "# age(ages)     #<-This will directly print the return statement \n",
    "ans = age(ages)    #This will directly not print the return statement, it only assign its value to the variable"
   ]
  },
  {
   "cell_type": "code",
   "execution_count": 12,
   "id": "ed4c158e",
   "metadata": {},
   "outputs": [
    {
     "name": "stdout",
     "output_type": "stream",
     "text": [
      "middle agged\n"
     ]
    }
   ],
   "source": [
    "print(ans)"
   ]
  },
  {
   "cell_type": "markdown",
   "id": "905139e4",
   "metadata": {},
   "source": [
    "# Advance concepts of Functions"
   ]
  },
  {
   "cell_type": "code",
   "execution_count": 13,
   "id": "5850faef",
   "metadata": {},
   "outputs": [],
   "source": [
    "def age():\n",
    "    age_value=int(input(\"Enter the age \"))\n",
    "    if age_value>60:\n",
    "        return \"old\"\n",
    "    elif 30<=age_value<=60:\n",
    "        return \"middle agged\"\n",
    "    elif 18<=age_value<30:\n",
    "        return \"young\"\n",
    "    else:\n",
    "        return \"child\""
   ]
  },
  {
   "cell_type": "code",
   "execution_count": 14,
   "id": "495ef3d1",
   "metadata": {},
   "outputs": [
    {
     "name": "stdout",
     "output_type": "stream",
     "text": [
      "Enter the age 42\n"
     ]
    },
    {
     "data": {
      "text/plain": [
       "'middle agged'"
      ]
     },
     "execution_count": 14,
     "metadata": {},
     "output_type": "execute_result"
    }
   ],
   "source": [
    "age()      #You can directly use by this way"
   ]
  },
  {
   "cell_type": "code",
   "execution_count": 20,
   "id": "618da22d",
   "metadata": {},
   "outputs": [],
   "source": [
    "def advanced(a,b,c,d):\n",
    "    return a+b-c*d\n",
    "\n",
    "#Precedance of the operator\n",
    "#BODMAS\n",
    "# B -> Brackets\n",
    "# O -> of\n",
    "# D -> Div , M -> Multi, A -> Addition , S -> Subtraction\n",
    "\n",
    "# BODMAS is not appliable in sqaure and exponential equation. It is usable for this simpple equation only\n",
    "# square > addition\n",
    "# exponential > square"
   ]
  },
  {
   "cell_type": "code",
   "execution_count": 21,
   "id": "641fdef6",
   "metadata": {},
   "outputs": [
    {
     "data": {
      "text/plain": [
       "-9"
      ]
     },
     "execution_count": 21,
     "metadata": {},
     "output_type": "execute_result"
    }
   ],
   "source": [
    "advanced(1,2,3,4)"
   ]
  },
  {
   "cell_type": "code",
   "execution_count": 3,
   "id": "768923ec",
   "metadata": {},
   "outputs": [
    {
     "ename": "TypeError",
     "evalue": "advanced() takes 4 positional arguments but 10 were given",
     "output_type": "error",
     "traceback": [
      "\u001b[1;31m---------------------------------------------------------------------------\u001b[0m",
      "\u001b[1;31mTypeError\u001b[0m                                 Traceback (most recent call last)",
      "\u001b[1;32m<ipython-input-3-bf4cead34957>\u001b[0m in \u001b[0;36m<module>\u001b[1;34m\u001b[0m\n\u001b[0;32m      2\u001b[0m     \u001b[1;32mreturn\u001b[0m \u001b[0ma\u001b[0m\u001b[1;33m+\u001b[0m\u001b[0mb\u001b[0m\u001b[1;33m+\u001b[0m\u001b[0mc\u001b[0m\u001b[1;33m+\u001b[0m\u001b[0md\u001b[0m\u001b[1;33m\u001b[0m\u001b[1;33m\u001b[0m\u001b[0m\n\u001b[0;32m      3\u001b[0m \u001b[1;33m\u001b[0m\u001b[0m\n\u001b[1;32m----> 4\u001b[1;33m \u001b[0madvanced\u001b[0m\u001b[1;33m(\u001b[0m\u001b[1;36m1\u001b[0m\u001b[1;33m,\u001b[0m\u001b[1;36m2\u001b[0m\u001b[1;33m,\u001b[0m\u001b[1;36m3\u001b[0m\u001b[1;33m,\u001b[0m\u001b[1;36m4\u001b[0m\u001b[1;33m,\u001b[0m\u001b[1;36m5\u001b[0m\u001b[1;33m,\u001b[0m\u001b[1;36m6\u001b[0m\u001b[1;33m,\u001b[0m\u001b[1;36m7\u001b[0m\u001b[1;33m,\u001b[0m\u001b[1;36m8\u001b[0m\u001b[1;33m,\u001b[0m\u001b[1;36m9\u001b[0m\u001b[1;33m,\u001b[0m\u001b[1;36m10\u001b[0m\u001b[1;33m)\u001b[0m\u001b[1;33m\u001b[0m\u001b[1;33m\u001b[0m\u001b[0m\n\u001b[0m",
      "\u001b[1;31mTypeError\u001b[0m: advanced() takes 4 positional arguments but 10 were given"
     ]
    }
   ],
   "source": [
    "def advanced(a,b,c,d):\n",
    "    return a+b+c+d\n",
    "\n",
    "advanced(1,2,3,4,5,6,7,8,9,10)  \n",
    "#It gives an error because we have keep only 4 arguments in function where as we aare sending 10 aguments. \n",
    "#We don't know that how many values the user will enter. SO for include all the data in function *args is used. See the below: \n"
   ]
  },
  {
   "cell_type": "code",
   "execution_count": null,
   "id": "cc5b0131",
   "metadata": {},
   "outputs": [],
   "source": []
  },
  {
   "cell_type": "markdown",
   "id": "1499af39",
   "metadata": {},
   "source": [
    "## *args  & **kwargs\n",
    "\n",
    "*args -> gives output in form of tuple   (You can write anything in place of args. like *sahil, *vivek etc. Just asterick(*) is compulsary for args) \n",
    "\n",
    " **** kwargs -> gives output in form of dictionary  (You can write anything in place of args. like ****sahil, ***vivek etc. Just asterick(*) is compulsary for kwargs) \n"
   ]
  },
  {
   "cell_type": "code",
   "execution_count": 11,
   "id": "df740b24",
   "metadata": {},
   "outputs": [],
   "source": [
    "def advanced2(*args):   #You can write anything in place of args. like *sahil, *vivek etc. Just asterick(*) is compulsary for args \n",
    "    lis= list(args)\n",
    "    return sum(lis)\n",
    "#     return type(args)"
   ]
  },
  {
   "cell_type": "code",
   "execution_count": 55,
   "id": "f66c3f5b",
   "metadata": {
    "scrolled": true
   },
   "outputs": [
    {
     "data": {
      "text/plain": [
       "55"
      ]
     },
     "execution_count": 55,
     "metadata": {},
     "output_type": "execute_result"
    }
   ],
   "source": [
    "advanced2(1,2,3,4,5,6,7,8,9,10)"
   ]
  },
  {
   "cell_type": "code",
   "execution_count": 22,
   "id": "7d3a115f",
   "metadata": {},
   "outputs": [],
   "source": [
    "def new(a,b,c,*args):\n",
    "    l= list(args)\n",
    "    print(sum(l)-a-b-c)"
   ]
  },
  {
   "cell_type": "code",
   "execution_count": 23,
   "id": "42009b98",
   "metadata": {},
   "outputs": [
    {
     "name": "stdout",
     "output_type": "stream",
     "text": [
      "26\n"
     ]
    }
   ],
   "source": [
    "new(2,3,4,5,6,7,8,9)"
   ]
  },
  {
   "cell_type": "code",
   "execution_count": 17,
   "id": "f4feb5cb",
   "metadata": {},
   "outputs": [],
   "source": [
    "def advanced3(a,b,c,d,*args):\n",
    "    print(a,b,c,d,args)"
   ]
  },
  {
   "cell_type": "code",
   "execution_count": 18,
   "id": "4a461254",
   "metadata": {},
   "outputs": [
    {
     "name": "stdout",
     "output_type": "stream",
     "text": [
      "1 2 3 4 (5, 6, 7, 8, 9, 10)\n"
     ]
    }
   ],
   "source": [
    "advanced3(1,2,3,4,5,6,7,8,9,10)"
   ]
  },
  {
   "cell_type": "code",
   "execution_count": null,
   "id": "0db82824",
   "metadata": {},
   "outputs": [],
   "source": []
  },
  {
   "cell_type": "code",
   "execution_count": 24,
   "id": "99a3dfc2",
   "metadata": {},
   "outputs": [],
   "source": [
    "def advanced4(**kwargs):\n",
    "    print(kwargs)"
   ]
  },
  {
   "cell_type": "code",
   "execution_count": 26,
   "id": "e944df26",
   "metadata": {},
   "outputs": [
    {
     "name": "stdout",
     "output_type": "stream",
     "text": [
      "{'fruits': 'mangoes', 'movies': 'Marvel'}\n"
     ]
    }
   ],
   "source": [
    "advanced4(fruits=\"mangoes\", movies=\"Marvel\")"
   ]
  },
  {
   "cell_type": "code",
   "execution_count": null,
   "id": "3462ab5a",
   "metadata": {},
   "outputs": [],
   "source": []
  },
  {
   "cell_type": "code",
   "execution_count": 51,
   "id": "d4bb9feb",
   "metadata": {},
   "outputs": [],
   "source": [
    "def advanced5(**kwargs):     #<-- you can write any name here, like **args,**Hello etc. just two astrick ** is important\n",
    "    kwargs[\"fruits\"]=\"Orange\"      #it will change the value of fruit key from mangoes to orange\n",
    "#     kwargs[\"fruits\"]=\"Orange\",\"mangoes\"   #this can be used to input both values in dictionary\n",
    "    print(kwargs)"
   ]
  },
  {
   "cell_type": "code",
   "execution_count": 52,
   "id": "35297601",
   "metadata": {},
   "outputs": [
    {
     "name": "stdout",
     "output_type": "stream",
     "text": [
      "{'fruits': 'Orange', 'movies': 'Marvel'}\n"
     ]
    }
   ],
   "source": [
    "advanced5(fruits=\"mangoes\", movies=\"Marvel\")"
   ]
  },
  {
   "cell_type": "code",
   "execution_count": null,
   "id": "da306bc6",
   "metadata": {},
   "outputs": [],
   "source": []
  },
  {
   "cell_type": "markdown",
   "id": "7631d23c",
   "metadata": {},
   "source": [
    "## docstring\n",
    " \n",
    "it is used for making comment after function's line. It shows the working type of the function. \n",
    "show it as 3 column '''  '''\n"
   ]
  },
  {
   "cell_type": "markdown",
   "id": "12bc3efc",
   "metadata": {},
   "source": [
    "**Format:\n",
    "header\n",
    "docstring\n",
    "logic\n",
    "return"
   ]
  },
  {
   "cell_type": "code",
   "execution_count": 33,
   "id": "9a33d9d7",
   "metadata": {},
   "outputs": [],
   "source": [
    "def advanced(a,b,c,d):\n",
    "    '''This will return the value of a+b-c*d'''     #This is docstring\n",
    "    return a+b-c*d\n",
    "    "
   ]
  },
  {
   "cell_type": "code",
   "execution_count": 34,
   "id": "4f40ffd3",
   "metadata": {},
   "outputs": [
    {
     "data": {
      "text/plain": [
       "'This will return the value of a+b-c*d'"
      ]
     },
     "execution_count": 34,
     "metadata": {},
     "output_type": "execute_result"
    }
   ],
   "source": [
    "advanced.__doc__     # <- This function is used for watch the docstring of the function"
   ]
  },
  {
   "cell_type": "code",
   "execution_count": null,
   "id": "def3af0e",
   "metadata": {},
   "outputs": [],
   "source": []
  },
  {
   "cell_type": "code",
   "execution_count": null,
   "id": "aa99ad34",
   "metadata": {},
   "outputs": [],
   "source": []
  },
  {
   "cell_type": "code",
   "execution_count": null,
   "id": "10d43044",
   "metadata": {},
   "outputs": [],
   "source": []
  },
  {
   "cell_type": "code",
   "execution_count": 25,
   "id": "b5390211",
   "metadata": {},
   "outputs": [],
   "source": [
    "#you can use an integer, float, string, or Boolean as a dictionary key. \n",
    "d={\n",
    "    12 : \"hello\",      18 : \"hii\"\n",
    "}"
   ]
  },
  {
   "cell_type": "code",
   "execution_count": 41,
   "id": "72de8e50",
   "metadata": {
    "scrolled": true
   },
   "outputs": [
    {
     "data": {
      "text/plain": [
       "{12: 'hello', 18: 'hii'}"
      ]
     },
     "execution_count": 41,
     "metadata": {},
     "output_type": "execute_result"
    }
   ],
   "source": [
    "d"
   ]
  },
  {
   "cell_type": "code",
   "execution_count": 42,
   "id": "9d108315",
   "metadata": {},
   "outputs": [],
   "source": [
    "k={\"hi\":\"hello\",\n",
    "   \"world\":\"earth\"}"
   ]
  },
  {
   "cell_type": "code",
   "execution_count": 54,
   "id": "ad83c221",
   "metadata": {},
   "outputs": [
    {
     "name": "stdout",
     "output_type": "stream",
     "text": [
      "[('hi', 'hello'), ('world', 'earth')]\n",
      "['hi', 'world']\n",
      "['hello', 'earth']\n"
     ]
    }
   ],
   "source": [
    "# for converting the dictionary into list\n",
    "l=list(k.items())\n",
    "i=list(k.keys())\n",
    "j=list(k.values())\n",
    "\n",
    "print(l)\n",
    "print(i)\n",
    "print(j)"
   ]
  },
  {
   "cell_type": "code",
   "execution_count": null,
   "id": "7be19214",
   "metadata": {},
   "outputs": [],
   "source": []
  },
  {
   "cell_type": "code",
   "execution_count": null,
   "id": "c049e9bc",
   "metadata": {},
   "outputs": [],
   "source": []
  },
  {
   "cell_type": "code",
   "execution_count": null,
   "id": "c5ae330f",
   "metadata": {},
   "outputs": [],
   "source": []
  }
 ],
 "metadata": {
  "kernelspec": {
   "display_name": "Python 3",
   "language": "python",
   "name": "python3"
  },
  "language_info": {
   "codemirror_mode": {
    "name": "ipython",
    "version": 3
   },
   "file_extension": ".py",
   "mimetype": "text/x-python",
   "name": "python",
   "nbconvert_exporter": "python",
   "pygments_lexer": "ipython3",
   "version": "3.9.5"
  }
 },
 "nbformat": 4,
 "nbformat_minor": 5
}
