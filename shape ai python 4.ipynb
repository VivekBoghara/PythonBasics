{
 "cells": [
  {
   "cell_type": "markdown",
   "id": "ae1f50c1",
   "metadata": {},
   "source": [
    "## Loops\n"
   ]
  },
  {
   "cell_type": "code",
   "execution_count": null,
   "id": "88d7be11",
   "metadata": {},
   "outputs": [],
   "source": [
    "for i in range(start,stop,skip):     # for is a keyword not a function\n",
    "    statement\n",
    "    \n",
    "for i in range(10):     #<-- Here, 10 is a stopping point\n",
    "    statement"
   ]
  },
  {
   "cell_type": "code",
   "execution_count": 3,
   "id": "bfa3061b",
   "metadata": {},
   "outputs": [
    {
     "name": "stdout",
     "output_type": "stream",
     "text": [
      "41\n",
      "42\n",
      "43\n",
      "44\n",
      "45\n",
      "46\n",
      "47\n",
      "48\n",
      "49\n",
      "50\n"
     ]
    }
   ],
   "source": [
    "for i in range(41,51):\n",
    "    print(i)"
   ]
  },
  {
   "cell_type": "code",
   "execution_count": 5,
   "id": "5db8d124",
   "metadata": {},
   "outputs": [
    {
     "name": "stdout",
     "output_type": "stream",
     "text": [
      "42\n",
      "43\n",
      "44\n",
      "45\n",
      "46\n",
      "47\n",
      "48\n",
      "49\n",
      "50\n",
      "51\n"
     ]
    }
   ],
   "source": [
    "for i in range(41,51):      \n",
    "    i+=1                # This will print i from 42 to 51 \n",
    "    print(i)"
   ]
  },
  {
   "cell_type": "code",
   "execution_count": 8,
   "id": "1d60d4d7",
   "metadata": {},
   "outputs": [
    {
     "name": "stdout",
     "output_type": "stream",
     "text": [
      "41\n",
      "42\n",
      "43\n",
      "44\n",
      "45\n",
      "46\n",
      "47\n",
      "Yes we've done it\n",
      "49\n",
      "50\n"
     ]
    }
   ],
   "source": [
    "for i in range(41,51):\n",
    "    if i==48:\n",
    "        print(\"Yes we've done it\")\n",
    "    else:\n",
    "        print(i)"
   ]
  },
  {
   "cell_type": "code",
   "execution_count": null,
   "id": "0a2cce19",
   "metadata": {},
   "outputs": [],
   "source": []
  },
  {
   "cell_type": "code",
   "execution_count": null,
   "id": "e1a5c539",
   "metadata": {},
   "outputs": [],
   "source": []
  },
  {
   "cell_type": "code",
   "execution_count": null,
   "id": "9d8283da",
   "metadata": {},
   "outputs": [],
   "source": [
    "while condition:     # while is also a keyword, not a function\n",
    "    statement"
   ]
  },
  {
   "cell_type": "code",
   "execution_count": null,
   "id": "faea8375",
   "metadata": {},
   "outputs": [],
   "source": [
    "while condition:\n",
    "    statement\n",
    "else:\n",
    "    statement"
   ]
  },
  {
   "cell_type": "code",
   "execution_count": 2,
   "id": "52f75217",
   "metadata": {
    "scrolled": true
   },
   "outputs": [
    {
     "name": "stdout",
     "output_type": "stream",
     "text": [
      "0\n",
      "1\n",
      "2\n",
      "3\n",
      "4\n",
      "5\n",
      "6\n",
      "7\n",
      "8\n",
      "9\n",
      "10\n",
      "11\n",
      "12\n",
      "13\n",
      "14\n",
      "15\n",
      "16\n",
      "17\n",
      "18\n",
      "19\n",
      "20\n",
      "21\n",
      "22\n",
      "23\n",
      "24\n"
     ]
    }
   ],
   "source": [
    "count=0\n",
    "while count<25:\n",
    "    print(count)\n",
    "    count+=1"
   ]
  },
  {
   "cell_type": "code",
   "execution_count": null,
   "id": "59dce943",
   "metadata": {},
   "outputs": [],
   "source": []
  },
  {
   "cell_type": "code",
   "execution_count": 9,
   "id": "51409925",
   "metadata": {
    "scrolled": true
   },
   "outputs": [
    {
     "name": "stdout",
     "output_type": "stream",
     "text": [
      "Hello world\n",
      "Hello world\n",
      "Hello world\n",
      "Hello world\n",
      "Hello world\n",
      "Hello world\n",
      "Hello world\n",
      "Hello world\n",
      "Hello world\n",
      "Hello world\n"
     ]
    }
   ],
   "source": [
    "count=0    #<-- counter\n",
    "while count<10:\n",
    "    count+=1                #If you will not write count'+=1, then it will be print an infinite loop\n",
    "    print(\"Hello world\")"
   ]
  },
  {
   "cell_type": "code",
   "execution_count": null,
   "id": "1c46b77b",
   "metadata": {},
   "outputs": [],
   "source": [
    "while True:                #This is an infinte loop\n",
    "    print(\"Hello  world\")"
   ]
  },
  {
   "cell_type": "code",
   "execution_count": 3,
   "id": "73b5a495",
   "metadata": {},
   "outputs": [
    {
     "name": "stdout",
     "output_type": "stream",
     "text": [
      "what's the output?\n",
      "14\n",
      "what's the output?\n",
      "13\n",
      "what's the output?\n",
      "12\n",
      "what's the output?\n",
      "11\n",
      "what's the output?\n",
      "10\n",
      "This is else\n"
     ]
    }
   ],
   "source": [
    "count=15\n",
    "\n",
    "while count>10:\n",
    "    count-=1\n",
    "    print(\"what's the output?\")\n",
    "    print(count)\n",
    "else:\n",
    "    print(\"This is else\")"
   ]
  },
  {
   "cell_type": "markdown",
   "id": "609e32b9",
   "metadata": {},
   "source": [
    "loop is as same as automation.Automation means doing and repeat the work again and again.\n",
    "\n",
    "loop -> automation -> Selenium, PyautoGUI  <-This both are python libraries for automation\n",
    "\n",
    "Suppose, In software company, you have to do the following work:->\n",
    "You have to send 1 message to 90k differet peoples\n",
    "\n",
    "90k \n",
    "dataset-> Numbers | (WhatsApp)\n",
    "\n",
    "import dataset -> Data cleaning   <- Data cleaning is the part of data analysis\n"
   ]
  },
  {
   "cell_type": "markdown",
   "id": "4562ef54",
   "metadata": {},
   "source": [
    "What do you prefer? Hard work or Smart work"
   ]
  },
  {
   "cell_type": "code",
   "execution_count": null,
   "id": "bd261702",
   "metadata": {},
   "outputs": [],
   "source": [
    "#Take 5 inputs from the user and print it in making a list"
   ]
  },
  {
   "cell_type": "code",
   "execution_count": 13,
   "id": "53294647",
   "metadata": {},
   "outputs": [
    {
     "name": "stdout",
     "output_type": "stream",
     "text": [
      "5\n",
      "10\n",
      "3\n",
      "4\n",
      "6\n"
     ]
    },
    {
     "data": {
      "text/plain": [
       "[5, 10, 3, 4, 6]"
      ]
     },
     "execution_count": 13,
     "metadata": {},
     "output_type": "execute_result"
    }
   ],
   "source": [
    "#Hard work\n",
    "\n",
    "arr=[]\n",
    "a=int(input())\n",
    "b=int(input())\n",
    "c=int(input())\n",
    "d=int(input())\n",
    "e=int(input())\n",
    "\n",
    "arr.append(a)\n",
    "arr.append(b)\n",
    "arr.append(c)\n",
    "arr.append(d)\n",
    "arr.append(e)\n",
    "\n",
    "arr"
   ]
  },
  {
   "cell_type": "code",
   "execution_count": 16,
   "id": "3073f25e",
   "metadata": {},
   "outputs": [
    {
     "name": "stdout",
     "output_type": "stream",
     "text": [
      "4\n",
      "5\n",
      "6\n",
      "7\n",
      "8\n"
     ]
    },
    {
     "data": {
      "text/plain": [
       "[4, 5, 6, 7, 8]"
      ]
     },
     "execution_count": 16,
     "metadata": {},
     "output_type": "execute_result"
    }
   ],
   "source": [
    "#Smart work\n",
    "arr=[]\n",
    "for i in range(5):\n",
    "    arr.append(int(input()))\n",
    "arr    "
   ]
  },
  {
   "cell_type": "code",
   "execution_count": 19,
   "id": "e4c52b1e",
   "metadata": {},
   "outputs": [
    {
     "name": "stdout",
     "output_type": "stream",
     "text": [
      "5\n",
      "6\n",
      "7\n",
      "8\n",
      "9\n",
      "[5, 6, 7, 8, 9]\n"
     ]
    }
   ],
   "source": [
    "#Very smart work\n",
    " #List comprehension\n",
    "\n",
    "arr=[int(input()) for i in range(5)]    \n",
    "print(arr)"
   ]
  },
  {
   "cell_type": "markdown",
   "id": "f139b797",
   "metadata": {},
   "source": [
    "**List comprehension\n",
    "ar=[statement for loop]   OR\n",
    "ar=[statement for loop if condition]    OR\n",
    "ar=[statement if condition else condition for loop ]"
   ]
  },
  {
   "cell_type": "code",
   "execution_count": 21,
   "id": "742cadfe",
   "metadata": {},
   "outputs": [],
   "source": [
    "brr=[i for i in range(0,100) if i%2==0]"
   ]
  },
  {
   "cell_type": "code",
   "execution_count": 22,
   "id": "24004dc6",
   "metadata": {
    "scrolled": true
   },
   "outputs": [
    {
     "data": {
      "text/plain": [
       "[0,\n",
       " 2,\n",
       " 4,\n",
       " 6,\n",
       " 8,\n",
       " 10,\n",
       " 12,\n",
       " 14,\n",
       " 16,\n",
       " 18,\n",
       " 20,\n",
       " 22,\n",
       " 24,\n",
       " 26,\n",
       " 28,\n",
       " 30,\n",
       " 32,\n",
       " 34,\n",
       " 36,\n",
       " 38,\n",
       " 40,\n",
       " 42,\n",
       " 44,\n",
       " 46,\n",
       " 48,\n",
       " 50,\n",
       " 52,\n",
       " 54,\n",
       " 56,\n",
       " 58,\n",
       " 60,\n",
       " 62,\n",
       " 64,\n",
       " 66,\n",
       " 68,\n",
       " 70,\n",
       " 72,\n",
       " 74,\n",
       " 76,\n",
       " 78,\n",
       " 80,\n",
       " 82,\n",
       " 84,\n",
       " 86,\n",
       " 88,\n",
       " 90,\n",
       " 92,\n",
       " 94,\n",
       " 96,\n",
       " 98]"
      ]
     },
     "execution_count": 22,
     "metadata": {},
     "output_type": "execute_result"
    }
   ],
   "source": [
    "brr"
   ]
  },
  {
   "cell_type": "code",
   "execution_count": 23,
   "id": "e53d6a7e",
   "metadata": {},
   "outputs": [
    {
     "name": "stdout",
     "output_type": "stream",
     "text": [
      "['apples', 'bananas', 'kiwi']\n"
     ]
    }
   ],
   "source": [
    "fruits=[\"mangoes\",\"apples\",\"bananas\",\"kiwi\"]\n",
    "\n",
    "newlist=[i for i in fruits if i != \"mangoes\"]  #This will add all the elements except newlist\n",
    "print(newlist)"
   ]
  },
  {
   "cell_type": "code",
   "execution_count": null,
   "id": "b130e8d9",
   "metadata": {},
   "outputs": [],
   "source": [
    "The usage of data structure in software industry as these presedance:\n",
    "    \n",
    "LIST, DICT, TUPLE, SET    "
   ]
  },
  {
   "cell_type": "code",
   "execution_count": null,
   "id": "eeb5905d",
   "metadata": {},
   "outputs": [],
   "source": []
  },
  {
   "cell_type": "markdown",
   "id": "59393b24",
   "metadata": {},
   "source": [
    "## NESTED\n",
    "\n",
    "\n",
    "list in list, dict in a dict, tuple in a tuple\n",
    "\n",
    "multiple loops or loop in a loop\n",
    "multiple if elif else or conditional statement in a CS."
   ]
  },
  {
   "cell_type": "code",
   "execution_count": 25,
   "id": "306265fc",
   "metadata": {},
   "outputs": [
    {
     "name": "stdout",
     "output_type": "stream",
     "text": [
      "Yes you are right\n"
     ]
    }
   ],
   "source": [
    "variable=\"Toy story\"\n",
    "if \"Toy\" in variable:\n",
    "    print(\"Yes you are right\")\n",
    "else:\n",
    "    print(\"I am wrong\")\n",
    "    \n",
    "# here , the word Toy is inside the variable \"Toy story\" , that's why it will be true    "
   ]
  },
  {
   "cell_type": "code",
   "execution_count": 5,
   "id": "25db87cf",
   "metadata": {},
   "outputs": [
    {
     "name": "stdout",
     "output_type": "stream",
     "text": [
      "I am wrong\n"
     ]
    }
   ],
   "source": [
    "num=25000\n",
    "if num>1000:\n",
    "    if num<10000:\n",
    "        print(\"Yes it is nested\")\n",
    "    else:\n",
    "        print(\"I am wrong\")"
   ]
  },
  {
   "cell_type": "code",
   "execution_count": 28,
   "id": "3d866349",
   "metadata": {},
   "outputs": [
    {
     "name": "stdout",
     "output_type": "stream",
     "text": [
      "0\n",
      "1\n",
      "2\n",
      "3\n",
      "4\n",
      "0\n",
      "1\n",
      "2\n",
      "3\n",
      "4\n",
      "0\n",
      "1\n",
      "2\n",
      "3\n",
      "4\n",
      "0\n",
      "1\n",
      "2\n",
      "3\n",
      "4\n",
      "0\n",
      "1\n",
      "2\n",
      "3\n",
      "4\n"
     ]
    }
   ],
   "source": [
    "#nested loop\n",
    "\n",
    "#complexity - Space & Time\n",
    "for i in range(5):\n",
    "    for j in range(5):\n",
    "        print(j)"
   ]
  },
  {
   "cell_type": "code",
   "execution_count": 9,
   "id": "03d3770a",
   "metadata": {},
   "outputs": [
    {
     "name": "stdout",
     "output_type": "stream",
     "text": [
      "0\n"
     ]
    }
   ],
   "source": [
    "a=[]\n",
    "print(len(a))\n",
    "\n",
    "for i in range(len(a)):    # range 0 means 0. The loop wiil not be worked or started\n",
    "    print(i)"
   ]
  },
  {
   "cell_type": "code",
   "execution_count": 10,
   "id": "30139549",
   "metadata": {},
   "outputs": [
    {
     "name": "stdout",
     "output_type": "stream",
     "text": [
      "Hey\n"
     ]
    },
    {
     "data": {
      "text/plain": [
       "[2]"
      ]
     },
     "execution_count": 10,
     "metadata": {},
     "output_type": "execute_result"
    }
   ],
   "source": [
    "a=[2]\n",
    "\n",
    "for i in a:\n",
    "#     a.append(i+1)   #This will be print an infinite loop because as per loop the new element will be appended every time\n",
    "    print(\"Hey\")    \n",
    "#actually, for loop run once, but after one time, it will go to the check the condition, but at that time we have appneded a new element in list a in 1st run. That's why it will be run again\n",
    "\n",
    "a"
   ]
  },
  {
   "cell_type": "code",
   "execution_count": 12,
   "id": "a0ab1e64",
   "metadata": {},
   "outputs": [
    {
     "name": "stdout",
     "output_type": "stream",
     "text": [
      "{'apples': 1, 'mangoes': 1, 'kiwi': 1}\n"
     ]
    }
   ],
   "source": [
    "fruits=[\"apples\",\"mangoes\",\"kiwi\"]\n",
    "quantity=[3,1,1]\n",
    "d={}\n",
    "\n",
    "#this will be wrong because it will print wrong because in nested list, the final number of j in qunatity will be override all the key values of dictionary. \n",
    "#So, it will be not worked as we wanted\n",
    "for i in fruits:\n",
    "    for j in quantity:\n",
    "        d[i]=j\n",
    "\n",
    "print(d)"
   ]
  },
  {
   "cell_type": "code",
   "execution_count": 44,
   "id": "3ac1bacc",
   "metadata": {},
   "outputs": [],
   "source": [
    "#Zip method\n",
    "#first method \n",
    "\n",
    "d=dict(zip(fruits,quantity))"
   ]
  },
  {
   "cell_type": "code",
   "execution_count": 45,
   "id": "ded65a1e",
   "metadata": {},
   "outputs": [
    {
     "data": {
      "text/plain": [
       "{'apples': 3, 'mangoes': 1, 'kiwi': 1}"
      ]
     },
     "execution_count": 45,
     "metadata": {},
     "output_type": "execute_result"
    }
   ],
   "source": [
    "d"
   ]
  },
  {
   "cell_type": "code",
   "execution_count": 52,
   "id": "1962baea",
   "metadata": {},
   "outputs": [],
   "source": [
    "#Another method of using zip\n",
    "fine={}\n",
    "for i,j in zip(fruits,quantity):\n",
    "    fine[i]=j"
   ]
  },
  {
   "cell_type": "code",
   "execution_count": 54,
   "id": "bdb98d13",
   "metadata": {},
   "outputs": [
    {
     "name": "stdout",
     "output_type": "stream",
     "text": [
      "{'apples': 3, 'mangoes': 1, 'kiwi': 1}\n"
     ]
    }
   ],
   "source": [
    "print(fine)"
   ]
  },
  {
   "cell_type": "code",
   "execution_count": null,
   "id": "72552e3f",
   "metadata": {},
   "outputs": [],
   "source": []
  },
  {
   "cell_type": "code",
   "execution_count": null,
   "id": "de3dc604",
   "metadata": {},
   "outputs": [],
   "source": [
    "#Automation Libraries -> selenium & pyautogui (position of screen) 16inch,72 inch\n",
    "# Data Collection -> scraping(Taking the data without the permission from the site)(illegal) & Automation"
   ]
  },
  {
   "cell_type": "code",
   "execution_count": null,
   "id": "cad99dae",
   "metadata": {},
   "outputs": [],
   "source": []
  },
  {
   "cell_type": "code",
   "execution_count": 13,
   "id": "29ad0466",
   "metadata": {},
   "outputs": [
    {
     "name": "stdout",
     "output_type": "stream",
     "text": [
      "10\n",
      "nothing\n"
     ]
    }
   ],
   "source": [
    "a=input()        #If you give value as 10 as input, then also it will print false means else part because the input you gave is in string type and remember \"10\" == 10  will be false\n",
    "if a==10:      \n",
    "    print(\"something\")\n",
    "else:\n",
    "    print(\"nothing\")"
   ]
  },
  {
   "cell_type": "code",
   "execution_count": null,
   "id": "7310ae62",
   "metadata": {},
   "outputs": [],
   "source": []
  },
  {
   "cell_type": "code",
   "execution_count": null,
   "id": "45617313",
   "metadata": {},
   "outputs": [],
   "source": []
  },
  {
   "cell_type": "code",
   "execution_count": null,
   "id": "99722258",
   "metadata": {},
   "outputs": [],
   "source": []
  },
  {
   "cell_type": "code",
   "execution_count": null,
   "id": "94a9f6e2",
   "metadata": {},
   "outputs": [],
   "source": []
  },
  {
   "cell_type": "code",
   "execution_count": null,
   "id": "e55dee2f",
   "metadata": {},
   "outputs": [],
   "source": []
  },
  {
   "cell_type": "code",
   "execution_count": null,
   "id": "f98d4301",
   "metadata": {},
   "outputs": [],
   "source": []
  },
  {
   "cell_type": "code",
   "execution_count": null,
   "id": "4e6da557",
   "metadata": {},
   "outputs": [],
   "source": []
  },
  {
   "cell_type": "code",
   "execution_count": null,
   "id": "cd92656b",
   "metadata": {},
   "outputs": [],
   "source": []
  },
  {
   "cell_type": "code",
   "execution_count": null,
   "id": "d1900be5",
   "metadata": {},
   "outputs": [],
   "source": []
  },
  {
   "cell_type": "code",
   "execution_count": null,
   "id": "bb33938d",
   "metadata": {},
   "outputs": [],
   "source": []
  },
  {
   "cell_type": "code",
   "execution_count": null,
   "id": "4f6f8f1a",
   "metadata": {},
   "outputs": [],
   "source": []
  }
 ],
 "metadata": {
  "kernelspec": {
   "display_name": "Python 3",
   "language": "python",
   "name": "python3"
  },
  "language_info": {
   "codemirror_mode": {
    "name": "ipython",
    "version": 3
   },
   "file_extension": ".py",
   "mimetype": "text/x-python",
   "name": "python",
   "nbconvert_exporter": "python",
   "pygments_lexer": "ipython3",
   "version": "3.9.5"
  }
 },
 "nbformat": 4,
 "nbformat_minor": 5
}
