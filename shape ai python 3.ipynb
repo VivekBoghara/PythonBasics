{
 "cells": [
  {
   "cell_type": "markdown",
   "id": "ebc8ec47",
   "metadata": {},
   "source": [
    "## Sets \n",
    "\n",
    "1.Python data structure\n",
    "2.{}\n",
    "3.Unordered\n",
    "4.Unchangable-> inbuilt\n",
    "5.It does not supports duplicacy\n"
   ]
  },
  {
   "cell_type": "code",
   "execution_count": 2,
   "id": "f2ea66f8",
   "metadata": {},
   "outputs": [],
   "source": [
    "seti={11,1,3,7,2}"
   ]
  },
  {
   "cell_type": "code",
   "execution_count": 3,
   "id": "62ed5a92",
   "metadata": {},
   "outputs": [
    {
     "data": {
      "text/plain": [
       "{1, 2, 3, 7, 11}"
      ]
     },
     "execution_count": 3,
     "metadata": {},
     "output_type": "execute_result"
    }
   ],
   "source": [
    "seti"
   ]
  },
  {
   "cell_type": "code",
   "execution_count": 4,
   "id": "d81fed77",
   "metadata": {},
   "outputs": [],
   "source": [
    "setii={1,2,3,4,5,1,2,4,2,3,1,1,5}"
   ]
  },
  {
   "cell_type": "code",
   "execution_count": 49,
   "id": "7ffb935b",
   "metadata": {},
   "outputs": [
    {
     "data": {
      "text/plain": [
       "{1, 2, 3, 4, 5}"
      ]
     },
     "execution_count": 49,
     "metadata": {},
     "output_type": "execute_result"
    }
   ],
   "source": [
    "setii"
   ]
  },
  {
   "cell_type": "code",
   "execution_count": 51,
   "id": "af508aaf",
   "metadata": {},
   "outputs": [
    {
     "data": {
      "text/plain": [
       "set"
      ]
     },
     "execution_count": 51,
     "metadata": {},
     "output_type": "execute_result"
    }
   ],
   "source": [
    "type(setii)"
   ]
  },
  {
   "cell_type": "code",
   "execution_count": 1,
   "id": "857e4e0a",
   "metadata": {},
   "outputs": [],
   "source": [
    "set1={\"mangoes\",\"cherries\",\"apples\",\"Cherries\"}  "
   ]
  },
  {
   "cell_type": "code",
   "execution_count": 2,
   "id": "48be4d14",
   "metadata": {},
   "outputs": [
    {
     "data": {
      "text/plain": [
       "{'Cherries', 'apples', 'cherries', 'mangoes'}"
      ]
     },
     "execution_count": 2,
     "metadata": {},
     "output_type": "execute_result"
    }
   ],
   "source": [
    "set1"
   ]
  },
  {
   "cell_type": "code",
   "execution_count": 25,
   "id": "d7a958c6",
   "metadata": {},
   "outputs": [
    {
     "data": {
      "text/plain": [
       "set"
      ]
     },
     "execution_count": 25,
     "metadata": {},
     "output_type": "execute_result"
    }
   ],
   "source": [
    "type(set1)"
   ]
  },
  {
   "cell_type": "code",
   "execution_count": 33,
   "id": "52feed5f",
   "metadata": {},
   "outputs": [],
   "source": [
    "li=[]\n",
    "li=list(set1)"
   ]
  },
  {
   "cell_type": "code",
   "execution_count": 34,
   "id": "dfd4f968",
   "metadata": {},
   "outputs": [
    {
     "data": {
      "text/plain": [
       "list"
      ]
     },
     "execution_count": 34,
     "metadata": {},
     "output_type": "execute_result"
    }
   ],
   "source": [
    "type(li)"
   ]
  },
  {
   "cell_type": "code",
   "execution_count": 12,
   "id": "5e618407",
   "metadata": {},
   "outputs": [
    {
     "data": {
      "text/plain": [
       "{'Cherries', 'apples', 'cherries', 'manoges'}"
      ]
     },
     "execution_count": 12,
     "metadata": {},
     "output_type": "execute_result"
    }
   ],
   "source": [
    "set1     # It prints the element in ascending value in ascii code.  Ascii code:- A to Z :- 65 to 90, a to z:- 97 to 122, 0 to 9:- 48 to 57"
   ]
  },
  {
   "cell_type": "code",
   "execution_count": 13,
   "id": "6a24657c",
   "metadata": {},
   "outputs": [],
   "source": [
    "li= list(set1)"
   ]
  },
  {
   "cell_type": "code",
   "execution_count": 37,
   "id": "bbc4bc7b",
   "metadata": {},
   "outputs": [
    {
     "data": {
      "text/plain": [
       "['Cherries', 'cherries', 'apples', 'manoges']"
      ]
     },
     "execution_count": 37,
     "metadata": {},
     "output_type": "execute_result"
    }
   ],
   "source": [
    "li       #it will print every elements in alternative way of set"
   ]
  },
  {
   "cell_type": "code",
   "execution_count": 18,
   "id": "b67e0281",
   "metadata": {},
   "outputs": [
    {
     "data": {
      "text/plain": [
       "list"
      ]
     },
     "execution_count": 18,
     "metadata": {},
     "output_type": "execute_result"
    }
   ],
   "source": [
    "type(li)"
   ]
  },
  {
   "cell_type": "code",
   "execution_count": 47,
   "id": "74ebdf2f",
   "metadata": {},
   "outputs": [
    {
     "data": {
      "text/plain": [
       "['Cherries', 'cherries', 'apples', 'manoges']"
      ]
     },
     "execution_count": 47,
     "metadata": {},
     "output_type": "execute_result"
    }
   ],
   "source": [
    "li"
   ]
  },
  {
   "cell_type": "code",
   "execution_count": 3,
   "id": "b9c47c46",
   "metadata": {},
   "outputs": [],
   "source": [
    "seti={\"bananas\",\"cherries\",\"apples\",\"mangoes\"}"
   ]
  },
  {
   "cell_type": "code",
   "execution_count": 57,
   "id": "81559047",
   "metadata": {},
   "outputs": [
    {
     "data": {
      "text/plain": [
       "{'apples', 'bananas', 'cherries', 'mangoes'}"
      ]
     },
     "execution_count": 57,
     "metadata": {},
     "output_type": "execute_result"
    }
   ],
   "source": [
    "seti"
   ]
  },
  {
   "cell_type": "code",
   "execution_count": 6,
   "id": "818bb98b",
   "metadata": {},
   "outputs": [
    {
     "data": {
      "text/plain": [
       "True"
      ]
     },
     "execution_count": 6,
     "metadata": {},
     "output_type": "execute_result"
    }
   ],
   "source": [
    "\"bananas\" in seti"
   ]
  },
  {
   "cell_type": "code",
   "execution_count": 8,
   "id": "87ef544c",
   "metadata": {},
   "outputs": [],
   "source": [
    "##CRUD\n",
    "\n",
    "# C -> Create{}, set \n",
    "# R -> print(). for\n",
    "# U ->adding any elements, update, {1,1} -> {2,2}\n",
    "# D -> Delete, remove,pop\n",
    "\n",
    "set_a={\"apples\",\"bananas\",\"mangoes\"}\n",
    "set_b={\"oranges\"}\n",
    "\n",
    "\n",
    "#Adding up the two sets\n",
    "\n",
    "set_a.update(set_b)"
   ]
  },
  {
   "cell_type": "code",
   "execution_count": 9,
   "id": "9b05a71d",
   "metadata": {},
   "outputs": [
    {
     "data": {
      "text/plain": [
       "{'apples', 'bananas', 'mangoes', 'oranges'}"
      ]
     },
     "execution_count": 9,
     "metadata": {},
     "output_type": "execute_result"
    }
   ],
   "source": [
    "set_a"
   ]
  },
  {
   "cell_type": "code",
   "execution_count": 11,
   "id": "23afc32a",
   "metadata": {},
   "outputs": [],
   "source": [
    "set_a.add(\"mango\")"
   ]
  },
  {
   "cell_type": "code",
   "execution_count": 12,
   "id": "d4962aaa",
   "metadata": {},
   "outputs": [
    {
     "data": {
      "text/plain": [
       "{'apples', 'bananas', 'mango', 'mangoes', 'oranges'}"
      ]
     },
     "execution_count": 12,
     "metadata": {},
     "output_type": "execute_result"
    }
   ],
   "source": [
    "set_a"
   ]
  },
  {
   "cell_type": "code",
   "execution_count": 13,
   "id": "c716da53",
   "metadata": {},
   "outputs": [],
   "source": [
    "set_c={\"hii\",\"bye\"}\n",
    "set_d={\"new\",\"few\"}"
   ]
  },
  {
   "cell_type": "code",
   "execution_count": 17,
   "id": "74aef3fd",
   "metadata": {},
   "outputs": [
    {
     "data": {
      "text/plain": [
       "{'apples', 'bananas', 'grapes', 'mango', 'mangoes', 'oranges'}"
      ]
     },
     "execution_count": 17,
     "metadata": {},
     "output_type": "execute_result"
    }
   ],
   "source": [
    "set_a"
   ]
  },
  {
   "cell_type": "code",
   "execution_count": 18,
   "id": "107560d5",
   "metadata": {
    "scrolled": true
   },
   "outputs": [],
   "source": [
    "set_a.add(\"grapes\")"
   ]
  },
  {
   "cell_type": "code",
   "execution_count": 62,
   "id": "baa735af",
   "metadata": {},
   "outputs": [
    {
     "data": {
      "text/plain": [
       "{'apples', 'bananas', 'grapes', 'mangoes', 'oranges'}"
      ]
     },
     "execution_count": 62,
     "metadata": {},
     "output_type": "execute_result"
    }
   ],
   "source": [
    "set_a"
   ]
  },
  {
   "cell_type": "code",
   "execution_count": null,
   "id": "bf1fa248",
   "metadata": {},
   "outputs": [],
   "source": [
    "#sets\n",
    "\n",
    "remove()"
   ]
  },
  {
   "cell_type": "code",
   "execution_count": 19,
   "id": "6e66d915",
   "metadata": {},
   "outputs": [],
   "source": [
    "set_a.remove(\"grapes\")"
   ]
  },
  {
   "cell_type": "code",
   "execution_count": 20,
   "id": "c3ded83e",
   "metadata": {},
   "outputs": [
    {
     "data": {
      "text/plain": [
       "{'apples', 'bananas', 'mango', 'mangoes', 'oranges'}"
      ]
     },
     "execution_count": 20,
     "metadata": {},
     "output_type": "execute_result"
    }
   ],
   "source": [
    "set_a"
   ]
  },
  {
   "cell_type": "code",
   "execution_count": 21,
   "id": "1eb4bd87",
   "metadata": {},
   "outputs": [
    {
     "ename": "KeyError",
     "evalue": "'grapes'",
     "output_type": "error",
     "traceback": [
      "\u001b[1;31m---------------------------------------------------------------------------\u001b[0m",
      "\u001b[1;31mKeyError\u001b[0m                                  Traceback (most recent call last)",
      "\u001b[1;32m<ipython-input-21-dd6866fe0982>\u001b[0m in \u001b[0;36m<module>\u001b[1;34m\u001b[0m\n\u001b[1;32m----> 1\u001b[1;33m \u001b[0mset_a\u001b[0m\u001b[1;33m.\u001b[0m\u001b[0mremove\u001b[0m\u001b[1;33m(\u001b[0m\u001b[1;34m\"grapes\"\u001b[0m\u001b[1;33m)\u001b[0m\u001b[1;33m\u001b[0m\u001b[1;33m\u001b[0m\u001b[0m\n\u001b[0m",
      "\u001b[1;31mKeyError\u001b[0m: 'grapes'"
     ]
    }
   ],
   "source": [
    "set_a.remove(\"grapes\")"
   ]
  },
  {
   "cell_type": "code",
   "execution_count": 66,
   "id": "cbe21aa4",
   "metadata": {},
   "outputs": [
    {
     "data": {
      "text/plain": [
       "{'apples', 'bananas', 'mangoes', 'oranges'}"
      ]
     },
     "execution_count": 66,
     "metadata": {},
     "output_type": "execute_result"
    }
   ],
   "source": [
    "set_a"
   ]
  },
  {
   "cell_type": "code",
   "execution_count": 67,
   "id": "73bf101a",
   "metadata": {},
   "outputs": [],
   "source": [
    "set_a.discard(\"mangoes\")"
   ]
  },
  {
   "cell_type": "code",
   "execution_count": 68,
   "id": "86ee24cf",
   "metadata": {},
   "outputs": [
    {
     "data": {
      "text/plain": [
       "{'apples', 'bananas', 'oranges'}"
      ]
     },
     "execution_count": 68,
     "metadata": {},
     "output_type": "execute_result"
    }
   ],
   "source": [
    "set_a"
   ]
  },
  {
   "cell_type": "code",
   "execution_count": 69,
   "id": "45021432",
   "metadata": {},
   "outputs": [],
   "source": [
    "set_a.discard(\"mangoes\")    #if you again use discard for mangoes, then also it will not give an error. Where as, in remove function, if you try to remove the same thing again, ten it will give an error"
   ]
  },
  {
   "cell_type": "code",
   "execution_count": 70,
   "id": "8b47f142",
   "metadata": {},
   "outputs": [
    {
     "data": {
      "text/plain": [
       "{'apples', 'bananas', 'oranges'}"
      ]
     },
     "execution_count": 70,
     "metadata": {},
     "output_type": "execute_result"
    }
   ],
   "source": [
    "set_a"
   ]
  },
  {
   "cell_type": "code",
   "execution_count": 71,
   "id": "1dd23d1b",
   "metadata": {},
   "outputs": [],
   "source": [
    "#clear() make the set empty(remove the element)\n",
    "\n",
    "set_a.clear()"
   ]
  },
  {
   "cell_type": "code",
   "execution_count": 72,
   "id": "d9de34c5",
   "metadata": {},
   "outputs": [
    {
     "data": {
      "text/plain": [
       "set()"
      ]
     },
     "execution_count": 72,
     "metadata": {},
     "output_type": "execute_result"
    }
   ],
   "source": [
    "set_a"
   ]
  },
  {
   "cell_type": "code",
   "execution_count": 28,
   "id": "000f9767",
   "metadata": {},
   "outputs": [],
   "source": [
    "set_a={\"apple\",\"banana\",\"charries\"}\n",
    "set_b={\"google\",\"microsoft\",\"apple\"}"
   ]
  },
  {
   "cell_type": "code",
   "execution_count": 3,
   "id": "e92f98e6",
   "metadata": {},
   "outputs": [],
   "source": [
    "set_c=set_a.union(set_b)"
   ]
  },
  {
   "cell_type": "code",
   "execution_count": 4,
   "id": "b07c8a69",
   "metadata": {},
   "outputs": [
    {
     "data": {
      "text/plain": [
       "{'apple', 'banana', 'charries', 'google', 'microsoft'}"
      ]
     },
     "execution_count": 4,
     "metadata": {},
     "output_type": "execute_result"
    }
   ],
   "source": [
    "set_c"
   ]
  },
  {
   "cell_type": "code",
   "execution_count": 29,
   "id": "7f196e14",
   "metadata": {},
   "outputs": [],
   "source": [
    "set_a.update(set_b)"
   ]
  },
  {
   "cell_type": "code",
   "execution_count": 30,
   "id": "3f3edf44",
   "metadata": {},
   "outputs": [
    {
     "data": {
      "text/plain": [
       "{'apple', 'banana', 'charries', 'google', 'microsoft'}"
      ]
     },
     "execution_count": 30,
     "metadata": {},
     "output_type": "execute_result"
    }
   ],
   "source": [
    "set_a"
   ]
  },
  {
   "cell_type": "code",
   "execution_count": 32,
   "id": "b345e8f6",
   "metadata": {},
   "outputs": [],
   "source": [
    "set_c= set_a.intersection(set_b)"
   ]
  },
  {
   "cell_type": "code",
   "execution_count": 33,
   "id": "400202d6",
   "metadata": {},
   "outputs": [
    {
     "data": {
      "text/plain": [
       "{'apple', 'google', 'microsoft'}"
      ]
     },
     "execution_count": 33,
     "metadata": {},
     "output_type": "execute_result"
    }
   ],
   "source": [
    "set_c"
   ]
  },
  {
   "cell_type": "code",
   "execution_count": 34,
   "id": "de068220",
   "metadata": {},
   "outputs": [],
   "source": [
    "set_c=set_a.difference(set_b)"
   ]
  },
  {
   "cell_type": "code",
   "execution_count": 35,
   "id": "5119d7d2",
   "metadata": {},
   "outputs": [
    {
     "data": {
      "text/plain": [
       "{'banana', 'charries'}"
      ]
     },
     "execution_count": 35,
     "metadata": {},
     "output_type": "execute_result"
    }
   ],
   "source": [
    "set_c"
   ]
  },
  {
   "cell_type": "markdown",
   "id": "f3f72aca",
   "metadata": {},
   "source": [
    "## Python\n",
    "\n",
    "**1.Web development\n",
    "2.scrap\n",
    "3.Automation Engineering\n",
    "4.Data Analysis ->\n",
    "\n",
    "\n",
    "**Data Types -> String, Integers,Float, Boolean\n",
    "Data structures->List, Tuple, Dict, Set\n",
    "COnditional Statement -> if,elif,else\n",
    "Loop-> for & while\n",
    "Function -> def __()\n",
    "Oops -> Classes, objects,inheritence(single,multiple, multilevel), abstraction, polymor.(overriding & overloading)\n"
   ]
  },
  {
   "cell_type": "markdown",
   "id": "3299e37a",
   "metadata": {},
   "source": [
    "**Conditional Statement\n",
    "\n",
    "a==b\n",
    "a!=b\n",
    "a>b\n",
    "a<b\n",
    "a>=b\n",
    "a<=b"
   ]
  },
  {
   "cell_type": "code",
   "execution_count": null,
   "id": "dcb597ba",
   "metadata": {},
   "outputs": [],
   "source": [
    "# if else is a keyword not a function"
   ]
  },
  {
   "cell_type": "markdown",
   "id": "5031f040",
   "metadata": {},
   "source": [
    "if condition:\n",
    "    statement\n",
    "else:\n",
    "    statement"
   ]
  },
  {
   "cell_type": "code",
   "execution_count": 19,
   "id": "35ff03e1",
   "metadata": {},
   "outputs": [
    {
     "name": "stdout",
     "output_type": "stream",
     "text": [
      "5000 extra pocket money\n"
     ]
    }
   ],
   "source": [
    "winner = \"England\"\n",
    "\n",
    "if winner ==\"England\":\n",
    "    print(\"5000 extra pocket money\") \n",
    "else:\n",
    "    print(\"Chores\")"
   ]
  },
  {
   "cell_type": "code",
   "execution_count": null,
   "id": "91025888",
   "metadata": {},
   "outputs": [],
   "source": [
    "# **The method for write if else in short form\n",
    "\n",
    "winner= \"India\"\n",
    "print(\"5000 extra pocket money\") if winner==\"England\" else print(\"Chores\")"
   ]
  },
  {
   "cell_type": "code",
   "execution_count": null,
   "id": "6012db1a",
   "metadata": {},
   "outputs": [],
   "source": [
    "if price<100:\n",
    "    print(\"Buy some snacks\")\n",
    "elif price==100:\n",
    "    print(\"Purchase the PR T card\")\n",
    "    "
   ]
  },
  {
   "cell_type": "code",
   "execution_count": 36,
   "id": "80c9ebb2",
   "metadata": {},
   "outputs": [],
   "source": [
    "stri=\"Monday\""
   ]
  },
  {
   "cell_type": "code",
   "execution_count": 37,
   "id": "63e0a2c5",
   "metadata": {},
   "outputs": [
    {
     "data": {
      "text/plain": [
       "False"
      ]
     },
     "execution_count": 37,
     "metadata": {},
     "output_type": "execute_result"
    }
   ],
   "source": [
    "stri==True   #It gives answer as false because stri has saved value string Monday in his element.If stri = True then, the stri==True will give answer as True"
   ]
  },
  {
   "cell_type": "code",
   "execution_count": null,
   "id": "e6659992",
   "metadata": {},
   "outputs": [],
   "source": [
    "stri=1"
   ]
  },
  {
   "cell_type": "code",
   "execution_count": 43,
   "id": "b74a15b5",
   "metadata": {},
   "outputs": [
    {
     "data": {
      "text/plain": [
       "False"
      ]
     },
     "execution_count": 43,
     "metadata": {},
     "output_type": "execute_result"
    }
   ],
   "source": [
    "stri==True"
   ]
  },
  {
   "cell_type": "code",
   "execution_count": 36,
   "id": "a914be30",
   "metadata": {},
   "outputs": [
    {
     "ename": "NameError",
     "evalue": "name 'ans' is not defined",
     "output_type": "error",
     "traceback": [
      "\u001b[1;31m---------------------------------------------------------------------------\u001b[0m",
      "\u001b[1;31mNameError\u001b[0m                                 Traceback (most recent call last)",
      "\u001b[1;32m<ipython-input-36-467a80e51105>\u001b[0m in \u001b[0;36m<module>\u001b[1;34m\u001b[0m\n\u001b[1;32m----> 1\u001b[1;33m \u001b[1;32mif\u001b[0m \u001b[0mans\u001b[0m\u001b[1;33m:\u001b[0m\u001b[1;33m\u001b[0m\u001b[1;33m\u001b[0m\u001b[0m\n\u001b[0m\u001b[0;32m      2\u001b[0m     \u001b[0mprint\u001b[0m\u001b[1;33m(\u001b[0m\u001b[1;34m\"Hello world\"\u001b[0m\u001b[1;33m)\u001b[0m\u001b[1;33m\u001b[0m\u001b[1;33m\u001b[0m\u001b[0m\n\u001b[0;32m      3\u001b[0m \u001b[1;32melse\u001b[0m\u001b[1;33m:\u001b[0m\u001b[1;33m\u001b[0m\u001b[1;33m\u001b[0m\u001b[0m\n\u001b[0;32m      4\u001b[0m     \u001b[0mprint\u001b[0m\u001b[1;33m(\u001b[0m\u001b[1;34m\"bbye world\"\u001b[0m\u001b[1;33m)\u001b[0m\u001b[1;33m\u001b[0m\u001b[1;33m\u001b[0m\u001b[0m\n",
      "\u001b[1;31mNameError\u001b[0m: name 'ans' is not defined"
     ]
    }
   ],
   "source": [
    "if ans:\n",
    "    print(\"Hello world\")    \n",
    "else:\n",
    "    print(\"bbye world\")\n",
    "    \n",
    "#Here, It will give en error bcoz ans variable is not defined but if you write any variable which is defined, then it will give the if answer     "
   ]
  },
  {
   "cell_type": "code",
   "execution_count": 46,
   "id": "0efb8ec6",
   "metadata": {},
   "outputs": [
    {
     "name": "stdout",
     "output_type": "stream",
     "text": [
      "Hello world\n"
     ]
    }
   ],
   "source": [
    "stri=3\n",
    "if stri:                 \n",
    "    print(\"Hello world\")\n",
    "else:\n",
    "    print(\"bbye world\")\n",
    "    \n",
    "# Here,stri is defined, That's why it prints hello world and if stri=False, then it will print the bbye world as answer    "
   ]
  },
  {
   "cell_type": "code",
   "execution_count": 47,
   "id": "19839cbc",
   "metadata": {},
   "outputs": [
    {
     "name": "stdout",
     "output_type": "stream",
     "text": [
      "bbye world\n"
     ]
    }
   ],
   "source": [
    "stri=False\n",
    "if stri:                 \n",
    "    print(\"Hello world\")\n",
    "else:\n",
    "    print(\"bbye world\")\n",
    "    \n",
    "# Here,stri is defined, That's why it prints hello world and if stri=False, then it will print the bbye world as answer    "
   ]
  },
  {
   "cell_type": "code",
   "execution_count": 48,
   "id": "4c452a43",
   "metadata": {},
   "outputs": [
    {
     "name": "stdout",
     "output_type": "stream",
     "text": [
      "bbye world\n"
     ]
    }
   ],
   "source": [
    "#First, The try will be run and if there will be an error, then the except will be printed\n",
    "\n",
    "try:\n",
    "    if ans:\n",
    "        print(\"Hello world\")    \n",
    "except:\n",
    "    print(\"bbye world\")\n",
    "    \n",
    "# Here, Try and exception method is used to handle the exception or an error method which helps us to hsndle an error"
   ]
  },
  {
   "cell_type": "code",
   "execution_count": 40,
   "id": "212dd039",
   "metadata": {},
   "outputs": [],
   "source": [
    "listi=[\"Mr.bean\",\"Sinchan\",\"Tom & Jerry\",\"Richie Rich\"]"
   ]
  },
  {
   "cell_type": "code",
   "execution_count": 41,
   "id": "1f141980",
   "metadata": {},
   "outputs": [],
   "source": [
    "if \"Noddy\" in listi:\n",
    "    print(\"Yes it is\")\n",
    "elif \"Oswald\" not in listi:\n",
    "    listi.append(\"Oswald\")"
   ]
  },
  {
   "cell_type": "code",
   "execution_count": 42,
   "id": "52f5a64e",
   "metadata": {},
   "outputs": [
    {
     "data": {
      "text/plain": [
       "['Mr.bean', 'Sinchan', 'Tom & Jerry', 'Richie Rich', 'Oswald']"
      ]
     },
     "execution_count": 42,
     "metadata": {},
     "output_type": "execute_result"
    }
   ],
   "source": [
    "listi"
   ]
  },
  {
   "cell_type": "code",
   "execution_count": 44,
   "id": "e9b1709b",
   "metadata": {},
   "outputs": [
    {
     "name": "stdout",
     "output_type": "stream",
     "text": [
      "Enter name: 12\n",
      "Sorry, try again\n"
     ]
    }
   ],
   "source": [
    "inp=input(\"Enter name: \")\n",
    "\n",
    "if inp.isnumeric():          #It is conditional method. If the answer will be numeric, then it will be true. num= 0 to 9\n",
    "    print(\"Sorry, try again\")\n",
    "elif inp.isalpha():          #It is conditional method. If the answer will be in alphabet, then it will be true. alpha=a to z and A to Z\n",
    "    print(\"You are good to go\")\n",
    "else:\n",
    "    print(\"Drop off the college\")"
   ]
  },
  {
   "cell_type": "code",
   "execution_count": 50,
   "id": "bef9ba01",
   "metadata": {},
   "outputs": [
    {
     "name": "stdout",
     "output_type": "stream",
     "text": [
      "Enter the combination or single alphabetical and number: 65\n",
      "You are good to go\n"
     ]
    }
   ],
   "source": [
    "n = input(\"Enter the combination or single alphabetical and number: \")\n",
    "# isalnum-> Alpha Numeric\n",
    "\n",
    "if n.isalnum():           \n",
    "#isalnum is conditional method. If the answer will be alphabetic or numeric or combination of both, then it will be true.\n",
    "# But remember, It will not take special character. If you enter special character, Then it will be false.\n",
    "    print(\"You are good to go\")\n",
    "else:\n",
    "    print(\"Sorry try again\")"
   ]
  },
  {
   "cell_type": "code",
   "execution_count": null,
   "id": "32c180ac",
   "metadata": {},
   "outputs": [],
   "source": []
  },
  {
   "cell_type": "code",
   "execution_count": null,
   "id": "c18d6116",
   "metadata": {},
   "outputs": [],
   "source": []
  },
  {
   "cell_type": "code",
   "execution_count": null,
   "id": "b76bf9db",
   "metadata": {},
   "outputs": [],
   "source": []
  },
  {
   "cell_type": "code",
   "execution_count": null,
   "id": "577a049b",
   "metadata": {},
   "outputs": [],
   "source": []
  },
  {
   "cell_type": "code",
   "execution_count": null,
   "id": "7e254392",
   "metadata": {},
   "outputs": [],
   "source": []
  },
  {
   "cell_type": "code",
   "execution_count": null,
   "id": "58ce6242",
   "metadata": {},
   "outputs": [],
   "source": []
  },
  {
   "cell_type": "code",
   "execution_count": null,
   "id": "66a0b643",
   "metadata": {},
   "outputs": [],
   "source": []
  },
  {
   "cell_type": "code",
   "execution_count": null,
   "id": "1a2b3938",
   "metadata": {},
   "outputs": [],
   "source": []
  },
  {
   "cell_type": "code",
   "execution_count": null,
   "id": "7ab9b87b",
   "metadata": {},
   "outputs": [],
   "source": []
  },
  {
   "cell_type": "code",
   "execution_count": null,
   "id": "c1ffb093",
   "metadata": {},
   "outputs": [],
   "source": []
  },
  {
   "cell_type": "code",
   "execution_count": null,
   "id": "f8f866e0",
   "metadata": {},
   "outputs": [],
   "source": []
  },
  {
   "cell_type": "code",
   "execution_count": null,
   "id": "046bfdb2",
   "metadata": {},
   "outputs": [],
   "source": []
  }
 ],
 "metadata": {
  "kernelspec": {
   "display_name": "Python 3",
   "language": "python",
   "name": "python3"
  },
  "language_info": {
   "codemirror_mode": {
    "name": "ipython",
    "version": 3
   },
   "file_extension": ".py",
   "mimetype": "text/x-python",
   "name": "python",
   "nbconvert_exporter": "python",
   "pygments_lexer": "ipython3",
   "version": "3.9.5"
  }
 },
 "nbformat": 4,
 "nbformat_minor": 5
}
