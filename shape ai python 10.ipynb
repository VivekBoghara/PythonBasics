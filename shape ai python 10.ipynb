{
 "cells": [
  {
   "cell_type": "markdown",
   "id": "b5e0b593",
   "metadata": {},
   "source": [
    "## File handing/ File I/O"
   ]
  },
  {
   "cell_type": "code",
   "execution_count": null,
   "id": "abc54068",
   "metadata": {
    "slideshow": {
     "slide_type": "skip"
    }
   },
   "outputs": [],
   "source": [
    "volatile & Non-volatile memory:-"
   ]
  },
  {
   "cell_type": "code",
   "execution_count": null,
   "id": "e5de5acf",
   "metadata": {
    "slideshow": {
     "slide_type": "skip"
    }
   },
   "outputs": [],
   "source": [
    "Volatile memory is the type of memory in which data is lost as it is powered-off.\n",
    "Non-volatile memory is the type of memory in which data remains stored even if it is powered-off."
   ]
  },
  {
   "cell_type": "code",
   "execution_count": 2,
   "id": "4a8eac89",
   "metadata": {},
   "outputs": [],
   "source": [
    "When you use a function as simple directly, it called a function but \n",
    "when you use a function from the class, it is called as method"
   ]
  },
  {
   "cell_type": "code",
   "execution_count": null,
   "id": "6e135e09",
   "metadata": {},
   "outputs": [],
   "source": [
    "'''\n",
    "r -> Reading a file     <- this will ony read the file. It can't do any changes in file\n",
    "rt -> Reading a text file       rb -> reading a binary file\n",
    "w -> writing in a file   <- This w command will be trancate the old file and print a new words in place of old file and replace it with new one\n",
    "wt -> writing a text file       wb -> writing a finary file \n",
    "a -> Appending   <- It will add the new words in onld file. It will not truncate the old file and it also create a new file if it will be not exist\n",
    "at and ab <- same as above for append\n",
    "b -> Binary     <- for write a binary file\n",
    "t -> text\n",
    "+ -> read & write\n",
    "x -> If the file exists ->It throws an error and if the file doen't exist -> It will make the new file\n",
    "''' "
   ]
  },
  {
   "cell_type": "code",
   "execution_count": null,
   "id": "ee5b9837",
   "metadata": {},
   "outputs": [],
   "source": [
    "open(filelocation)"
   ]
  },
  {
   "cell_type": "code",
   "execution_count": 8,
   "id": "f13f4cef",
   "metadata": {},
   "outputs": [],
   "source": [
    "f=open(\"c:/Users/Hello/Desktop/Hello.txt\")   #<-- this open will take the read command by default directly "
   ]
  },
  {
   "cell_type": "code",
   "execution_count": 9,
   "id": "80f463c7",
   "metadata": {},
   "outputs": [
    {
     "data": {
      "text/plain": [
       "<_io.TextIOWrapper name='c:/Users/Hello/Desktop/Hello.txt' mode='r' encoding='cp1252'>"
      ]
     },
     "execution_count": 9,
     "metadata": {},
     "output_type": "execute_result"
    }
   ],
   "source": [
    "f     #<- This f will print the location of the file"
   ]
  },
  {
   "cell_type": "code",
   "execution_count": 10,
   "id": "183059f9",
   "metadata": {},
   "outputs": [
    {
     "data": {
      "text/plain": [
       "\"HELLO WROLD\\nhOW ARE YOU?\\nNICE TO MEET YOU\\nWHAT'S GOING ON?\""
      ]
     },
     "execution_count": 10,
     "metadata": {},
     "output_type": "execute_result"
    }
   ],
   "source": [
    "f.read()    # <- this will show all the contents of the file"
   ]
  },
  {
   "cell_type": "code",
   "execution_count": 21,
   "id": "f73621a3",
   "metadata": {},
   "outputs": [],
   "source": [
    "f=open(\"c:/Users/Hello/Desktop/Hello.txt\")  \n",
    "f.read(10)   #<- It will read the first 10 charracter of the file "
   ]
  },
  {
   "cell_type": "code",
   "execution_count": 14,
   "id": "858ae7af",
   "metadata": {},
   "outputs": [
    {
     "data": {
      "text/plain": [
       "'D\\nhOW ARE '"
      ]
     },
     "execution_count": 14,
     "metadata": {},
     "output_type": "execute_result"
    }
   ],
   "source": [
    "f.read(10)  #<-- It will read the next 10 chracter of the file from the previous because the cursor was stopped at before when we printed read(10) , it will be start after thet character\n",
    "# remember, the cursor will not go backwords. It only goes forward"
   ]
  },
  {
   "cell_type": "code",
   "execution_count": 16,
   "id": "6ff47f40",
   "metadata": {},
   "outputs": [
    {
     "data": {
      "text/plain": [
       "21"
      ]
     },
     "execution_count": 16,
     "metadata": {},
     "output_type": "execute_result"
    }
   ],
   "source": [
    "f.tell()  #<- It will tell you at which point the cursor is now"
   ]
  },
  {
   "cell_type": "code",
   "execution_count": 24,
   "id": "dbcfd244",
   "metadata": {},
   "outputs": [
    {
     "data": {
      "text/plain": [
       "0"
      ]
     },
     "execution_count": 24,
     "metadata": {},
     "output_type": "execute_result"
    }
   ],
   "source": [
    "f.seek(0)  #<- It takes the cursor at that position where you want to go"
   ]
  },
  {
   "cell_type": "code",
   "execution_count": 18,
   "id": "42e13cea",
   "metadata": {},
   "outputs": [
    {
     "data": {
      "text/plain": [
       "0"
      ]
     },
     "execution_count": 18,
     "metadata": {},
     "output_type": "execute_result"
    }
   ],
   "source": [
    "f.tell()"
   ]
  },
  {
   "cell_type": "code",
   "execution_count": 30,
   "id": "711c5415",
   "metadata": {},
   "outputs": [
    {
     "data": {
      "text/plain": [
       "'HELLO WROLD\\nhOW ARE '"
      ]
     },
     "execution_count": 30,
     "metadata": {},
     "output_type": "execute_result"
    }
   ],
   "source": [
    "f.read(20)    # this will print total 21 character from 0 to 20"
   ]
  },
  {
   "cell_type": "code",
   "execution_count": 32,
   "id": "f6ecc025",
   "metadata": {},
   "outputs": [
    {
     "data": {
      "text/plain": [
       "0"
      ]
     },
     "execution_count": 32,
     "metadata": {},
     "output_type": "execute_result"
    }
   ],
   "source": [
    "f.seek(0)     #You have to take cursor at 0 every time, because it won't go backwards directly becoz f.read() will go only in forward directon"
   ]
  },
  {
   "cell_type": "code",
   "execution_count": 33,
   "id": "8a29dd55",
   "metadata": {},
   "outputs": [
    {
     "name": "stdout",
     "output_type": "stream",
     "text": [
      "HELLO WROLD\n",
      "\n",
      "hOW ARE YOU?\n",
      "\n",
      "NICE TO MEET YOU\n",
      "\n",
      "WHAT'S GOING ON?\n"
     ]
    }
   ],
   "source": [
    "for i in f:     #This will print all the words of file as same as in word\n",
    "    print(i)  "
   ]
  },
  {
   "cell_type": "code",
   "execution_count": 39,
   "id": "33680fd4",
   "metadata": {},
   "outputs": [
    {
     "data": {
      "text/plain": [
       "0"
      ]
     },
     "execution_count": 39,
     "metadata": {},
     "output_type": "execute_result"
    }
   ],
   "source": [
    "f.seek(0)    #You have to take cursor at 0 every time, because it won't go backwards directly becoz f.read() will go only in forward directon"
   ]
  },
  {
   "cell_type": "code",
   "execution_count": 36,
   "id": "378ac624",
   "metadata": {
    "scrolled": true
   },
   "outputs": [
    {
     "name": "stdout",
     "output_type": "stream",
     "text": [
      "H\n",
      "E\n",
      "L\n",
      "L\n",
      "O\n",
      " \n",
      "W\n",
      "R\n",
      "O\n",
      "L\n",
      "D\n",
      "\n",
      "\n",
      "h\n",
      "O\n",
      "W\n",
      " \n",
      "A\n",
      "R\n",
      "E\n",
      " \n",
      "Y\n",
      "O\n",
      "U\n",
      "?\n",
      "\n",
      "\n",
      "N\n",
      "I\n",
      "C\n",
      "E\n",
      " \n",
      "T\n",
      "O\n",
      " \n",
      "M\n",
      "E\n",
      "E\n",
      "T\n",
      " \n",
      "Y\n",
      "O\n",
      "U\n",
      "\n",
      "\n",
      "W\n",
      "H\n",
      "A\n",
      "T\n",
      "'\n",
      "S\n",
      " \n",
      "G\n",
      "O\n",
      "I\n",
      "N\n",
      "G\n",
      " \n",
      "O\n",
      "N\n",
      "?\n"
     ]
    }
   ],
   "source": [
    "content = f.read()\n",
    "for i in content:   #<- If you want to print every characters of file line by lie, then use this method\n",
    "    print(i)"
   ]
  },
  {
   "cell_type": "code",
   "execution_count": 41,
   "id": "cbf66929",
   "metadata": {},
   "outputs": [
    {
     "name": "stdout",
     "output_type": "stream",
     "text": [
      "HELLO WROLD\n",
      "hOW ARE YOU?\n",
      "NICE TO MEET YOU\n",
      "WHAT'S GOING ON?"
     ]
    }
   ],
   "source": [
    "f.seek(0)\n",
    "content= f.read()\n",
    "for i in content:\n",
    "    print(i,end=\"\")"
   ]
  },
  {
   "cell_type": "code",
   "execution_count": 43,
   "id": "a9889dd9",
   "metadata": {},
   "outputs": [
    {
     "data": {
      "text/plain": [
       "'HELLO WROLD\\n'"
      ]
     },
     "execution_count": 43,
     "metadata": {},
     "output_type": "execute_result"
    }
   ],
   "source": [
    "f.seek(0)\n",
    "f.readline()  #<- It will print the whole line from where the cursor is"
   ]
  },
  {
   "cell_type": "code",
   "execution_count": 45,
   "id": "6640acaa",
   "metadata": {},
   "outputs": [
    {
     "data": {
      "text/plain": [
       "['hOW ARE YOU?\\n', 'NICE TO MEET YOU\\n', \"WHAT'S GOING ON?\"]"
      ]
     },
     "execution_count": 45,
     "metadata": {},
     "output_type": "execute_result"
    }
   ],
   "source": [
    "f.readlines()   #It prints all the lines from where the cursor is and it add all of them as element in list"
   ]
  },
  {
   "cell_type": "code",
   "execution_count": 46,
   "id": "54b533b8",
   "metadata": {},
   "outputs": [
    {
     "data": {
      "text/plain": [
       "''"
      ]
     },
     "execution_count": 46,
     "metadata": {},
     "output_type": "execute_result"
    }
   ],
   "source": [
    "f.readline()   #Now, it will be 0 because the cursor is at last because in previous, we applied readlines.so the cursor will be at there and after that it will not go backwards directly. "
   ]
  },
  {
   "cell_type": "code",
   "execution_count": 52,
   "id": "01923036",
   "metadata": {},
   "outputs": [],
   "source": [
    "f=open(\"c:/Users/Hello/Desktop/new.txt\")"
   ]
  },
  {
   "cell_type": "code",
   "execution_count": 53,
   "id": "a7256ccf",
   "metadata": {},
   "outputs": [
    {
     "data": {
      "text/plain": [
       "['\\n',\n",
       " 'Hey\\n',\n",
       " 'You know me?\\n',\n",
       " 'May I know you?\\n',\n",
       " 'Who are you?\\n',\n",
       " 'ohhh']"
      ]
     },
     "execution_count": 53,
     "metadata": {},
     "output_type": "execute_result"
    }
   ],
   "source": [
    "f.readlines()"
   ]
  },
  {
   "cell_type": "code",
   "execution_count": 54,
   "id": "214114c6",
   "metadata": {},
   "outputs": [
    {
     "data": {
      "text/plain": [
       "0"
      ]
     },
     "execution_count": 54,
     "metadata": {},
     "output_type": "execute_result"
    }
   ],
   "source": [
    "f.seek(0)"
   ]
  },
  {
   "cell_type": "code",
   "execution_count": 55,
   "id": "ccc89b59",
   "metadata": {},
   "outputs": [],
   "source": [
    "arr=f.readlines()"
   ]
  },
  {
   "cell_type": "code",
   "execution_count": 56,
   "id": "b37aa08d",
   "metadata": {},
   "outputs": [
    {
     "data": {
      "text/plain": [
       "6"
      ]
     },
     "execution_count": 56,
     "metadata": {},
     "output_type": "execute_result"
    }
   ],
   "source": [
    "len(arr)"
   ]
  },
  {
   "cell_type": "code",
   "execution_count": 57,
   "id": "f890b308",
   "metadata": {},
   "outputs": [
    {
     "data": {
      "text/plain": [
       "['\\n',\n",
       " 'Hey\\n',\n",
       " 'You know me?\\n',\n",
       " 'May I know you?\\n',\n",
       " 'Who are you?\\n',\n",
       " 'ohhh']"
      ]
     },
     "execution_count": 57,
     "metadata": {},
     "output_type": "execute_result"
    }
   ],
   "source": [
    "arr     #Here, in 1st element \\n is like a null character, it is like \"\" element in the list"
   ]
  },
  {
   "cell_type": "code",
   "execution_count": 58,
   "id": "3100968d",
   "metadata": {},
   "outputs": [
    {
     "data": {
      "text/plain": [
       "list"
      ]
     },
     "execution_count": 58,
     "metadata": {},
     "output_type": "execute_result"
    }
   ],
   "source": [
    "type(arr)"
   ]
  },
  {
   "cell_type": "code",
   "execution_count": 59,
   "id": "ad9d28a9",
   "metadata": {},
   "outputs": [
    {
     "name": "stdout",
     "output_type": "stream",
     "text": [
      "\n",
      " + yes\n",
      "Hey\n",
      " + yes\n",
      "You know me?\n",
      " + yes\n",
      "May I know you?\n",
      " + yes\n",
      "Who are you?\n",
      " + yes\n",
      "ohhh + yes\n"
     ]
    }
   ],
   "source": [
    "for i in arr:\n",
    "    print(f\"{i} + yes\")    # this will add yes in every element of the list and now the \\n will be not empty it has also yes inside it"
   ]
  },
  {
   "cell_type": "code",
   "execution_count": 61,
   "id": "a8a0e32d",
   "metadata": {},
   "outputs": [
    {
     "name": "stdout",
     "output_type": "stream",
     "text": [
      "Hello world\n",
      "how are you?\n"
     ]
    }
   ],
   "source": [
    "print(\"Hello world\\nhow are you?\")"
   ]
  },
  {
   "cell_type": "code",
   "execution_count": null,
   "id": "ab2dc3e9",
   "metadata": {},
   "outputs": [],
   "source": []
  },
  {
   "cell_type": "markdown",
   "id": "f659b9c6",
   "metadata": {},
   "source": [
    "## Write"
   ]
  },
  {
   "cell_type": "code",
   "execution_count": 63,
   "id": "d9e238e8",
   "metadata": {},
   "outputs": [],
   "source": [
    "f=open(\"c:/Users/Hello/Desktop/Hello.txt\",\"w\")\n",
    "f.write(\"The avengers: Age of Ultron (now)\")  #It will overwrite the new old file with new file\n",
    "f.close()"
   ]
  },
  {
   "cell_type": "code",
   "execution_count": 64,
   "id": "72476475",
   "metadata": {},
   "outputs": [],
   "source": [
    "f=open(\"c:/Users/Hello/Desktop/Hello.txt\",\"a\")  # This will append the new text in old file\n",
    "f.write(\"Caption America \\n\")\n",
    "f.close()"
   ]
  },
  {
   "cell_type": "code",
   "execution_count": 65,
   "id": "1168d32d",
   "metadata": {},
   "outputs": [],
   "source": [
    "f=open(\"c:/Users/Hello/Desktop/Hello.txt\",\"a\")  # This will append the new text in old file\n",
    "f.write(\"Black Widow \\n\")  #<- this will print this in new line bcause in previous, we have already added \\n\n",
    "f.close()"
   ]
  },
  {
   "cell_type": "code",
   "execution_count": 70,
   "id": "35edd5fe",
   "metadata": {},
   "outputs": [
    {
     "data": {
      "text/plain": [
       "'The avengers: Age of Ultron (now)Caption America \\nBlack Widow \\n'"
      ]
     },
     "execution_count": 70,
     "metadata": {},
     "output_type": "execute_result"
    }
   ],
   "source": [
    "f=open(\"c:/Users/Hello/Desktop/Hello.txt\")\n",
    "f.read()"
   ]
  },
  {
   "cell_type": "code",
   "execution_count": null,
   "id": "14a7f18c",
   "metadata": {},
   "outputs": [],
   "source": []
  },
  {
   "cell_type": "markdown",
   "id": "9bb5402e",
   "metadata": {},
   "source": [
    "## Read & write "
   ]
  },
  {
   "cell_type": "code",
   "execution_count": 80,
   "id": "b3e8dc78",
   "metadata": {},
   "outputs": [],
   "source": [
    "f=open(\"c:/Users/Hello/Desktop/Hello.txt\",'r')  #<- r cannot wrie a file"
   ]
  },
  {
   "cell_type": "code",
   "execution_count": 81,
   "id": "8f652941",
   "metadata": {},
   "outputs": [
    {
     "ename": "UnsupportedOperation",
     "evalue": "not writable",
     "output_type": "error",
     "traceback": [
      "\u001b[1;31m---------------------------------------------------------------------------\u001b[0m",
      "\u001b[1;31mUnsupportedOperation\u001b[0m                      Traceback (most recent call last)",
      "\u001b[1;32m<ipython-input-81-0cddc885b0e3>\u001b[0m in \u001b[0;36m<module>\u001b[1;34m\u001b[0m\n\u001b[1;32m----> 1\u001b[1;33m \u001b[0mf\u001b[0m\u001b[1;33m.\u001b[0m\u001b[0mwrite\u001b[0m\u001b[1;33m(\u001b[0m\u001b[1;34m\"Hello world\"\u001b[0m\u001b[1;33m)\u001b[0m\u001b[1;33m\u001b[0m\u001b[1;33m\u001b[0m\u001b[0m\n\u001b[0m",
      "\u001b[1;31mUnsupportedOperation\u001b[0m: not writable"
     ]
    }
   ],
   "source": [
    "f.write(\"Hello world\")"
   ]
  },
  {
   "cell_type": "code",
   "execution_count": 82,
   "id": "2a73a5b0",
   "metadata": {},
   "outputs": [],
   "source": [
    "f.close()"
   ]
  },
  {
   "cell_type": "code",
   "execution_count": null,
   "id": "ff04a19b",
   "metadata": {},
   "outputs": [],
   "source": []
  },
  {
   "cell_type": "code",
   "execution_count": 83,
   "id": "8b8fe653",
   "metadata": {},
   "outputs": [],
   "source": [
    "f=open(\"c:/Users/Hello/Desktop/Hello.txt\",'w')  #<- w cannot read the file"
   ]
  },
  {
   "cell_type": "code",
   "execution_count": 84,
   "id": "57b68a65",
   "metadata": {},
   "outputs": [
    {
     "ename": "UnsupportedOperation",
     "evalue": "not readable",
     "output_type": "error",
     "traceback": [
      "\u001b[1;31m---------------------------------------------------------------------------\u001b[0m",
      "\u001b[1;31mUnsupportedOperation\u001b[0m                      Traceback (most recent call last)",
      "\u001b[1;32m<ipython-input-84-571e9fb02258>\u001b[0m in \u001b[0;36m<module>\u001b[1;34m\u001b[0m\n\u001b[1;32m----> 1\u001b[1;33m \u001b[0mf\u001b[0m\u001b[1;33m.\u001b[0m\u001b[0mread\u001b[0m\u001b[1;33m(\u001b[0m\u001b[1;33m)\u001b[0m\u001b[1;33m\u001b[0m\u001b[1;33m\u001b[0m\u001b[0m\n\u001b[0m",
      "\u001b[1;31mUnsupportedOperation\u001b[0m: not readable"
     ]
    }
   ],
   "source": [
    "f.read()"
   ]
  },
  {
   "cell_type": "code",
   "execution_count": 91,
   "id": "ae41c5db",
   "metadata": {},
   "outputs": [],
   "source": [
    "f.close()"
   ]
  },
  {
   "cell_type": "code",
   "execution_count": null,
   "id": "232c2928",
   "metadata": {},
   "outputs": [],
   "source": []
  },
  {
   "cell_type": "code",
   "execution_count": 92,
   "id": "0d51c96b",
   "metadata": {},
   "outputs": [],
   "source": [
    "f=open(\"c:/Users/Hello/Desktop/Hello.txt\",'r+')  #Here, r+ work as read and append function because it doesn't oevrwrite the file, it just add the words after the old lines. "
   ]
  },
  {
   "cell_type": "code",
   "execution_count": 93,
   "id": "64a786a6",
   "metadata": {},
   "outputs": [
    {
     "data": {
      "text/plain": [
       "0"
      ]
     },
     "execution_count": 93,
     "metadata": {},
     "output_type": "execute_result"
    }
   ],
   "source": [
    "f.write(\"Avengers\")  # the cursor will go to the last after writing this so you have to take it at first for read it \n",
    "f.seek(0)"
   ]
  },
  {
   "cell_type": "code",
   "execution_count": 94,
   "id": "ae8c339d",
   "metadata": {},
   "outputs": [
    {
     "data": {
      "text/plain": [
       "'Avengers'"
      ]
     },
     "execution_count": 94,
     "metadata": {},
     "output_type": "execute_result"
    }
   ],
   "source": [
    "f.read()"
   ]
  },
  {
   "cell_type": "code",
   "execution_count": 95,
   "id": "41431a8e",
   "metadata": {},
   "outputs": [
    {
     "data": {
      "text/plain": [
       "8"
      ]
     },
     "execution_count": 95,
     "metadata": {},
     "output_type": "execute_result"
    }
   ],
   "source": [
    "f.write(\"Avengers\")"
   ]
  },
  {
   "cell_type": "code",
   "execution_count": 96,
   "id": "333986fe",
   "metadata": {},
   "outputs": [
    {
     "data": {
      "text/plain": [
       "0"
      ]
     },
     "execution_count": 96,
     "metadata": {},
     "output_type": "execute_result"
    }
   ],
   "source": [
    "f.seek(0)"
   ]
  },
  {
   "cell_type": "code",
   "execution_count": 97,
   "id": "3301952f",
   "metadata": {},
   "outputs": [
    {
     "data": {
      "text/plain": [
       "'AvengersAvengers'"
      ]
     },
     "execution_count": 97,
     "metadata": {},
     "output_type": "execute_result"
    }
   ],
   "source": [
    "f.read()"
   ]
  },
  {
   "cell_type": "code",
   "execution_count": 98,
   "id": "7a250186",
   "metadata": {},
   "outputs": [],
   "source": [
    "f.close()"
   ]
  },
  {
   "cell_type": "code",
   "execution_count": 1,
   "id": "845556c1",
   "metadata": {},
   "outputs": [
    {
     "name": "stdout",
     "output_type": "stream",
     "text": [
      "'\\n' is used for many work\n"
     ]
    }
   ],
   "source": [
    "print(\"'\\\\n' is used for many work\")"
   ]
  },
  {
   "cell_type": "code",
   "execution_count": 1,
   "id": "7042fde0",
   "metadata": {},
   "outputs": [],
   "source": [
    "import re"
   ]
  },
  {
   "cell_type": "code",
   "execution_count": 11,
   "id": "3d480b1d",
   "metadata": {},
   "outputs": [],
   "source": [
    "line = \"I am RHG. I am learning NLP in PDEU. My roll number is 18BIT001.\"\n",
    "matchObj = re.match(r'PDPU', line, re.M | re.I)"
   ]
  },
  {
   "cell_type": "code",
   "execution_count": 12,
   "id": "b7cdf043",
   "metadata": {},
   "outputs": [],
   "source": [
    "matchObj"
   ]
  },
  {
   "cell_type": "code",
   "execution_count": 10,
   "id": "707593dd",
   "metadata": {},
   "outputs": [],
   "source": [
    "import re\n",
    "def searchvsmatch():\n",
    "    line = \"I am RHG. I am learning NLP in PDEU. My roll number is 18BIT001.\"\n",
    "    matchObj = re.match(r'PDPU', line, re.M | re.I)\n",
    "    if matchObj:\n",
    "        print (\"match: \", matchObj.group())\n",
    "    else:\n",
    "        print (\"No match!!\")\n",
    "    searchObj = re.search(r'NLP', line, re.M | re.I)\n",
    "    if searchObj:\n",
    "        print (\"search: \", searchObj.group())\n",
    "    else:\n",
    "        print (\"Nothing found!!\")"
   ]
  },
  {
   "cell_type": "code",
   "execution_count": null,
   "id": "0204f800",
   "metadata": {},
   "outputs": [],
   "source": []
  },
  {
   "cell_type": "code",
   "execution_count": null,
   "id": "fe2ad697",
   "metadata": {},
   "outputs": [],
   "source": []
  },
  {
   "cell_type": "code",
   "execution_count": null,
   "id": "afe039fa",
   "metadata": {},
   "outputs": [],
   "source": [
    "'''\n",
    "x -> if the file exist, it will give an error and if the file is not exist, then it will create a new one\n",
    "'''"
   ]
  },
  {
   "cell_type": "code",
   "execution_count": 104,
   "id": "16cc8562",
   "metadata": {},
   "outputs": [],
   "source": [
    "SYNTAX => file=open(location_of_the_file,'x')"
   ]
  },
  {
   "cell_type": "code",
   "execution_count": 105,
   "id": "26b7aff1",
   "metadata": {},
   "outputs": [
    {
     "ename": "FileExistsError",
     "evalue": "[Errno 17] File exists: 'c:/Users/Hello/Desktop/Hello.txt'",
     "output_type": "error",
     "traceback": [
      "\u001b[1;31m---------------------------------------------------------------------------\u001b[0m",
      "\u001b[1;31mFileExistsError\u001b[0m                           Traceback (most recent call last)",
      "\u001b[1;32m<ipython-input-105-e0bfca95bd4a>\u001b[0m in \u001b[0;36m<module>\u001b[1;34m\u001b[0m\n\u001b[1;32m----> 1\u001b[1;33m \u001b[0mfi\u001b[0m\u001b[1;33m=\u001b[0m \u001b[0mopen\u001b[0m\u001b[1;33m(\u001b[0m\u001b[1;34m\"c:/Users/Hello/Desktop/Hello.txt\"\u001b[0m\u001b[1;33m,\u001b[0m\u001b[1;34m'x'\u001b[0m\u001b[1;33m)\u001b[0m\u001b[1;33m\u001b[0m\u001b[1;33m\u001b[0m\u001b[0m\n\u001b[0m",
      "\u001b[1;31mFileExistsError\u001b[0m: [Errno 17] File exists: 'c:/Users/Hello/Desktop/Hello.txt'"
     ]
    }
   ],
   "source": [
    "fi= open(\"c:/Users/Hello/Desktop/Hello.txt\",'x')  #<- It will give an error bcoz file is already exists"
   ]
  },
  {
   "cell_type": "code",
   "execution_count": 106,
   "id": "39f1e66e",
   "metadata": {},
   "outputs": [],
   "source": [
    "fi= open(\"c:/Users/Hello/Desktop/Dekho.txt\",'x')  #<- It will create the new txt file in written location"
   ]
  },
  {
   "cell_type": "code",
   "execution_count": 111,
   "id": "758c2541",
   "metadata": {},
   "outputs": [
    {
     "data": {
      "text/plain": [
       "0"
      ]
     },
     "execution_count": 111,
     "metadata": {},
     "output_type": "execute_result"
    }
   ],
   "source": [
    "fi.write(\"Hello\")  #It supports to write the file\n",
    "fi.seek(0)"
   ]
  },
  {
   "cell_type": "code",
   "execution_count": 108,
   "id": "fb09514c",
   "metadata": {},
   "outputs": [
    {
     "ename": "UnsupportedOperation",
     "evalue": "not readable",
     "output_type": "error",
     "traceback": [
      "\u001b[1;31m---------------------------------------------------------------------------\u001b[0m",
      "\u001b[1;31mUnsupportedOperation\u001b[0m                      Traceback (most recent call last)",
      "\u001b[1;32m<ipython-input-108-3404f50f69d9>\u001b[0m in \u001b[0;36m<module>\u001b[1;34m\u001b[0m\n\u001b[1;32m----> 1\u001b[1;33m \u001b[0mfi\u001b[0m\u001b[1;33m.\u001b[0m\u001b[0mread\u001b[0m\u001b[1;33m(\u001b[0m\u001b[1;33m)\u001b[0m\u001b[1;33m\u001b[0m\u001b[1;33m\u001b[0m\u001b[0m\n\u001b[0m",
      "\u001b[1;31mUnsupportedOperation\u001b[0m: not readable"
     ]
    }
   ],
   "source": [
    "fi.read()  #But it doesn't support the reading part"
   ]
  },
  {
   "cell_type": "code",
   "execution_count": 112,
   "id": "d227f19a",
   "metadata": {},
   "outputs": [
    {
     "data": {
      "text/plain": [
       "2"
      ]
     },
     "execution_count": 112,
     "metadata": {},
     "output_type": "execute_result"
    }
   ],
   "source": [
    "fi.write(\"ho\")    # first we used seek, so cursor will go at starting part and then it will append there "
   ]
  },
  {
   "cell_type": "code",
   "execution_count": 113,
   "id": "eb9a4b84",
   "metadata": {},
   "outputs": [],
   "source": [
    "f.close()"
   ]
  },
  {
   "cell_type": "code",
   "execution_count": 114,
   "id": "39d131d5",
   "metadata": {},
   "outputs": [],
   "source": [
    "fi = open(\"c:/Users/Hello/Desktop/Dekho.txt\",'r') "
   ]
  },
  {
   "cell_type": "code",
   "execution_count": 115,
   "id": "6a62c053",
   "metadata": {},
   "outputs": [
    {
     "data": {
      "text/plain": [
       "'hoHello'"
      ]
     },
     "execution_count": 115,
     "metadata": {},
     "output_type": "execute_result"
    }
   ],
   "source": [
    "fi.read()"
   ]
  },
  {
   "cell_type": "code",
   "execution_count": 122,
   "id": "3b598d59",
   "metadata": {},
   "outputs": [],
   "source": [
    "fi= open(\"c:/Users/Hello/Desktop/Dekho2.txt\",'x') "
   ]
  },
  {
   "cell_type": "code",
   "execution_count": 124,
   "id": "c12ed708",
   "metadata": {},
   "outputs": [
    {
     "data": {
      "text/plain": [
       "4"
      ]
     },
     "execution_count": 124,
     "metadata": {},
     "output_type": "execute_result"
    }
   ],
   "source": [
    "fi.write(\"Hello\") #First, this hello will be printed\n",
    "fi.seek(0)      # now, then this seek wil take the cursor at 0 \n",
    "fi.write(\"nahi\")   # now this will be appended, so nahi will be overwrite the old word hello"
   ]
  },
  {
   "cell_type": "code",
   "execution_count": 126,
   "id": "170243a7",
   "metadata": {},
   "outputs": [],
   "source": [
    "fi.close()"
   ]
  },
  {
   "cell_type": "code",
   "execution_count": 127,
   "id": "fd0b46c5",
   "metadata": {},
   "outputs": [],
   "source": [
    "fi = open(\"c:/Users/Hello/Desktop/Dekho2.txt\",'r') "
   ]
  },
  {
   "cell_type": "code",
   "execution_count": 128,
   "id": "c77a6b60",
   "metadata": {},
   "outputs": [
    {
     "data": {
      "text/plain": [
       "'nahio'"
      ]
     },
     "execution_count": 128,
     "metadata": {},
     "output_type": "execute_result"
    }
   ],
   "source": [
    "fi.read()"
   ]
  },
  {
   "cell_type": "code",
   "execution_count": 140,
   "id": "64d0bc75",
   "metadata": {},
   "outputs": [],
   "source": [
    "fi.close()"
   ]
  },
  {
   "cell_type": "code",
   "execution_count": null,
   "id": "15519fac",
   "metadata": {},
   "outputs": [],
   "source": []
  },
  {
   "cell_type": "code",
   "execution_count": 149,
   "id": "af64e7c0",
   "metadata": {},
   "outputs": [],
   "source": [
    "fi= open(\"c:/Users/Hello/Desktop/Dekho4.txt\",'x') "
   ]
  },
  {
   "cell_type": "code",
   "execution_count": 150,
   "id": "0f56cabc",
   "metadata": {},
   "outputs": [
    {
     "data": {
      "text/plain": [
       "0"
      ]
     },
     "execution_count": 150,
     "metadata": {},
     "output_type": "execute_result"
    }
   ],
   "source": [
    "fi.write(\"Dekho\")   #Dekho\n",
    "fi.seek(0)   #The cursor will be at staring at 0"
   ]
  },
  {
   "cell_type": "code",
   "execution_count": 151,
   "id": "f5a60edf",
   "metadata": {},
   "outputs": [
    {
     "data": {
      "text/plain": [
       "3"
      ]
     },
     "execution_count": 151,
     "metadata": {},
     "output_type": "execute_result"
    }
   ],
   "source": [
    "fi.write(\"use\")  #This will overwrite it and make useho"
   ]
  },
  {
   "cell_type": "code",
   "execution_count": 152,
   "id": "d9960ca6",
   "metadata": {},
   "outputs": [],
   "source": [
    "fi.close()"
   ]
  },
  {
   "cell_type": "code",
   "execution_count": 155,
   "id": "00593c04",
   "metadata": {},
   "outputs": [],
   "source": [
    "fi = open(\"c:/Users/Hello/Desktop/Dekho4.txt\",'r+') "
   ]
  },
  {
   "cell_type": "code",
   "execution_count": 157,
   "id": "8ba9456a",
   "metadata": {},
   "outputs": [
    {
     "data": {
      "text/plain": [
       "2"
      ]
     },
     "execution_count": 157,
     "metadata": {},
     "output_type": "execute_result"
    }
   ],
   "source": [
    "fi.write(\"no\") #This will add it at the last"
   ]
  },
  {
   "cell_type": "code",
   "execution_count": 160,
   "id": "cfbc52a2",
   "metadata": {},
   "outputs": [
    {
     "data": {
      "text/plain": [
       "0"
      ]
     },
     "execution_count": 160,
     "metadata": {},
     "output_type": "execute_result"
    }
   ],
   "source": [
    "fi.seek(0)"
   ]
  },
  {
   "cell_type": "code",
   "execution_count": 161,
   "id": "25ee45d1",
   "metadata": {},
   "outputs": [
    {
     "data": {
      "text/plain": [
       "'usehono'"
      ]
     },
     "execution_count": 161,
     "metadata": {},
     "output_type": "execute_result"
    }
   ],
   "source": [
    "fi.read()   "
   ]
  },
  {
   "cell_type": "code",
   "execution_count": null,
   "id": "1c0353a5",
   "metadata": {},
   "outputs": [],
   "source": []
  },
  {
   "cell_type": "markdown",
   "id": "3468b136",
   "metadata": {},
   "source": [
    "## with word"
   ]
  },
  {
   "cell_type": "code",
   "execution_count": null,
   "id": "278252c5",
   "metadata": {},
   "outputs": [],
   "source": [
    "the help of with word, you can directly close the file without using the close function after finishing the work."
   ]
  },
  {
   "cell_type": "code",
   "execution_count": 166,
   "id": "a9dc9f79",
   "metadata": {},
   "outputs": [],
   "source": [
    "with open(\"c:/Users/Hello/Desktop/Dekho.txt\",\"r\") as f:\n",
    "    f.read()"
   ]
  },
  {
   "cell_type": "code",
   "execution_count": null,
   "id": "46bc1d76",
   "metadata": {},
   "outputs": [],
   "source": []
  },
  {
   "cell_type": "code",
   "execution_count": null,
   "id": "8bca8d80",
   "metadata": {},
   "outputs": [],
   "source": []
  },
  {
   "cell_type": "code",
   "execution_count": null,
   "id": "14036cb1",
   "metadata": {},
   "outputs": [],
   "source": [
    "# Module -> a module is a single file in which all the function is written\n",
    "# Package -> its a collection of modules\n",
    "# Library -> its a collection of packages\n",
    "# Framework -> its a collection of libraries"
   ]
  },
  {
   "cell_type": "code",
   "execution_count": null,
   "id": "36ed0f27",
   "metadata": {},
   "outputs": [],
   "source": [
    "import math\n",
    "\n",
    "math is a module"
   ]
  },
  {
   "cell_type": "code",
   "execution_count": null,
   "id": "af963d59",
   "metadata": {},
   "outputs": [],
   "source": [
    "script=math,random,oe,time,datetime\n",
    "\n",
    "now the script can be called as package"
   ]
  },
  {
   "cell_type": "code",
   "execution_count": null,
   "id": "25cb2e39",
   "metadata": {},
   "outputs": [],
   "source": [
    "panda is a library bcoz it made from a lot of packages"
   ]
  },
  {
   "cell_type": "code",
   "execution_count": null,
   "id": "f73d87fa",
   "metadata": {},
   "outputs": [],
   "source": [
    "import numpy,matplotlib,sklearn,seaborn,plotly,tenserflow are also libraries"
   ]
  },
  {
   "cell_type": "code",
   "execution_count": null,
   "id": "5ccd6432",
   "metadata": {},
   "outputs": [],
   "source": [
    "Django is a framework"
   ]
  },
  {
   "cell_type": "code",
   "execution_count": null,
   "id": "7dd02b16",
   "metadata": {},
   "outputs": [],
   "source": [
    "flask also a framework"
   ]
  },
  {
   "cell_type": "code",
   "execution_count": null,
   "id": "88e42a28",
   "metadata": {},
   "outputs": [],
   "source": [
    "kivy is used in mobile app development and also a framework"
   ]
  },
  {
   "cell_type": "code",
   "execution_count": null,
   "id": "ff5e5e8d",
   "metadata": {},
   "outputs": [],
   "source": [
    "pip=python in packages\n",
    "Que. How can you install library/package/framework in python?\n",
    "Ans. pip install library/package/framework name\n",
    "\n",
    "ex. pip install pandas  <--this type of code is used in editor\n",
    "\n",
    "In jupyter and google colab, you have to write -> !pip install pandas"
   ]
  },
  {
   "cell_type": "code",
   "execution_count": null,
   "id": "07f6d091",
   "metadata": {},
   "outputs": [],
   "source": []
  },
  {
   "cell_type": "code",
   "execution_count": 66,
   "id": "06c4f683",
   "metadata": {},
   "outputs": [
    {
     "data": {
      "application/javascript": [
       "IPython.notebook.set_autosave_interval(120000)"
      ]
     },
     "metadata": {},
     "output_type": "display_data"
    },
    {
     "name": "stdout",
     "output_type": "stream",
     "text": [
      "Autosaving every 120 seconds\n"
     ]
    }
   ],
   "source": [
    "%autosave 120"
   ]
  }
 ],
 "metadata": {
  "kernelspec": {
   "display_name": "Python 3",
   "language": "python",
   "name": "python3"
  },
  "language_info": {
   "codemirror_mode": {
    "name": "ipython",
    "version": 3
   },
   "file_extension": ".py",
   "mimetype": "text/x-python",
   "name": "python",
   "nbconvert_exporter": "python",
   "pygments_lexer": "ipython3",
   "version": "3.9.5"
  }
 },
 "nbformat": 4,
 "nbformat_minor": 5
}
