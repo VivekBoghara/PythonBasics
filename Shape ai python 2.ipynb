{
 "cells": [
  {
   "cell_type": "markdown",
   "id": "8e69eed6",
   "metadata": {},
   "source": [
    "## Tuple \n",
    "\n",
    "1.Data structure\n",
    "2.Immutable\n",
    "3.()\n",
    "4.It allows the duplicacy"
   ]
  },
  {
   "cell_type": "code",
   "execution_count": 7,
   "id": "0857d293",
   "metadata": {},
   "outputs": [],
   "source": [
    "tupi=(\"Apples\",\"Mangoes\",\"Bananas\")"
   ]
  },
  {
   "cell_type": "code",
   "execution_count": 2,
   "id": "657d2cac",
   "metadata": {},
   "outputs": [
    {
     "data": {
      "text/plain": [
       "tuple"
      ]
     },
     "execution_count": 2,
     "metadata": {},
     "output_type": "execute_result"
    }
   ],
   "source": [
    "type(tupi)"
   ]
  },
  {
   "cell_type": "code",
   "execution_count": 3,
   "id": "0f7e9219",
   "metadata": {},
   "outputs": [
    {
     "data": {
      "text/plain": [
       "('Mangoes', 'Bananas')"
      ]
     },
     "execution_count": 3,
     "metadata": {},
     "output_type": "execute_result"
    }
   ],
   "source": [
    "#Access the elements in a Tuple\n",
    "\n",
    "# tupi[1] -> Positive indexing\n",
    "# tupi[-1] -> Negative indexing \n",
    "tupi[1:3]"
   ]
  },
  {
   "cell_type": "markdown",
   "id": "878180f6",
   "metadata": {},
   "source": [
    "If you want to change in the tuple, then do as following:-\n",
    "tuple->list(type casting) ->perform the operation-> change the list into tuple    "
   ]
  },
  {
   "cell_type": "code",
   "execution_count": 1,
   "id": "ed1ed57b",
   "metadata": {},
   "outputs": [
    {
     "data": {
      "text/plain": [
       "tuple"
      ]
     },
     "execution_count": 1,
     "metadata": {},
     "output_type": "execute_result"
    }
   ],
   "source": [
    "tuples=(\"Pear\",)      #for make it tuple, you have to write , after Pear\n",
    "# type(tuples)"
   ]
  },
  {
   "cell_type": "code",
   "execution_count": 3,
   "id": "31a64355",
   "metadata": {},
   "outputs": [],
   "source": [
    "a=(1,2,3,4)\n",
    "b=(2,3,4,5)"
   ]
  },
  {
   "cell_type": "code",
   "execution_count": 4,
   "id": "956c0771",
   "metadata": {
    "scrolled": true
   },
   "outputs": [
    {
     "data": {
      "text/plain": [
       "(1, 2, 3, 4, 2, 3, 4, 5)"
      ]
     },
     "execution_count": 4,
     "metadata": {},
     "output_type": "execute_result"
    }
   ],
   "source": [
    "a+b"
   ]
  },
  {
   "cell_type": "code",
   "execution_count": null,
   "id": "dbb67af3",
   "metadata": {},
   "outputs": [],
   "source": []
  },
  {
   "cell_type": "code",
   "execution_count": 8,
   "id": "da95b04c",
   "metadata": {},
   "outputs": [],
   "source": [
    "#Adding a tuple into a tuple\n",
    "\n",
    "tupi= tupi + tuples\n",
    "     #OR\n",
    "#tupi += tuples    "
   ]
  },
  {
   "cell_type": "code",
   "execution_count": 9,
   "id": "2e332d83",
   "metadata": {},
   "outputs": [
    {
     "data": {
      "text/plain": [
       "('Apples', 'Mangoes', 'Bananas', 'Pear')"
      ]
     },
     "execution_count": 9,
     "metadata": {},
     "output_type": "execute_result"
    }
   ],
   "source": [
    "tupi"
   ]
  },
  {
   "cell_type": "code",
   "execution_count": 10,
   "id": "cfe9a838",
   "metadata": {},
   "outputs": [],
   "source": [
    "tu=(1,2,3,4,5,1,1,2,2,3,2)"
   ]
  },
  {
   "cell_type": "code",
   "execution_count": 12,
   "id": "4de44f87",
   "metadata": {},
   "outputs": [
    {
     "data": {
      "text/plain": [
       "4"
      ]
     },
     "execution_count": 12,
     "metadata": {},
     "output_type": "execute_result"
    }
   ],
   "source": [
    "tu.count(2)   #It tells how many times the element is in the tuple "
   ]
  },
  {
   "cell_type": "code",
   "execution_count": 13,
   "id": "d781fd41",
   "metadata": {},
   "outputs": [
    {
     "data": {
      "text/plain": [
       "1"
      ]
     },
     "execution_count": 13,
     "metadata": {},
     "output_type": "execute_result"
    }
   ],
   "source": [
    "# tu.index(value)    #If we give the value, then it will show at which index this valure is in tuple and it shows the index from left to right\n",
    "tu.index(2)"
   ]
  },
  {
   "cell_type": "markdown",
   "id": "39016829",
   "metadata": {},
   "source": [
    "# Dictionary\n",
    "\n",
    "1.Data Structure\n",
    "2.{}\n",
    "3.key:value, pair\n",
    "4.immutable(keys)\n",
    "5.ordered\n",
    "6.Hetrogeneous"
   ]
  },
  {
   "cell_type": "code",
   "execution_count": 14,
   "id": "c618015b",
   "metadata": {},
   "outputs": [],
   "source": [
    "di={\"Table\":\"A wooden plank or sheet\",\"Table\":\"It is a toy\"}  #If you will write two same keys in dictionary, then it will override the old key with new key"
   ]
  },
  {
   "cell_type": "code",
   "execution_count": 15,
   "id": "45818440",
   "metadata": {},
   "outputs": [
    {
     "data": {
      "text/plain": [
       "{'Table': 'It is a toy'}"
      ]
     },
     "execution_count": 15,
     "metadata": {},
     "output_type": "execute_result"
    }
   ],
   "source": [
    "di"
   ]
  },
  {
   "cell_type": "code",
   "execution_count": 25,
   "id": "34bd9cae",
   "metadata": {},
   "outputs": [],
   "source": [
    "dictio={\"book\":\"Knowledge\",\"Laptop\":\"Elect\",\"Pen\":\"An instrument\"}"
   ]
  },
  {
   "cell_type": "code",
   "execution_count": 13,
   "id": "9ae90976",
   "metadata": {},
   "outputs": [
    {
     "data": {
      "text/plain": [
       "{'book': 'Knowledge', 'Laptop': 'Elect', 'Pen': 'An instrument'}"
      ]
     },
     "execution_count": 13,
     "metadata": {},
     "output_type": "execute_result"
    }
   ],
   "source": [
    "dictio"
   ]
  },
  {
   "cell_type": "markdown",
   "id": "6ec29611",
   "metadata": {},
   "source": [
    "#CRUD\n",
    "\n",
    "C -> create\n",
    "R -> read\n",
    "U -> update\n",
    "D -> delete"
   ]
  },
  {
   "cell_type": "code",
   "execution_count": 17,
   "id": "efabe8fc",
   "metadata": {},
   "outputs": [],
   "source": [
    "asd={\"key\"}"
   ]
  },
  {
   "cell_type": "code",
   "execution_count": 18,
   "id": "f20f56b1",
   "metadata": {},
   "outputs": [
    {
     "data": {
      "text/plain": [
       "set"
      ]
     },
     "execution_count": 18,
     "metadata": {},
     "output_type": "execute_result"
    }
   ],
   "source": [
    "type(asd)"
   ]
  },
  {
   "cell_type": "code",
   "execution_count": 15,
   "id": "8a1431eb",
   "metadata": {},
   "outputs": [],
   "source": [
    "asd2={\"key\": \"value\"}"
   ]
  },
  {
   "cell_type": "code",
   "execution_count": 20,
   "id": "003a0443",
   "metadata": {},
   "outputs": [
    {
     "data": {
      "text/plain": [
       "dict"
      ]
     },
     "execution_count": 20,
     "metadata": {},
     "output_type": "execute_result"
    }
   ],
   "source": [
    "type(asd2)"
   ]
  },
  {
   "cell_type": "code",
   "execution_count": 21,
   "id": "795941b0",
   "metadata": {},
   "outputs": [
    {
     "data": {
      "text/plain": [
       "'Knowledge'"
      ]
     },
     "execution_count": 21,
     "metadata": {},
     "output_type": "execute_result"
    }
   ],
   "source": [
    "dictio[\"book\"]    #finding value as list method"
   ]
  },
  {
   "cell_type": "code",
   "execution_count": 22,
   "id": "ec4c1dc4",
   "metadata": {},
   "outputs": [
    {
     "data": {
      "text/plain": [
       "'Knowledge'"
      ]
     },
     "execution_count": 22,
     "metadata": {},
     "output_type": "execute_result"
    }
   ],
   "source": [
    "dictio.get(\"book\")  #finding value as dict mrthoda"
   ]
  },
  {
   "cell_type": "code",
   "execution_count": 23,
   "id": "09a8907c",
   "metadata": {},
   "outputs": [],
   "source": [
    "dictio[\"book\"]=\"Hello world\"  # -> List concept . You can change the value in dictionary and maybe it will add and update the last index of dictionary in some python old versions"
   ]
  },
  {
   "cell_type": "code",
   "execution_count": 24,
   "id": "955f0a37",
   "metadata": {},
   "outputs": [
    {
     "data": {
      "text/plain": [
       "{'book': 'Hello world', 'Laptop': 'Elect', 'Pen': 'An instrument'}"
      ]
     },
     "execution_count": 24,
     "metadata": {},
     "output_type": "execute_result"
    }
   ],
   "source": [
    "dictio"
   ]
  },
  {
   "cell_type": "code",
   "execution_count": 25,
   "id": "f69a542d",
   "metadata": {},
   "outputs": [],
   "source": [
    "#update()\n",
    "\n",
    "dictio.update({\"Laptop\": \"Micro\"})  #it will update the value of that key and  it will not update the index of the key, the element will stay at the same place"
   ]
  },
  {
   "cell_type": "code",
   "execution_count": 24,
   "id": "33cd8cad",
   "metadata": {},
   "outputs": [
    {
     "data": {
      "text/plain": [
       "{'Laptop': 'Elect', 'Pen': 'An instrument'}"
      ]
     },
     "execution_count": 24,
     "metadata": {},
     "output_type": "execute_result"
    }
   ],
   "source": [
    "dictio"
   ]
  },
  {
   "cell_type": "code",
   "execution_count": null,
   "id": "00cc298f",
   "metadata": {},
   "outputs": [],
   "source": [
    "#Remove in dictionary\n",
    "\n",
    "remove()\n",
    "pop()\n",
    "del"
   ]
  },
  {
   "cell_type": "code",
   "execution_count": null,
   "id": "887f9373",
   "metadata": {},
   "outputs": [],
   "source": [
    "pop(index)\n",
    "pop(key)"
   ]
  },
  {
   "cell_type": "code",
   "execution_count": 22,
   "id": "029a306f",
   "metadata": {},
   "outputs": [
    {
     "data": {
      "text/plain": [
       "'Knowledge'"
      ]
     },
     "execution_count": 22,
     "metadata": {},
     "output_type": "execute_result"
    }
   ],
   "source": [
    "dictio.pop(\"book\")"
   ]
  },
  {
   "cell_type": "code",
   "execution_count": 26,
   "id": "1e0e30dd",
   "metadata": {},
   "outputs": [
    {
     "data": {
      "text/plain": [
       "{'book': 'Knowledge', 'Laptop': 'Elect', 'Pen': 'An instrument'}"
      ]
     },
     "execution_count": 26,
     "metadata": {},
     "output_type": "execute_result"
    }
   ],
   "source": [
    "dictio"
   ]
  },
  {
   "cell_type": "code",
   "execution_count": null,
   "id": "3167127d",
   "metadata": {},
   "outputs": [],
   "source": [
    "#popitem -> It will remove/delete the last element(by default), where as in python version before 3.7, it removes any random item\n",
    "\n",
    "dictio.popitem()"
   ]
  },
  {
   "cell_type": "code",
   "execution_count": 43,
   "id": "ab824755",
   "metadata": {},
   "outputs": [
    {
     "data": {
      "text/plain": [
       "('Pen', 'An instrument')"
      ]
     },
     "execution_count": 43,
     "metadata": {},
     "output_type": "execute_result"
    }
   ],
   "source": [
    "dictio.popitem()  #popitem will remove last element from the dictionary"
   ]
  },
  {
   "cell_type": "code",
   "execution_count": 44,
   "id": "1ebdf70f",
   "metadata": {},
   "outputs": [
    {
     "data": {
      "text/plain": [
       "{'book': 'Hello world'}"
      ]
     },
     "execution_count": 44,
     "metadata": {},
     "output_type": "execute_result"
    }
   ],
   "source": [
    "dictio"
   ]
  },
  {
   "cell_type": "code",
   "execution_count": null,
   "id": "f4a98769",
   "metadata": {},
   "outputs": [],
   "source": []
  },
  {
   "cell_type": "code",
   "execution_count": 27,
   "id": "88db41f9",
   "metadata": {},
   "outputs": [],
   "source": [
    "abcd={\"A\":\"a\",\"B\":\"b\"}"
   ]
  },
  {
   "cell_type": "code",
   "execution_count": 29,
   "id": "70f118c6",
   "metadata": {},
   "outputs": [],
   "source": [
    "abcd.clear()    #This clear will remove all the data from the dictionary"
   ]
  },
  {
   "cell_type": "code",
   "execution_count": 30,
   "id": "52fd26a7",
   "metadata": {},
   "outputs": [
    {
     "data": {
      "text/plain": [
       "{}"
      ]
     },
     "execution_count": 30,
     "metadata": {},
     "output_type": "execute_result"
    }
   ],
   "source": [
    "abcd"
   ]
  },
  {
   "cell_type": "code",
   "execution_count": 31,
   "id": "8e3f3ec6",
   "metadata": {},
   "outputs": [],
   "source": [
    "loop={\"A\":\"a\",\"B\":\"b\"}"
   ]
  },
  {
   "cell_type": "code",
   "execution_count": 32,
   "id": "85d57575",
   "metadata": {},
   "outputs": [
    {
     "data": {
      "text/plain": [
       "dict_keys(['A', 'B'])"
      ]
     },
     "execution_count": 32,
     "metadata": {},
     "output_type": "execute_result"
    }
   ],
   "source": [
    "loop.keys()"
   ]
  },
  {
   "cell_type": "code",
   "execution_count": 33,
   "id": "6ad689af",
   "metadata": {},
   "outputs": [
    {
     "data": {
      "text/plain": [
       "dict_values(['a', 'b'])"
      ]
     },
     "execution_count": 33,
     "metadata": {},
     "output_type": "execute_result"
    }
   ],
   "source": [
    "loop.values()"
   ]
  },
  {
   "cell_type": "code",
   "execution_count": 36,
   "id": "2411d5a7",
   "metadata": {},
   "outputs": [],
   "source": [
    "abcd={}\n",
    "abcd=loop.copy()  #It will copy the dictionary"
   ]
  },
  {
   "cell_type": "code",
   "execution_count": 37,
   "id": "07e39302",
   "metadata": {},
   "outputs": [
    {
     "data": {
      "text/plain": [
       "{'A': 'a', 'B': 'b'}"
      ]
     },
     "execution_count": 37,
     "metadata": {},
     "output_type": "execute_result"
    }
   ],
   "source": [
    "abcd"
   ]
  },
  {
   "cell_type": "code",
   "execution_count": 29,
   "id": "4fb5a0c0",
   "metadata": {},
   "outputs": [],
   "source": [
    "#dic={[\"AWS\",\"GCP\",\"Azure\"]: \"cloud\"}    --> You can't do like that, it will give an error, bcoz dictionary key can't be a list\n",
    "dic={\"python\":{\"Data\":12,\"yept\":34}}"
   ]
  },
  {
   "cell_type": "code",
   "execution_count": 30,
   "id": "b7e17500",
   "metadata": {},
   "outputs": [
    {
     "data": {
      "text/plain": [
       "12"
      ]
     },
     "execution_count": 30,
     "metadata": {},
     "output_type": "execute_result"
    }
   ],
   "source": [
    "dic[\"python\"][\"Data\"]\n",
    "#or\n",
    "dic.get(\"python\").get(\"Data\")"
   ]
  },
  {
   "cell_type": "code",
   "execution_count": null,
   "id": "4f5954a2",
   "metadata": {},
   "outputs": [],
   "source": []
  },
  {
   "cell_type": "code",
   "execution_count": null,
   "id": "22bdaf23",
   "metadata": {},
   "outputs": [],
   "source": []
  },
  {
   "cell_type": "code",
   "execution_count": null,
   "id": "c521f8c1",
   "metadata": {},
   "outputs": [],
   "source": []
  },
  {
   "cell_type": "code",
   "execution_count": null,
   "id": "8b02f7a2",
   "metadata": {},
   "outputs": [],
   "source": []
  },
  {
   "cell_type": "code",
   "execution_count": null,
   "id": "5bd2f83f",
   "metadata": {},
   "outputs": [],
   "source": []
  },
  {
   "cell_type": "code",
   "execution_count": null,
   "id": "e4a86ecd",
   "metadata": {},
   "outputs": [],
   "source": []
  },
  {
   "cell_type": "code",
   "execution_count": null,
   "id": "b73925b3",
   "metadata": {},
   "outputs": [],
   "source": []
  },
  {
   "cell_type": "code",
   "execution_count": null,
   "id": "96cdf4c0",
   "metadata": {},
   "outputs": [],
   "source": []
  },
  {
   "cell_type": "code",
   "execution_count": null,
   "id": "c864b736",
   "metadata": {},
   "outputs": [],
   "source": []
  }
 ],
 "metadata": {
  "kernelspec": {
   "display_name": "Python 3",
   "language": "python",
   "name": "python3"
  },
  "language_info": {
   "codemirror_mode": {
    "name": "ipython",
    "version": 3
   },
   "file_extension": ".py",
   "mimetype": "text/x-python",
   "name": "python",
   "nbconvert_exporter": "python",
   "pygments_lexer": "ipython3",
   "version": "3.9.5"
  }
 },
 "nbformat": 4,
 "nbformat_minor": 5
}
